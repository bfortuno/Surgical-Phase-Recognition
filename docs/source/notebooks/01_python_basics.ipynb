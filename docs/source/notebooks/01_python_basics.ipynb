{
 "cells": [
  {
   "cell_type": "markdown",
   "metadata": {},
   "source": [
    "**Filled notebook:** \n",
    "[![View filled on Github](https://img.shields.io/static/v1.svg?logo=github&label=Repo&message=View%20On%20Github&color=lightgrey)](https://github.com/phlippe/uvadlc_notebooks/blob/master/docs/tutorial_notebooks/tutorial2/Introduction_to_PyTorch.ipynb)\n",
    "[![Open filled In Collab](https://colab.research.google.com/assets/colab-badge.svg)](https://colab.research.google.com/github/phlippe/uvadlc_notebooks/blob/master/docs/tutorial_notebooks/tutorial2/Introduction_to_PyTorch.ipynb)    \n",
    "**Author:** Benjamin Fortuno"
   ]
  },
  {
   "cell_type": "code",
   "execution_count": null,
   "metadata": {},
   "outputs": [],
   "source": [
    "import csv\n",
    "\n",
    "def read_csv(file_path):\n",
    "    data = []\n",
    "    with open(file_path, mode='r') as file:\n",
    "        csv_reader = csv.reader(file)\n",
    "        header = next(csv_reader)\n",
    "        for row in csv_reader:\n",
    "            data.append([float(i) for i in row])\n",
    "    return header, data\n",
    "\n",
    "def compute_statistics(data):\n",
    "    statistics = {}\n",
    "    for i in range(len(data[0])):\n",
    "        column_data = [row[i] for row in data]\n",
    "        statistics[i] = {\n",
    "            'mean': sum(column_data) / len(column_data),\n",
    "            'max': max(column_data),\n",
    "            'min': min(column_data)\n",
    "        }\n",
    "    return statistics\n",
    "\n",
    "file_path = 'data.csv'  # Replace with your CSV file path\n",
    "header, data = read_csv(file_path)\n",
    "statistics = compute_statistics(data)\n",
    "\n",
    "for i, stat in statistics.items():\n",
    "    print(f\"Column: {header[i]}\")\n",
    "    print(f\"Mean: {stat['mean']}\")\n",
    "    print(f\"Max: {stat['max']}\")\n",
    "    print(f\"Min: {stat['min']}\")\n",
    "    print()"
   ]
  }
 ],
 "metadata": {
  "language_info": {
   "name": "python"
  }
 },
 "nbformat": 4,
 "nbformat_minor": 2
}
