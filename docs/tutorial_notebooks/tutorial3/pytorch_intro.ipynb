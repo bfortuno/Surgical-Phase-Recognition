{
 "cells": [
  {
   "cell_type": "markdown",
   "id": "1750d835",
   "metadata": {},
   "source": [
    "# 3. 📌 Introduction to PyTorch\n",
    "\n",
    "![Status](https://img.shields.io/static/v1.svg?label=Status&message=Finished&color=green)\n",
    "\n",
    "**Filled notebook:** \n",
    "[![View filled on Github](https://img.shields.io/static/v1.svg?logo=github&label=Repo&message=View%20On%20Github&color=lightgrey)](https://github.com/bfortuno/Surgical-Phase-Recognition/blob/main/docs/tutorial_notebooks/tutorial3/pytorch_intro.ipynb)\n",
    "[![Open filled In Collab](https://colab.research.google.com/assets/colab-badge.svg)](https://colab.research.google.com/github/bfortuno/Surgical-Phase-Recognition/blob/main/docs/tutorial_notebooks/tutorial3/pytorch_intro.ipynb)    \n",
    "**Author:** Benjamin I. Fortuno"
   ]
  },
  {
   "cell_type": "markdown",
   "id": "246dd75b",
   "metadata": {},
   "source": [
    "This notebook provides a comprehensive introduction to PyTorch, covering:\n",
    "- 🔢 Tensor creation and operations\n",
    "- 📏 Reshaping and slicing\n",
    "- ⚡ Matrix operations\n",
    "- 🎯 Automatic differentiation with `autograd`\n",
    "- 📈 Visualization of computation graphs\n",
    "\n",
    "By the end of this notebook, you'll be comfortable using PyTorch for basic computations and setting up gradients for deep learning models."
   ]
  },
  {
   "cell_type": "markdown",
   "id": "11360d8f",
   "metadata": {},
   "source": [
    "## 🛠️ Setting Up PyTorch"
   ]
  },
  {
   "cell_type": "code",
   "execution_count": 2,
   "id": "95e5b530",
   "metadata": {},
   "outputs": [
    {
     "name": "stdout",
     "output_type": "stream",
     "text": [
      "Using device: cpu\n"
     ]
    }
   ],
   "source": [
    "import torch\n",
    "import numpy as np\n",
    "import time\n",
    "\n",
    "# Check if GPU is available\n",
    "device = torch.device(\"cuda\" if torch.cuda.is_available() else \"cpu\")\n",
    "print(f\"Using device: {device}\")"
   ]
  },
  {
   "cell_type": "markdown",
   "id": "9a1ffe02",
   "metadata": {},
   "source": [
    "## 🔢 Creating and Manipulating Tensors\n",
    "Tensors are similar to NumPy arrays but come with GPU acceleration and automatic differentiation."
   ]
  },
  {
   "cell_type": "code",
   "execution_count": 3,
   "id": "48ca89ee",
   "metadata": {},
   "outputs": [
    {
     "name": "stdout",
     "output_type": "stream",
     "text": [
      "Tensor x: tensor([[1., 2.],\n",
      "        [3., 4.]]) \n",
      "\n",
      "Random Tensor y: tensor([[0.1730, 0.2274],\n",
      "        [0.9773, 0.5024]]) \n",
      "\n",
      "Zero Tensor: tensor([[0., 0., 0.],\n",
      "        [0., 0., 0.],\n",
      "        [0., 0., 0.]]) \n",
      "\n",
      "Ones Tensor: tensor([[1., 1., 1.],\n",
      "        [1., 1., 1.],\n",
      "        [1., 1., 1.]])\n"
     ]
    }
   ],
   "source": [
    "# Creating different types of tensors\n",
    "x = torch.tensor([[1, 2], [3, 4]], dtype=torch.float32, device=device)\n",
    "y = torch.rand((2,2), device=device)  # Random tensor\n",
    "z = torch.zeros((3,3), device=device)  # Zero tensor\n",
    "ones = torch.ones((3,3), device=device)  # Ones tensor\n",
    "\n",
    "print(\"Tensor x:\", x, \"\\n\")\n",
    "print(\"Random Tensor y:\", y, \"\\n\")\n",
    "print(\"Zero Tensor:\", z, \"\\n\")\n",
    "print(\"Ones Tensor:\", ones)"
   ]
  },
  {
   "cell_type": "markdown",
   "id": "8e653380",
   "metadata": {},
   "source": [
    "### 📏 Tensor Shapes and Reshaping"
   ]
  },
  {
   "cell_type": "code",
   "execution_count": 4,
   "id": "140c7b29",
   "metadata": {},
   "outputs": [
    {
     "name": "stdout",
     "output_type": "stream",
     "text": [
      "Original Shape: torch.Size([2, 2])\n",
      "Reshaped Tensor:\n",
      "tensor([[1.],\n",
      "        [2.],\n",
      "        [3.],\n",
      "        [4.]])\n"
     ]
    }
   ],
   "source": [
    "# Reshaping tensors\n",
    "x_reshaped = x.view(4, 1)  # Change shape to (4,1)\n",
    "print(\"Original Shape:\", x.shape)\n",
    "print(\"Reshaped Tensor:\")\n",
    "print(x_reshaped)"
   ]
  },
  {
   "cell_type": "markdown",
   "id": "7b9807cd",
   "metadata": {},
   "source": [
    "### 🎭 Indexing and Slicing Tensors"
   ]
  },
  {
   "cell_type": "code",
   "execution_count": 5,
   "id": "ef0cd428",
   "metadata": {},
   "outputs": [
    {
     "name": "stdout",
     "output_type": "stream",
     "text": [
      "Original Tensor: tensor([0, 1, 2, 3, 4, 5, 6, 7, 8, 9])\n",
      "First element: tensor(0)\n",
      "Last element: tensor(9)\n",
      "First 5 elements: tensor([0, 1, 2, 3, 4])\n",
      "Elements from index 3 to 7: tensor([3, 4, 5, 6, 7])\n"
     ]
    }
   ],
   "source": [
    "# Indexing tensors\n",
    "tensor = torch.arange(10)\n",
    "print(\"Original Tensor:\", tensor)\n",
    "\n",
    "# Accessing elements\n",
    "print(\"First element:\", tensor[0])\n",
    "print(\"Last element:\", tensor[-1])\n",
    "\n",
    "# Slicing\n",
    "print(\"First 5 elements:\", tensor[:5])\n",
    "print(\"Elements from index 3 to 7:\", tensor[3:8])"
   ]
  },
  {
   "cell_type": "markdown",
   "id": "49798afc",
   "metadata": {},
   "source": [
    "### ⚡ Matrix Operations"
   ]
  },
  {
   "cell_type": "code",
   "execution_count": 6,
   "id": "dcbbc027",
   "metadata": {},
   "outputs": [
    {
     "name": "stdout",
     "output_type": "stream",
     "text": [
      "Matrix Multiplication:\n",
      "tensor([[ 7., 10.],\n",
      "        [15., 22.]])\n"
     ]
    }
   ],
   "source": [
    "# Matrix multiplication\n",
    "dot_result = torch.mm(x, x)\n",
    "print(\"Matrix Multiplication:\")\n",
    "print(dot_result)"
   ]
  },
  {
   "cell_type": "markdown",
   "id": "f72ee322",
   "metadata": {},
   "source": [
    "### 🔢 Advanced Tensor Operations\n",
    "Understanding advanced tensor operations helps in optimizing computations and reducing code complexity."
   ]
  },
  {
   "cell_type": "code",
   "execution_count": 7,
   "id": "9bc5c4c5",
   "metadata": {},
   "outputs": [
    {
     "name": "stdout",
     "output_type": "stream",
     "text": [
      "Stacked Tensor Shape: torch.Size([2, 3, 3])\n",
      "Concatenated Tensor Shape: torch.Size([6, 3])\n"
     ]
    }
   ],
   "source": [
    "# Stacking and Concatenation\n",
    "a = torch.rand((3, 3))                      # Random 3x3 tensor\n",
    "b = torch.rand((3, 3))                      # Random 3x3 tensor\n",
    "stacked = torch.stack((a, b))               # Stack along a new dimension\n",
    "concatenated = torch.cat((a, b), dim=0)     # Concatenate along an existing dimension\n",
    "\n",
    "print(\"Stacked Tensor Shape:\", stacked.shape)\n",
    "print(\"Concatenated Tensor Shape:\", concatenated.shape)"
   ]
  },
  {
   "cell_type": "markdown",
   "id": "9ae66b83",
   "metadata": {},
   "source": [
    "## 🎯 Automatic Differentiation with Autograd\n",
    "PyTorch's `autograd` module enables automatic differentiation for computing gradients in neural networks."
   ]
  },
  {
   "cell_type": "code",
   "execution_count": 8,
   "id": "b97b2e47",
   "metadata": {},
   "outputs": [
    {
     "name": "stdout",
     "output_type": "stream",
     "text": [
      "Function values:\n",
      "tensor([ 68., 134.], grad_fn=<AddBackward0>)\n"
     ]
    }
   ],
   "source": [
    "# Defining tensors with gradient tracking\n",
    "a = torch.tensor([2.0, 3.0], requires_grad=True, device=device)\n",
    "b = torch.tensor([4.0, 5.0], requires_grad=True, device=device)\n",
    "\n",
    "# Define function: f = a^2 + b^3\n",
    "f = a**2 + b**3\n",
    "print(\"Function values:\")\n",
    "print(f)"
   ]
  },
  {
   "cell_type": "code",
   "execution_count": 9,
   "id": "5cbd3e09",
   "metadata": {},
   "outputs": [
    {
     "name": "stdout",
     "output_type": "stream",
     "text": [
      "\n",
      "Gradients:\n",
      "df/da: tensor([4., 6.])\n",
      "df/db: tensor([48., 75.])\n"
     ]
    }
   ],
   "source": [
    "# Compute Gradients\n",
    "f.backward(torch.tensor([1.0, 1.0], device=device))\n",
    "print(\"\\nGradients:\")\n",
    "print(f\"df/da: {a.grad}\")\n",
    "print(f\"df/db: {b.grad}\")"
   ]
  },
  {
   "cell_type": "markdown",
   "id": "89c9aa5d",
   "metadata": {},
   "source": [
    "### 📈 Visualizing Gradients\n",
    "We can visualize the computation graph and gradients using PyTorch's `torchviz` package."
   ]
  },
  {
   "cell_type": "code",
   "execution_count": 10,
   "id": "499ac223",
   "metadata": {},
   "outputs": [
    {
     "data": {
      "image/png": "[encoded data removed]",
      "text/plain": [
       "<IPython.core.display.Image object>"
      ]
     },
     "metadata": {},
     "output_type": "display_data"
    }
   ],
   "source": [
    "from torchviz import make_dot\n",
    "from IPython.display import Image\n",
    "\n",
    "dot_graph = make_dot(f, params={'a': a, 'b': b})  # Create graph\n",
    "dot_graph.render(\"computation_graph\", format=\"png\")  # Save as PNG\n",
    "\n",
    "# Display inline in Jupyter\n",
    "display(Image(filename=\"computation_graph.png\"))\n"
   ]
  },
  {
   "cell_type": "markdown",
   "id": "4b93d4f3",
   "metadata": {},
   "source": [
    "## 🚀 GPU Acceleration\n",
    "Using GPUs can significantly speed up AI computations, especially when training deep learning models."
   ]
  },
  {
   "cell_type": "code",
   "execution_count": 11,
   "id": "ef67c5de",
   "metadata": {},
   "outputs": [
    {
     "name": "stdout",
     "output_type": "stream",
     "text": [
      "No GPU available. Skipping computation speed comparison.\n"
     ]
    }
   ],
   "source": [
    "# Run this cell if GPU is available\n",
    "if device == torch.device(\"cuda\"):\n",
    "    # Comparing CPU vs GPU computation speed\n",
    "    x_cpu = torch.rand((10000, 10000))\n",
    "    x_gpu = x_cpu.to(device)\n",
    "\n",
    "    # Measure time on CPU\n",
    "    start_cpu = time.time()\n",
    "    y_cpu = x_cpu * x_cpu\n",
    "    end_cpu = time.time()\n",
    "\n",
    "    # Measure time on GPU\n",
    "    start_gpu = time.time()\n",
    "    y_gpu = x_gpu * x_gpu\n",
    "    torch.cuda.synchronize()\n",
    "    end_gpu = time.time()\n",
    "\n",
    "    print(f\"CPU Time: {end_cpu - start_cpu:.5f} sec\")\n",
    "    print(f\"GPU Time: {end_gpu - start_gpu:.5f} sec\")\n",
    "\n",
    "else:\n",
    "    print(\"No GPU available. Skipping computation speed comparison.\")"
   ]
  },
  {
   "cell_type": "markdown",
   "id": "f805b830",
   "metadata": {},
   "source": [
    "## 🏋️ Exercise: Compute Gradients\n",
    "**Task:** Define a new function `g = 3a^3 + 2b^2` and compute its gradients.\n",
    "\n",
    "Try implementing this in the cell below!"
   ]
  },
  {
   "cell_type": "code",
   "execution_count": 12,
   "id": "47343e01",
   "metadata": {},
   "outputs": [],
   "source": [
    "# TODO: Define g = 3a^3 + 2b^2 and compute gradients"
   ]
  },
  {
   "cell_type": "markdown",
   "id": "1305c653",
   "metadata": {},
   "source": [
    "## 🏁 Summary\n",
    "- ✅ Learned how to create and manipulate tensors\n",
    "- ✅ Performed basic mathematical operations\n",
    "- ✅ Explored automatic differentiation with `autograd`\n",
    "- ✅ Visualized computation graphs\n",
    "\n",
    "PyTorch is a powerful tool for deep learning, and mastering these fundamentals will help you in future projects! 🚀"
   ]
  }
 ],
 "metadata": {
  "kernelspec": {
   "display_name": "trien_project",
   "language": "python",
   "name": "python3"
  },
  "language_info": {
   "codemirror_mode": {
    "name": "ipython",
    "version": 3
   },
   "file_extension": ".py",
   "mimetype": "text/x-python",
   "name": "python",
   "nbconvert_exporter": "python",
   "pygments_lexer": "ipython3",
   "version": "3.10.6"
  }
 },
 "nbformat": 4,
 "nbformat_minor": 5
}
