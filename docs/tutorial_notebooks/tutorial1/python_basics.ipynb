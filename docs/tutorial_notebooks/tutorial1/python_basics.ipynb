{
 "cells": [
  {
   "cell_type": "markdown",
   "metadata": {},
   "source": [
    "# Week 1: Introduction to Python for AI\n",
    "\n",
    "![Status](https://img.shields.io/static/v1.svg?label=Status&message=Finished&color=green)\n",
    "\n",
    "**Filled notebook:** \n",
    "[![View filled on Github](https://img.shields.io/static/v1.svg?logo=github&label=Repo&message=View%20On%20Github&color=lightgrey)](https://github.com/bfortuno/Surgical-Phase-Recognition/blob/main/docs/tutorial_notebooks/tutorial1/python_basics.ipynb)\n",
    "[![Open filled In Collab](https://colab.research.google.com/assets/colab-badge.svg)](https://colab.research.google.com/github/bfortuno/Surgical-Phase-Recognition/blob/main/docs/tutorial_notebooks/tutorial1/python_basics.ipynb)    \n",
    "**Author:** Benjamin I. Fortuno"
   ]
  },
  {
   "cell_type": "code",
   "execution_count": 1,
   "metadata": {},
   "outputs": [
    {
     "name": "stdout",
     "output_type": "stream",
     "text": [
      "Collecting numba\n",
      "  Using cached numba-0.61.0-cp310-cp310-manylinux2014_x86_64.manylinux_2_17_x86_64.whl (3.8 MB)\n",
      "Collecting matplotlib\n",
      "  Using cached matplotlib-3.10.0-cp310-cp310-manylinux_2_17_x86_64.manylinux2014_x86_64.whl (8.6 MB)\n",
      "Collecting numpy\n",
      "  Using cached numpy-2.2.3-cp310-cp310-manylinux_2_17_x86_64.manylinux2014_x86_64.whl (16.4 MB)\n",
      "Collecting pandas\n",
      "  Using cached pandas-2.2.3-cp310-cp310-manylinux_2_17_x86_64.manylinux2014_x86_64.whl (13.1 MB)\n",
      "Collecting llvmlite<0.45,>=0.44.0dev0\n",
      "  Using cached llvmlite-0.44.0-cp310-cp310-manylinux_2_17_x86_64.manylinux2014_x86_64.whl (42.4 MB)\n",
      "Collecting numpy\n",
      "  Using cached numpy-2.1.3-cp310-cp310-manylinux_2_17_x86_64.manylinux2014_x86_64.whl (16.3 MB)\n",
      "Collecting fonttools>=4.22.0\n",
      "  Using cached fonttools-4.56.0-cp310-cp310-manylinux_2_17_x86_64.manylinux2014_x86_64.whl (4.6 MB)\n",
      "Requirement already satisfied: packaging>=20.0 in /home/bfortuno/.pyenv/versions/3.10.6/envs/trien_project/lib/python3.10/site-packages (from matplotlib) (24.2)\n",
      "Collecting kiwisolver>=1.3.1\n",
      "  Using cached kiwisolver-1.4.8-cp310-cp310-manylinux_2_12_x86_64.manylinux2010_x86_64.whl (1.6 MB)\n",
      "Collecting pyparsing>=2.3.1\n",
      "  Using cached pyparsing-3.2.1-py3-none-any.whl (107 kB)\n",
      "Collecting pillow>=8\n",
      "  Using cached pillow-11.1.0-cp310-cp310-manylinux_2_28_x86_64.whl (4.5 MB)\n",
      "Collecting contourpy>=1.0.1\n",
      "  Using cached contourpy-1.3.1-cp310-cp310-manylinux_2_17_x86_64.manylinux2014_x86_64.whl (324 kB)\n",
      "Collecting cycler>=0.10\n",
      "  Using cached cycler-0.12.1-py3-none-any.whl (8.3 kB)\n",
      "Requirement already satisfied: python-dateutil>=2.7 in /home/bfortuno/.pyenv/versions/3.10.6/envs/trien_project/lib/python3.10/site-packages (from matplotlib) (2.9.0.post0)\n",
      "Collecting pytz>=2020.1\n",
      "  Using cached pytz-2025.1-py2.py3-none-any.whl (507 kB)\n",
      "Collecting tzdata>=2022.7\n",
      "  Using cached tzdata-2025.1-py2.py3-none-any.whl (346 kB)\n",
      "Requirement already satisfied: six>=1.5 in /home/bfortuno/.pyenv/versions/3.10.6/envs/trien_project/lib/python3.10/site-packages (from python-dateutil>=2.7->matplotlib) (1.17.0)\n",
      "Installing collected packages: pytz, tzdata, pyparsing, pillow, numpy, llvmlite, kiwisolver, fonttools, cycler, pandas, numba, contourpy, matplotlib\n",
      "Successfully installed contourpy-1.3.1 cycler-0.12.1 fonttools-4.56.0 kiwisolver-1.4.8 llvmlite-0.44.0 matplotlib-3.10.0 numba-0.61.0 numpy-2.1.3 pandas-2.2.3 pillow-11.1.0 pyparsing-3.2.1 pytz-2025.1 tzdata-2025.1\n",
      "\n",
      "\u001b[1m[\u001b[0m\u001b[34;49mnotice\u001b[0m\u001b[1;39;49m]\u001b[0m\u001b[39;49m A new release of pip available: \u001b[0m\u001b[31;49m22.2.1\u001b[0m\u001b[39;49m -> \u001b[0m\u001b[32;49m25.0.1\u001b[0m\n",
      "\u001b[1m[\u001b[0m\u001b[34;49mnotice\u001b[0m\u001b[1;39;49m]\u001b[0m\u001b[39;49m To update, run: \u001b[0m\u001b[32;49mpip install --upgrade pip\u001b[0m\n",
      "Note: you may need to restart the kernel to use updated packages.\n"
     ]
    }
   ],
   "source": [
    "%pip install numba matplotlib numpy pandas"
   ]
  },
  {
   "cell_type": "markdown",
   "metadata": {
    "id": "ce97q1ZcBiwj"
   },
   "source": [
    "## Introduction\n",
    "\n",
    "This notebook and accompanying webinar was developed and released by the [enDAQ team](https://endaq.com/). This is the second \"chapter\" of our series on *Python for Mechanical Engineers*:\n",
    "1. [Get Started with Python](https://colab.research.google.com/drive/1_pcGtgJleapV9tz5WfuRuqfWryjqhPHy#scrollTo=ikUJITDDIp19)\n",
    "  * Blog: [Get Started with Python: Why and How Mechanical Engineers Should Make the Switch](https://blog.endaq.com/get-started-with-python-why-how-mechanical-engineers-should-make-the-switch)\n",
    "2. **Introduction to Numpy & Pandas**\n",
    "  * [Watch Recording of This](https://info.endaq.com/pandas-and-numpy-for-data-analysis-webinar)\n",
    "3. [Introduction to Plotly](https://colab.research.google.com/drive/1pag2pKQQW5amWgRykAH8uMAPqHA2yUfU?usp=sharing)\n",
    "4. [Introduction of the enDAQ Library](https://colab.research.google.com/drive/1WAtQ8JJC_ny0fki7eUABACMA-isZzKB6)\n",
    "\n",
    "To sign up for future webinars and watch previous ones, [visit our webinars page](https://endaq.com/pages/shock-vibration-webinars)."
   ]
  },
  {
   "cell_type": "markdown",
   "metadata": {
    "id": "lZPDu150sQbm"
   },
   "source": [
    "## Recap of Python Introduction\n",
    "\n",
    "1. Python is popular for good reason\n",
    "2. There are many ways to interact with Python\n",
    "  * Here we are in Google Colab based on Jupyter Notebooks\n",
    "3. There are many open source libraries to use\n",
    "  * Today we are covering two of the most popular:\n",
    "    * Numpy\n",
    "    * Pandas"
   ]
  },
  {
   "cell_type": "markdown",
   "metadata": {
    "id": "WOyh91ABBlc3"
   },
   "source": [
    "## NumPy\n",
    "\n",
    "NumPy provides an in depth overview of [what exactly NumPy is](https://numpy.org/doc/stable/user/whatisnumpy.html). Quoting them:\n",
    ">*At the core of the NumPy package, is the ndarray object. This encapsulates n-dimensional arrays of homogeneous data types, with many operations being performed in compiled code for performance.*\n",
    "\n",
    "Let's get started by importing it, typically shortened to `np` because of how frequently it's called. This will come standard in most Python distributions such as Anaconda. If you need to install it simply:\n",
    "~~~\n",
    "!pip install numpy\n",
    "~~~"
   ]
  },
  {
   "cell_type": "code",
   "execution_count": 2,
   "metadata": {
    "id": "VLP6WeFY8UWo"
   },
   "outputs": [],
   "source": [
    "import numpy as np"
   ]
  },
  {
   "cell_type": "markdown",
   "metadata": {
    "id": "WrQ0eAG8CBqG"
   },
   "source": [
    "## Creating Arrays"
   ]
  },
  {
   "cell_type": "markdown",
   "metadata": {
    "id": "_S1VR75hIAUM"
   },
   "source": [
    "### Manually or from Lists\n",
    "Manually create a list and demonstrate that operations on that list are difficult."
   ]
  },
  {
   "cell_type": "code",
   "execution_count": 3,
   "metadata": {
    "colab": {
     "base_uri": "https://localhost:8080/"
    },
    "id": "RFL-_fg5IDeg",
    "outputId": "373c2282-92f1-4dab-b75f-55fcf5764575"
   },
   "outputs": [
    {
     "data": {
      "text/plain": [
       "[0, 1, 2, 3, 0, 1, 2, 3]"
      ]
     },
     "execution_count": 3,
     "metadata": {},
     "output_type": "execute_result"
    }
   ],
   "source": [
    "lst = [0, 1, 2, 3]\n",
    "lst * 2"
   ]
  },
  {
   "cell_type": "markdown",
   "metadata": {
    "id": "nXhiXAjgIbdc"
   },
   "source": [
    "That isn't what we expected! For lists, we need to loop through all elements to apply a function to them which can be incredibly time consuming."
   ]
  },
  {
   "cell_type": "code",
   "execution_count": 4,
   "metadata": {
    "colab": {
     "base_uri": "https://localhost:8080/"
    },
    "id": "zMQ03IPWIS7S",
    "outputId": "f1ba686c-6261-408a-aae7-ea49e83e9141"
   },
   "outputs": [
    {
     "data": {
      "text/plain": [
       "[0, 2, 4, 6]"
      ]
     },
     "execution_count": 4,
     "metadata": {},
     "output_type": "execute_result"
    }
   ],
   "source": [
    "[i * 2 for i in lst]"
   ]
  },
  {
   "cell_type": "markdown",
   "metadata": {
    "id": "B-kxWUb6Ipf4"
   },
   "source": [
    "Now lets make a numpy array and once in an array, let's show how intuitive operations are now that they are performed element by element."
   ]
  },
  {
   "cell_type": "code",
   "execution_count": 5,
   "metadata": {
    "colab": {
     "base_uri": "https://localhost:8080/"
    },
    "id": "qkFeoqrRIn-r",
    "outputId": "c62abf15-989d-4a01-cdb3-8b8af8c8fd5e"
   },
   "outputs": [
    {
     "name": "stdout",
     "output_type": "stream",
     "text": [
      "[0 1 2 3]\n",
      "[0 2 4 6]\n",
      "[2 3 4 5]\n"
     ]
    }
   ],
   "source": [
    "array = np.array(lst)\n",
    "print(array)\n",
    "print(array * 2)\n",
    "print(array + 2)"
   ]
  },
  {
   "cell_type": "markdown",
   "metadata": {
    "id": "iL3RZxhbIf4I"
   },
   "source": [
    "Let's create a 2D matrix of 32 bit floats."
   ]
  },
  {
   "cell_type": "code",
   "execution_count": 6,
   "metadata": {
    "colab": {
     "base_uri": "https://localhost:8080/"
    },
    "id": "DLQY2HN_JdcB",
    "outputId": "d4a0c081-676a-43a9-b08d-84f33a613170"
   },
   "outputs": [
    {
     "data": {
      "text/plain": [
       "array([[1., 0., 0.],\n",
       "       [0., 1., 0.],\n",
       "       [0., 0., 1.]], dtype=float32)"
      ]
     },
     "execution_count": 6,
     "metadata": {},
     "output_type": "execute_result"
    }
   ],
   "source": [
    "np.array([[1, 0, 0],\n",
    "          [0, 1, 0],\n",
    "          [0, 0, 1]], dtype=np.float32)"
   ]
  },
  {
   "cell_type": "markdown",
   "metadata": {
    "id": "-Nuet-s2Jd3q"
   },
   "source": [
    "### Using Functions\n",
    "\n",
    "We'll go through a few here, but for more in depth examples and options see NumPy's [Array Creation Routines](https://numpy.org/doc/stable/reference/routines.array-creation.html). These first few examples are for very basic arrays/matrices."
   ]
  },
  {
   "cell_type": "code",
   "execution_count": 7,
   "metadata": {
    "colab": {
     "base_uri": "https://localhost:8080/"
    },
    "id": "CQyecbfVL3F9",
    "outputId": "fb2c7665-6da1-4299-c57d-2cd26348b699"
   },
   "outputs": [
    {
     "data": {
      "text/plain": [
       "array([0., 0., 0., 0., 0.])"
      ]
     },
     "execution_count": 7,
     "metadata": {},
     "output_type": "execute_result"
    }
   ],
   "source": [
    "np.zeros(5)"
   ]
  },
  {
   "cell_type": "code",
   "execution_count": 8,
   "metadata": {
    "colab": {
     "base_uri": "https://localhost:8080/"
    },
    "id": "1TP42y0nL5iq",
    "outputId": "49751d7a-31ca-4205-e2ca-1e4abd980a7a"
   },
   "outputs": [
    {
     "data": {
      "text/plain": [
       "array([[0., 0., 0.],\n",
       "       [0., 0., 0.]])"
      ]
     },
     "execution_count": 8,
     "metadata": {},
     "output_type": "execute_result"
    }
   ],
   "source": [
    "np.zeros([2, 3])"
   ]
  },
  {
   "cell_type": "code",
   "execution_count": 9,
   "metadata": {
    "colab": {
     "base_uri": "https://localhost:8080/"
    },
    "id": "22P2Xf2aL-T8",
    "outputId": "797a529d-9e08-48e5-cddb-ada72817ed66"
   },
   "outputs": [
    {
     "data": {
      "text/plain": [
       "array([[1., 0., 0.],\n",
       "       [0., 1., 0.],\n",
       "       [0., 0., 1.]])"
      ]
     },
     "execution_count": 9,
     "metadata": {},
     "output_type": "execute_result"
    }
   ],
   "source": [
    "np.eye(3)"
   ]
  },
  {
   "cell_type": "markdown",
   "metadata": {
    "id": "Dhn3g-dkxZY6"
   },
   "source": [
    "Now let's start making sequences."
   ]
  },
  {
   "cell_type": "code",
   "execution_count": 10,
   "metadata": {
    "colab": {
     "base_uri": "https://localhost:8080/"
    },
    "id": "vVFX3uuD-E0G",
    "outputId": "37e76848-9dee-4296-f453-e531243fd469"
   },
   "outputs": [
    {
     "data": {
      "text/plain": [
       "array([0, 1, 2, 3, 4, 5, 6, 7, 8, 9])"
      ]
     },
     "execution_count": 10,
     "metadata": {},
     "output_type": "execute_result"
    }
   ],
   "source": [
    "np.arange(10)"
   ]
  },
  {
   "cell_type": "code",
   "execution_count": 11,
   "metadata": {
    "colab": {
     "base_uri": "https://localhost:8080/"
    },
    "id": "-ZkTkdK5EtRg",
    "outputId": "dc486237-4d77-4be8-f2b8-89fad6726b5b"
   },
   "outputs": [
    {
     "data": {
      "text/plain": [
       "array([0, 1, 2, 3, 4, 5, 6, 7, 8, 9])"
      ]
     },
     "execution_count": 11,
     "metadata": {},
     "output_type": "execute_result"
    }
   ],
   "source": [
    "np.arange(0,  #start\n",
    "          10) #stop (not included in array)"
   ]
  },
  {
   "cell_type": "code",
   "execution_count": 12,
   "metadata": {
    "colab": {
     "base_uri": "https://localhost:8080/"
    },
    "id": "a5OIfwPN-O48",
    "outputId": "b4768962-0028-469d-c194-af02dd98f1a7"
   },
   "outputs": [
    {
     "data": {
      "text/plain": [
       "array([0, 2, 4, 6, 8])"
      ]
     },
     "execution_count": 12,
     "metadata": {},
     "output_type": "execute_result"
    }
   ],
   "source": [
    "np.arange(0,  #start\n",
    "          10, #stop (not included in array)\n",
    "          2)  #step size"
   ]
  },
  {
   "cell_type": "code",
   "execution_count": 13,
   "metadata": {
    "colab": {
     "base_uri": "https://localhost:8080/"
    },
    "id": "yAO2opdCKMVE",
    "outputId": "911b0441-5f17-4886-dfeb-f30150a133ac"
   },
   "outputs": [
    {
     "data": {
      "text/plain": [
       "array([ 0.,  2.,  4.,  6.,  8., 10.])"
      ]
     },
     "execution_count": 13,
     "metadata": {},
     "output_type": "execute_result"
    }
   ],
   "source": [
    "np.linspace(0,  #start\n",
    "            10, #stop (default to be included, can pass in endpoint=False)\n",
    "            6)  #number of data points evenly spaced"
   ]
  },
  {
   "cell_type": "code",
   "execution_count": 14,
   "metadata": {
    "colab": {
     "base_uri": "https://localhost:8080/"
    },
    "id": "x0xigPrOK4Y1",
    "outputId": "f2f023ee-94f7-44da-a7b1-7b7bc89dc776"
   },
   "outputs": [
    {
     "data": {
      "text/plain": [
       "array([   1.,   10.,  100., 1000.])"
      ]
     },
     "execution_count": 14,
     "metadata": {},
     "output_type": "execute_result"
    }
   ],
   "source": [
    "np.logspace(0, #output starts being raised to this value\n",
    "            3, #ending raised value\n",
    "            4) #number of data points"
   ]
  },
  {
   "cell_type": "markdown",
   "metadata": {
    "id": "cv0nw1SnLb5x"
   },
   "source": [
    "Logspace is the equivalent of rasing a base by a linspaced array."
   ]
  },
  {
   "cell_type": "code",
   "execution_count": 15,
   "metadata": {
    "colab": {
     "base_uri": "https://localhost:8080/"
    },
    "id": "J3txdCX2LTjy",
    "outputId": "de2c4c21-ea5d-4bb3-9b5f-ebc1b138357f"
   },
   "outputs": [
    {
     "data": {
      "text/plain": [
       "array([   1.,   10.,  100., 1000.])"
      ]
     },
     "execution_count": 15,
     "metadata": {},
     "output_type": "execute_result"
    }
   ],
   "source": [
    "10 ** np.linspace(0,3,4)"
   ]
  },
  {
   "cell_type": "code",
   "execution_count": 16,
   "metadata": {
    "colab": {
     "base_uri": "https://localhost:8080/"
    },
    "id": "Ew2EuHuELa-A",
    "outputId": "30ca9d00-eabb-4826-e6d0-e3d41f262c0d"
   },
   "outputs": [
    {
     "data": {
      "text/plain": [
       "array([ 1.,  2.,  4.,  8., 16.])"
      ]
     },
     "execution_count": 16,
     "metadata": {},
     "output_type": "execute_result"
    }
   ],
   "source": [
    "np.logspace(0, 4, 5, base=2)"
   ]
  },
  {
   "cell_type": "markdown",
   "metadata": {
    "id": "wkVckjCtxl_A"
   },
   "source": [
    "If you don't want to have to do the mental math to know what exponent to raise the values to, you can use geomspace but this only helps for base of 10."
   ]
  },
  {
   "cell_type": "code",
   "execution_count": 17,
   "metadata": {
    "colab": {
     "base_uri": "https://localhost:8080/"
    },
    "id": "ytK6IH_HLnXF",
    "outputId": "bf3d4c46-b54a-4703-e32b-55c3f3d1d4ed"
   },
   "outputs": [
    {
     "data": {
      "text/plain": [
       "array([   1.,   10.,  100., 1000.])"
      ]
     },
     "execution_count": 17,
     "metadata": {},
     "output_type": "execute_result"
    }
   ],
   "source": [
    "np.geomspace(1, 1000, 4)"
   ]
  },
  {
   "cell_type": "markdown",
   "metadata": {
    "id": "DQT4Vdrax8IE"
   },
   "source": [
    "Random numbers!"
   ]
  },
  {
   "cell_type": "code",
   "execution_count": 18,
   "metadata": {
    "colab": {
     "base_uri": "https://localhost:8080/"
    },
    "id": "CNipvh8wMi5t",
    "outputId": "28a12c88-6e3b-4d1f-d571-495db1fcc42b"
   },
   "outputs": [
    {
     "data": {
      "text/plain": [
       "array([0.72191664, 0.68405617, 0.16815853, 0.55749957, 0.5505145 ])"
      ]
     },
     "execution_count": 18,
     "metadata": {},
     "output_type": "execute_result"
    }
   ],
   "source": [
    "np.random.rand(5)"
   ]
  },
  {
   "cell_type": "code",
   "execution_count": 19,
   "metadata": {
    "colab": {
     "base_uri": "https://localhost:8080/"
    },
    "id": "YtcgKwEhMosI",
    "outputId": "e632e6a6-5b74-4b64-a0b8-00c4e94fd72b"
   },
   "outputs": [
    {
     "data": {
      "text/plain": [
       "array([[0.17059897, 0.43885182, 0.0060603 ],\n",
       "       [0.525909  , 0.78923061, 0.25577435]])"
      ]
     },
     "execution_count": 19,
     "metadata": {},
     "output_type": "execute_result"
    }
   ],
   "source": [
    "np.random.rand(2, 3)"
   ]
  },
  {
   "cell_type": "markdown",
   "metadata": {
    "id": "NzxTMPNaCW86"
   },
   "source": [
    "## Indexing\n",
    "\n",
    "Let's first create a simple array."
   ]
  },
  {
   "cell_type": "code",
   "execution_count": 20,
   "metadata": {
    "colab": {
     "base_uri": "https://localhost:8080/"
    },
    "id": "qkWur-4ARuBa",
    "outputId": "b2d0a3a6-2c5a-4e24-e849-5ca49ba53aff"
   },
   "outputs": [
    {
     "data": {
      "text/plain": [
       "array([ 1,  2,  3,  4,  5,  6,  7,  8,  9, 10])"
      ]
     },
     "execution_count": 20,
     "metadata": {},
     "output_type": "execute_result"
    }
   ],
   "source": [
    "array = np.arange(1, 11, 1)\n",
    "array"
   ]
  },
  {
   "cell_type": "markdown",
   "metadata": {
    "id": "FFs20jVcjF2L"
   },
   "source": [
    "Now index the first item."
   ]
  },
  {
   "cell_type": "code",
   "execution_count": 21,
   "metadata": {
    "colab": {
     "base_uri": "https://localhost:8080/"
    },
    "id": "OFCBTk5qTvLp",
    "outputId": "a7f71372-c785-46f5-ea94-3c11437fe9b5"
   },
   "outputs": [
    {
     "data": {
      "text/plain": [
       "np.int64(1)"
      ]
     },
     "execution_count": 21,
     "metadata": {},
     "output_type": "execute_result"
    }
   ],
   "source": [
    "array[0]"
   ]
  },
  {
   "cell_type": "markdown",
   "metadata": {
    "id": "gJFlP9V2jH_A"
   },
   "source": [
    "Index the last item."
   ]
  },
  {
   "cell_type": "code",
   "execution_count": 22,
   "metadata": {
    "colab": {
     "base_uri": "https://localhost:8080/"
    },
    "id": "7Ct2CXINT_HH",
    "outputId": "5571a5f0-e08c-4a1f-cacf-a5158d5691d7"
   },
   "outputs": [
    {
     "data": {
      "text/plain": [
       "np.int64(10)"
      ]
     },
     "execution_count": 22,
     "metadata": {},
     "output_type": "execute_result"
    }
   ],
   "source": [
    "array[-1]"
   ]
  },
  {
   "cell_type": "markdown",
   "metadata": {
    "id": "an9Cc7rejJd-"
   },
   "source": [
    "Grab every 2nd item."
   ]
  },
  {
   "cell_type": "code",
   "execution_count": 23,
   "metadata": {
    "colab": {
     "base_uri": "https://localhost:8080/"
    },
    "id": "Ec6mWL-5UAok",
    "outputId": "5177ffee-2c8d-4b76-b54a-8abdeebca2d3"
   },
   "outputs": [
    {
     "data": {
      "text/plain": [
       "array([1, 3, 5, 7, 9])"
      ]
     },
     "execution_count": 23,
     "metadata": {},
     "output_type": "execute_result"
    }
   ],
   "source": [
    "array[::2]"
   ]
  },
  {
   "cell_type": "markdown",
   "metadata": {
    "id": "H-KRmA9hjMLu"
   },
   "source": [
    "Grab every second item starting at index of 1 (the second value)"
   ]
  },
  {
   "cell_type": "code",
   "execution_count": 24,
   "metadata": {
    "colab": {
     "base_uri": "https://localhost:8080/"
    },
    "id": "Kpwn_NT3UCdR",
    "outputId": "1b19b929-d194-491d-c2c9-15f281b86683"
   },
   "outputs": [
    {
     "data": {
      "text/plain": [
       "array([ 2,  4,  6,  8, 10])"
      ]
     },
     "execution_count": 24,
     "metadata": {},
     "output_type": "execute_result"
    }
   ],
   "source": [
    "array[1::2]"
   ]
  },
  {
   "cell_type": "markdown",
   "metadata": {
    "id": "HgCo96qfjQJM"
   },
   "source": [
    "Start from the second item, going to the 7th but skipping every other. (Our first time using the full `array[start (inclusive): stop (exclusive): step]` array 'slicing' notation)"
   ]
  },
  {
   "cell_type": "code",
   "execution_count": 25,
   "metadata": {
    "colab": {
     "base_uri": "https://localhost:8080/"
    },
    "id": "8q-r1nFgUF5Z",
    "outputId": "cc8fd7bf-887b-4674-88ad-d2e5acde32b5"
   },
   "outputs": [
    {
     "data": {
      "text/plain": [
       "array([2, 4, 6])"
      ]
     },
     "execution_count": 25,
     "metadata": {},
     "output_type": "execute_result"
    }
   ],
   "source": [
    "array[1:6:2]"
   ]
  },
  {
   "cell_type": "markdown",
   "metadata": {
    "id": "O5NAi55AjpE-"
   },
   "source": [
    "Reverse the order."
   ]
  },
  {
   "cell_type": "code",
   "execution_count": 26,
   "metadata": {
    "colab": {
     "base_uri": "https://localhost:8080/"
    },
    "id": "HLv2rpV5jna1",
    "outputId": "9781f215-afc2-4d28-c1bc-83f106176a34"
   },
   "outputs": [
    {
     "data": {
      "text/plain": [
       "array([10,  9,  8,  7,  6,  5,  4,  3,  2,  1])"
      ]
     },
     "execution_count": 26,
     "metadata": {},
     "output_type": "execute_result"
    }
   ],
   "source": [
    "array[::-1]"
   ]
  },
  {
   "cell_type": "markdown",
   "metadata": {
    "id": "IKIl4jfbk6LZ"
   },
   "source": [
    "Boolean operations to index the array."
   ]
  },
  {
   "cell_type": "code",
   "execution_count": 27,
   "metadata": {
    "colab": {
     "base_uri": "https://localhost:8080/"
    },
    "id": "vAbOU4ayUqDD",
    "outputId": "ceece14d-1c76-4610-8dc4-4d652503e9c2"
   },
   "outputs": [
    {
     "data": {
      "text/plain": [
       "array([1, 2, 3, 4])"
      ]
     },
     "execution_count": 27,
     "metadata": {},
     "output_type": "execute_result"
    }
   ],
   "source": [
    "array[array < 5]"
   ]
  },
  {
   "cell_type": "code",
   "execution_count": 28,
   "metadata": {
    "colab": {
     "base_uri": "https://localhost:8080/"
    },
    "id": "kSxUAD5Vk8p9",
    "outputId": "cd032815-3669-4a27-fee3-80f6bd5baf66"
   },
   "outputs": [
    {
     "data": {
      "text/plain": [
       "array([1, 2])"
      ]
     },
     "execution_count": 28,
     "metadata": {},
     "output_type": "execute_result"
    }
   ],
   "source": [
    "array[array * 2 < 5]"
   ]
  },
  {
   "cell_type": "markdown",
   "metadata": {
    "id": "MmlhYRGMhvZg"
   },
   "source": [
    "Integer list can also index arrays."
   ]
  },
  {
   "cell_type": "code",
   "execution_count": 29,
   "metadata": {
    "colab": {
     "base_uri": "https://localhost:8080/"
    },
    "id": "1uUNfzc7huzw",
    "outputId": "0a0aa077-08d3-4f75-a720-67d2073182d5"
   },
   "outputs": [
    {
     "data": {
      "text/plain": [
       "array([2, 4, 6])"
      ]
     },
     "execution_count": 29,
     "metadata": {},
     "output_type": "execute_result"
    }
   ],
   "source": [
    "array[[1,3,5]]"
   ]
  },
  {
   "cell_type": "markdown",
   "metadata": {
    "id": "DlqWdsqqdJT0"
   },
   "source": [
    "Now let's create a slightly more complicated, 2 dimensional array."
   ]
  },
  {
   "cell_type": "code",
   "execution_count": 30,
   "metadata": {
    "colab": {
     "base_uri": "https://localhost:8080/"
    },
    "id": "4Vz5G3PNc2cZ",
    "outputId": "16662c03-c015-4806-8ec3-6be75ea72c6c"
   },
   "outputs": [
    {
     "data": {
      "text/plain": [
       "array([[0, 1, 2, 3, 4],\n",
       "       [5, 6, 7, 8, 9]])"
      ]
     },
     "execution_count": 30,
     "metadata": {},
     "output_type": "execute_result"
    }
   ],
   "source": [
    "array_2d = np.arange(10).reshape((2, 5))\n",
    "array_2d"
   ]
  },
  {
   "cell_type": "markdown",
   "metadata": {
    "id": "k688SAR_iAjf"
   },
   "source": [
    "Indexing the second dimension."
   ]
  },
  {
   "cell_type": "code",
   "execution_count": 31,
   "metadata": {
    "colab": {
     "base_uri": "https://localhost:8080/"
    },
    "id": "WbYDyf-KiJzr",
    "outputId": "139e6975-5656-49e4-9adf-3a17ca561e5d"
   },
   "outputs": [
    {
     "data": {
      "text/plain": [
       "array([1, 6])"
      ]
     },
     "execution_count": 31,
     "metadata": {},
     "output_type": "execute_result"
    }
   ],
   "source": [
    "array_2d[:, 1]"
   ]
  },
  {
   "cell_type": "markdown",
   "metadata": {
    "id": "euR2mj3RiRcl"
   },
   "source": [
    "Any combination of these indexing methods works as well."
   ]
  },
  {
   "cell_type": "code",
   "execution_count": 32,
   "metadata": {
    "colab": {
     "base_uri": "https://localhost:8080/"
    },
    "id": "SW9G--6JiQfp",
    "outputId": "001a5226-7cd0-43bd-a3a3-d39effd809f4"
   },
   "outputs": [
    {
     "data": {
      "text/plain": [
       "array([[1, 3]])"
      ]
     },
     "execution_count": 32,
     "metadata": {},
     "output_type": "execute_result"
    }
   ],
   "source": [
    "array_2d[[True, False], 1::2]"
   ]
  },
  {
   "cell_type": "code",
   "execution_count": 33,
   "metadata": {
    "colab": {
     "base_uri": "https://localhost:8080/"
    },
    "id": "aJqko5CBimsB",
    "outputId": "cb1faf48-1bb1-4220-db95-df40e6972fa3"
   },
   "outputs": [
    {
     "data": {
      "text/plain": [
       "array([5, 6, 9])"
      ]
     },
     "execution_count": 33,
     "metadata": {},
     "output_type": "execute_result"
    }
   ],
   "source": [
    "array_2d[1, [0,1,4]]"
   ]
  },
  {
   "cell_type": "markdown",
   "metadata": {
    "id": "n2mS2VIsCzp8"
   },
   "source": [
    "## Operations"
   ]
  },
  {
   "cell_type": "code",
   "execution_count": 34,
   "metadata": {
    "colab": {
     "base_uri": "https://localhost:8080/"
    },
    "id": "_1Rs1BpJltMH",
    "outputId": "a4a0f90f-df5a-4c50-f184-610bcd66bdb3"
   },
   "outputs": [
    {
     "data": {
      "text/plain": [
       "array([ 1,  2,  3,  4,  5,  6,  7,  8,  9, 10])"
      ]
     },
     "execution_count": 34,
     "metadata": {},
     "output_type": "execute_result"
    }
   ],
   "source": [
    "array"
   ]
  },
  {
   "cell_type": "code",
   "execution_count": 35,
   "metadata": {
    "colab": {
     "base_uri": "https://localhost:8080/"
    },
    "id": "oxc2cNL4lyKw",
    "outputId": "b1e1b39a-64e6-438c-f35b-bbb076fae6c1"
   },
   "outputs": [
    {
     "data": {
      "text/plain": [
       "array([101, 102, 103, 104, 105, 106, 107, 108, 109, 110])"
      ]
     },
     "execution_count": 35,
     "metadata": {},
     "output_type": "execute_result"
    }
   ],
   "source": [
    "array + 100"
   ]
  },
  {
   "cell_type": "code",
   "execution_count": 36,
   "metadata": {
    "colab": {
     "base_uri": "https://localhost:8080/"
    },
    "id": "-N2RQG6Ilo2X",
    "outputId": "1bea148b-72c4-413c-bf8c-5f2cc17d7a37"
   },
   "outputs": [
    {
     "data": {
      "text/plain": [
       "array([ 2,  4,  6,  8, 10, 12, 14, 16, 18, 20])"
      ]
     },
     "execution_count": 36,
     "metadata": {},
     "output_type": "execute_result"
    }
   ],
   "source": [
    "array * 2"
   ]
  },
  {
   "cell_type": "markdown",
   "metadata": {
    "id": "EpuHnkodzQmv"
   },
   "source": [
    "To raise all the elements in an array to an exponent we have to use the notation `**` not `^`."
   ]
  },
  {
   "cell_type": "code",
   "execution_count": 37,
   "metadata": {
    "colab": {
     "base_uri": "https://localhost:8080/"
    },
    "id": "H0pp6Rt-ls7K",
    "outputId": "912abeb5-d74f-4e31-c151-fd449f85feaa"
   },
   "outputs": [
    {
     "data": {
      "text/plain": [
       "array([  1,   4,   9,  16,  25,  36,  49,  64,  81, 100])"
      ]
     },
     "execution_count": 37,
     "metadata": {},
     "output_type": "execute_result"
    }
   ],
   "source": [
    "array ** 2"
   ]
  },
  {
   "cell_type": "markdown",
   "metadata": {
    "id": "ipJ0Ss5Rm2f7"
   },
   "source": [
    "Use that shape to create a new array matching it to do operations with."
   ]
  },
  {
   "cell_type": "code",
   "execution_count": 38,
   "metadata": {
    "colab": {
     "base_uri": "https://localhost:8080/"
    },
    "id": "wX4Rudonl1Xb",
    "outputId": "00f7b08f-7dfe-4748-dafb-0e7ede76d066"
   },
   "outputs": [
    {
     "data": {
      "text/plain": [
       "array([ 0,  5, 10, 15, 20, 25, 30, 35, 40, 45])"
      ]
     },
     "execution_count": 38,
     "metadata": {},
     "output_type": "execute_result"
    }
   ],
   "source": [
    "array2 = np.arange(array.shape[0]) * 5\n",
    "array2"
   ]
  },
  {
   "cell_type": "code",
   "execution_count": 39,
   "metadata": {
    "colab": {
     "base_uri": "https://localhost:8080/"
    },
    "id": "IRvsl8qEl9V3",
    "outputId": "d238cdb2-3630-4fb0-e651-712eb9a36c63"
   },
   "outputs": [
    {
     "data": {
      "text/plain": [
       "array([ 1,  7, 13, 19, 25, 31, 37, 43, 49, 55])"
      ]
     },
     "execution_count": 39,
     "metadata": {},
     "output_type": "execute_result"
    }
   ],
   "source": [
    "array2 + array"
   ]
  },
  {
   "cell_type": "markdown",
   "metadata": {
    "id": "Qex1vdxJnFAC"
   },
   "source": [
    "## Stats of an Array"
   ]
  },
  {
   "cell_type": "code",
   "execution_count": 40,
   "metadata": {
    "colab": {
     "base_uri": "https://localhost:8080/"
    },
    "id": "m6KX660In-f2",
    "outputId": "43020216-077c-4503-fec8-239dff49cff6"
   },
   "outputs": [
    {
     "name": "stdout",
     "output_type": "stream",
     "text": [
      "[ 1  2  3  4  5  6  7  8  9 10]\n",
      "[[0 1 2 3 4]\n",
      " [5 6 7 8 9]]\n"
     ]
    }
   ],
   "source": [
    "print(array)\n",
    "print(array_2d)"
   ]
  },
  {
   "cell_type": "code",
   "execution_count": 41,
   "metadata": {
    "colab": {
     "base_uri": "https://localhost:8080/"
    },
    "id": "9NkWPeaknIj1",
    "outputId": "c51538dd-7c08-4926-8445-0b65e729ed30"
   },
   "outputs": [
    {
     "name": "stdout",
     "output_type": "stream",
     "text": [
      "(10,)\n",
      "(2, 5)\n"
     ]
    }
   ],
   "source": [
    "print(array.shape)\n",
    "print(array_2d.shape)"
   ]
  },
  {
   "cell_type": "code",
   "execution_count": 42,
   "metadata": {
    "colab": {
     "base_uri": "https://localhost:8080/"
    },
    "id": "nPrYLzs_nxgh",
    "outputId": "65d85450-b74a-4d90-8ac4-25bd7e9b71e7"
   },
   "outputs": [
    {
     "name": "stdout",
     "output_type": "stream",
     "text": [
      "10\n",
      "2\n"
     ]
    }
   ],
   "source": [
    "print(len(array))\n",
    "print(len(array_2d))"
   ]
  },
  {
   "cell_type": "code",
   "execution_count": 43,
   "metadata": {
    "colab": {
     "base_uri": "https://localhost:8080/"
    },
    "id": "z8bhAHwFnO_D",
    "outputId": "99546b5c-3606-4713-e29b-7b2a6447e169"
   },
   "outputs": [
    {
     "name": "stdout",
     "output_type": "stream",
     "text": [
      "10\n",
      "9\n"
     ]
    }
   ],
   "source": [
    "print(array.max())\n",
    "print(array_2d.max())"
   ]
  },
  {
   "cell_type": "code",
   "execution_count": 44,
   "metadata": {
    "colab": {
     "base_uri": "https://localhost:8080/"
    },
    "id": "n6SSOUXtnaXc",
    "outputId": "89eb2d31-8edb-45b6-fd94-13ddc0944b20"
   },
   "outputs": [
    {
     "name": "stdout",
     "output_type": "stream",
     "text": [
      "1\n",
      "0\n"
     ]
    }
   ],
   "source": [
    "print(array.min())\n",
    "print(array_2d.min())"
   ]
  },
  {
   "cell_type": "code",
   "execution_count": 45,
   "metadata": {
    "colab": {
     "base_uri": "https://localhost:8080/"
    },
    "id": "zZSRKnF6nbas",
    "outputId": "9cf0ecd3-7abe-4d94-8a64-36c623ff51da"
   },
   "outputs": [
    {
     "data": {
      "text/plain": [
       "np.float64(2.8722813232690143)"
      ]
     },
     "execution_count": 45,
     "metadata": {},
     "output_type": "execute_result"
    }
   ],
   "source": [
    "array.std()"
   ]
  },
  {
   "cell_type": "code",
   "execution_count": 46,
   "metadata": {
    "colab": {
     "base_uri": "https://localhost:8080/"
    },
    "id": "jdMsJndyndOQ",
    "outputId": "6f3d707e-2963-4388-e8ce-f2297df4b6fb"
   },
   "outputs": [
    {
     "data": {
      "text/plain": [
       "array([ 1,  3,  6, 10, 15, 21, 28, 36, 45, 55])"
      ]
     },
     "execution_count": 46,
     "metadata": {},
     "output_type": "execute_result"
    }
   ],
   "source": [
    "array.cumsum()"
   ]
  },
  {
   "cell_type": "code",
   "execution_count": 47,
   "metadata": {
    "colab": {
     "base_uri": "https://localhost:8080/"
    },
    "id": "VRpZYL4YnfUb",
    "outputId": "dfdb683c-ed16-4f16-f9f8-05b173349f08"
   },
   "outputs": [
    {
     "data": {
      "text/plain": [
       "array([      1,       2,       6,      24,     120,     720,    5040,\n",
       "         40320,  362880, 3628800])"
      ]
     },
     "execution_count": 47,
     "metadata": {},
     "output_type": "execute_result"
    }
   ],
   "source": [
    "array.cumprod()"
   ]
  },
  {
   "cell_type": "markdown",
   "metadata": {
    "id": "0nDm77jUm7St"
   },
   "source": [
    "## Constants"
   ]
  },
  {
   "cell_type": "code",
   "execution_count": 48,
   "metadata": {
    "colab": {
     "base_uri": "https://localhost:8080/"
    },
    "id": "aMGMdwaqoXkn",
    "outputId": "68025722-d17c-4c87-e958-40988b6f79ee"
   },
   "outputs": [
    {
     "data": {
      "text/plain": [
       "3.141592653589793"
      ]
     },
     "execution_count": 48,
     "metadata": {},
     "output_type": "execute_result"
    }
   ],
   "source": [
    "np.pi"
   ]
  },
  {
   "cell_type": "code",
   "execution_count": 49,
   "metadata": {
    "colab": {
     "base_uri": "https://localhost:8080/"
    },
    "id": "jLhkYK-zoYo6",
    "outputId": "21e3820a-bb77-41bf-e52e-d648cbc8ff3c"
   },
   "outputs": [
    {
     "data": {
      "text/plain": [
       "2.718281828459045"
      ]
     },
     "execution_count": 49,
     "metadata": {},
     "output_type": "execute_result"
    }
   ],
   "source": [
    "np.e"
   ]
  },
  {
   "cell_type": "code",
   "execution_count": 50,
   "metadata": {
    "colab": {
     "base_uri": "https://localhost:8080/"
    },
    "id": "0H-XpiGNoZgG",
    "outputId": "88623e5a-fcee-4076-81da-b9efda2f3234"
   },
   "outputs": [
    {
     "data": {
      "text/plain": [
       "inf"
      ]
     },
     "execution_count": 50,
     "metadata": {},
     "output_type": "execute_result"
    }
   ],
   "source": [
    "np.inf"
   ]
  },
  {
   "cell_type": "markdown",
   "metadata": {
    "id": "jX-rL5P0ouD6"
   },
   "source": [
    "## Functions"
   ]
  },
  {
   "cell_type": "code",
   "execution_count": 51,
   "metadata": {
    "colab": {
     "base_uri": "https://localhost:8080/"
    },
    "id": "eG1GKzVuovNY",
    "outputId": "eecdf4ad-89b7-447a-e4a8-4a2758af972c"
   },
   "outputs": [
    {
     "data": {
      "text/plain": [
       "np.float64(1.0)"
      ]
     },
     "execution_count": 51,
     "metadata": {},
     "output_type": "execute_result"
    }
   ],
   "source": [
    "np.sin(np.pi / 2)"
   ]
  },
  {
   "cell_type": "code",
   "execution_count": 52,
   "metadata": {
    "colab": {
     "base_uri": "https://localhost:8080/"
    },
    "id": "tWQ3xUExo7Bn",
    "outputId": "ffabcf03-ea44-4f68-dfdc-d3dc16c7ca4b"
   },
   "outputs": [
    {
     "data": {
      "text/plain": [
       "np.float64(-1.0)"
      ]
     },
     "execution_count": 52,
     "metadata": {},
     "output_type": "execute_result"
    }
   ],
   "source": [
    "np.cos(np.pi)"
   ]
  },
  {
   "cell_type": "code",
   "execution_count": 53,
   "metadata": {
    "colab": {
     "base_uri": "https://localhost:8080/"
    },
    "id": "gk6bP-m-o9gC",
    "outputId": "c1b67bd1-1cb5-436c-92db-1ca0263a734f"
   },
   "outputs": [
    {
     "data": {
      "text/plain": [
       "np.float64(1.0)"
      ]
     },
     "execution_count": 53,
     "metadata": {},
     "output_type": "execute_result"
    }
   ],
   "source": [
    "np.log(np.e)"
   ]
  },
  {
   "cell_type": "code",
   "execution_count": 54,
   "metadata": {
    "colab": {
     "base_uri": "https://localhost:8080/"
    },
    "id": "WHZQnDRzpENN",
    "outputId": "0ca8e0ff-f6aa-46ab-c019-057e555ab342"
   },
   "outputs": [
    {
     "data": {
      "text/plain": [
       "np.float64(2.0)"
      ]
     },
     "execution_count": 54,
     "metadata": {},
     "output_type": "execute_result"
    }
   ],
   "source": [
    "np.log10(100)"
   ]
  },
  {
   "cell_type": "code",
   "execution_count": 55,
   "metadata": {
    "colab": {
     "base_uri": "https://localhost:8080/"
    },
    "id": "hAxm918epGJj",
    "outputId": "d2a60bf9-123d-44ca-b875-a0ddd0a25013"
   },
   "outputs": [
    {
     "data": {
      "text/plain": [
       "np.float64(6.0)"
      ]
     },
     "execution_count": 55,
     "metadata": {},
     "output_type": "execute_result"
    }
   ],
   "source": [
    "np.log2(64)"
   ]
  },
  {
   "cell_type": "markdown",
   "metadata": {
    "id": "p8IvjWHkzvlm"
   },
   "source": [
    "To demonstrate rounding, let's first make a new array with decimals."
   ]
  },
  {
   "cell_type": "code",
   "execution_count": 56,
   "metadata": {
    "colab": {
     "base_uri": "https://localhost:8080/"
    },
    "id": "VSJgi2IQpYXa",
    "outputId": "e437c7a9-e4fe-4499-b7ee-b0db39da7eeb"
   },
   "outputs": [
    {
     "name": "stdout",
     "output_type": "stream",
     "text": [
      "[0.         0.33333333 0.66666667 1.        ]\n"
     ]
    },
    {
     "data": {
      "text/plain": [
       "array([0.  , 0.33, 0.67, 1.  ])"
      ]
     },
     "execution_count": 56,
     "metadata": {},
     "output_type": "execute_result"
    }
   ],
   "source": [
    "array = np.arange(4) / 3\n",
    "print(array)\n",
    "np.around(array, 2)"
   ]
  },
  {
   "cell_type": "markdown",
   "metadata": {
    "id": "88VwFdWBCFkC"
   },
   "source": [
    "## Looping vs Vectorization\n",
    "\n",
    "As mentioned in the beginning, NumPy uses machine code with their ndarray objects which is what leads to the performance improvements. Let's demonstrate this by constructing a simple sine wave."
   ]
  },
  {
   "cell_type": "code",
   "execution_count": 57,
   "metadata": {
    "colab": {
     "base_uri": "https://localhost:8080/"
    },
    "id": "mX9awPKn-ZlU",
    "outputId": "29c7994e-1b18-4885-ceea-4f5e363c2c3c"
   },
   "outputs": [
    {
     "data": {
      "text/plain": [
       "(1001,)"
      ]
     },
     "execution_count": 57,
     "metadata": {},
     "output_type": "execute_result"
    }
   ],
   "source": [
    "fs = 500 #sampling rate in Hz\n",
    "d_t = 1 / fs #time steps in seconds\n",
    "n_step = 1000 #number of steps (there will be n_step+1 data points)\n",
    "\n",
    "amp = 1 #amplitude of sine wave\n",
    "f = 2 #frequency of sine wave\n",
    "\n",
    "time = np.linspace(0,             #start time\n",
    "                   n_step * d_t,    #end time\n",
    "                   num=n_step + 1)  #number of data points, one more than the steps to include an endpoint\n",
    "time.shape"
   ]
  },
  {
   "cell_type": "markdown",
   "metadata": {
    "id": "CIKO7e0e0QvP"
   },
   "source": [
    "First we make a function to loop through each element and calculate the amplitude."
   ]
  },
  {
   "cell_type": "code",
   "execution_count": 58,
   "metadata": {
    "id": "wqVZJKtwTB8l"
   },
   "outputs": [],
   "source": [
    "def sine_wave_with_loop(time, amp, f, phase=0):\n",
    "  length = time.shape[0]\n",
    "  wave = np.zeros(length)\n",
    "\n",
    "  for i in range(length-1):\n",
    "    wave[i] = np.sin(2 * np.pi * f * time[i] + phase * np.pi / 180)*amp\n",
    "  return wave"
   ]
  },
  {
   "cell_type": "markdown",
   "metadata": {
    "id": "8nkt7EDc0c3H"
   },
   "source": [
    "Now let's time how quickly that executes for our time array of 1,001 data points."
   ]
  },
  {
   "cell_type": "code",
   "execution_count": 59,
   "metadata": {
    "colab": {
     "base_uri": "https://localhost:8080/"
    },
    "id": "CMwHGKrITpN4",
    "outputId": "950cebd8-3bb5-4062-cbde-15b4b4727eb3"
   },
   "outputs": [
    {
     "name": "stdout",
     "output_type": "stream",
     "text": [
      "1.36 ms ± 110 μs per loop (mean ± std. dev. of 7 runs, 100 loops each)\n"
     ]
    }
   ],
   "source": [
    "%timeit sine_wave_with_loop(time, amp, f)"
   ]
  },
  {
   "cell_type": "markdown",
   "metadata": {
    "id": "g4s7-D_90nNH"
   },
   "source": [
    "Now let's do the same using NumPy's sine function and vectorization."
   ]
  },
  {
   "cell_type": "code",
   "execution_count": 60,
   "metadata": {
    "id": "89xWQJpzAdal"
   },
   "outputs": [],
   "source": [
    "def sine_wave_with_numpy(time, amp, f, phase=0):\n",
    "  \"\"\"Takes in a time array and sine wave parameters, returns an array of the sine wave amplitude.\"\"\"\n",
    "  return np.sin(2 * np.pi * f * time + phase * np.pi / 180) * amp"
   ]
  },
  {
   "cell_type": "markdown",
   "metadata": {
    "id": "6rNJady-0sJp"
   },
   "source": [
    "Notice my docstrings!"
   ]
  },
  {
   "cell_type": "code",
   "execution_count": 61,
   "metadata": {
    "colab": {
     "base_uri": "https://localhost:8080/"
    },
    "id": "AsVkSRvtV3HI",
    "outputId": "c2da90a6-e914-4964-c53b-2f1b2924a1e8"
   },
   "outputs": [
    {
     "name": "stdout",
     "output_type": "stream",
     "text": [
      "Help on function sine_wave_with_numpy in module __main__:\n",
      "\n",
      "sine_wave_with_numpy(time, amp, f, phase=0)\n",
      "    Takes in a time array and sine wave parameters, returns an array of the sine wave amplitude.\n",
      "\n"
     ]
    }
   ],
   "source": [
    "help(sine_wave_with_numpy)"
   ]
  },
  {
   "cell_type": "code",
   "execution_count": 62,
   "metadata": {
    "colab": {
     "base_uri": "https://localhost:8080/"
    },
    "id": "Q5S5fTrw--Z3",
    "outputId": "cb83ee47-de30-4215-9624-9c55571f30ce"
   },
   "outputs": [
    {
     "name": "stdout",
     "output_type": "stream",
     "text": [
      "14.2 μs ± 536 ns per loop (mean ± std. dev. of 7 runs, 100,000 loops each)\n"
     ]
    }
   ],
   "source": [
    "%timeit sine_wave_with_numpy(time, amp, f)"
   ]
  },
  {
   "cell_type": "markdown",
   "metadata": {
    "id": "jtS0wmIyppOW"
   },
   "source": [
    "Using vectorization is about **100x faster!** And this increases the longer the loops are."
   ]
  },
  {
   "cell_type": "markdown",
   "metadata": {
    "id": "KQIddnfwp7t5"
   },
   "source": [
    "### Why Vectorization Works So Much Faster\n",
    "The above example highlights that NumPy is much faster, but why? Because it is using compiled machine code under the hood for it's operations.\n",
    "\n",
    "Python has the [Numba](http://numba.pydata.org/) package which can be used to do this compilation which we will do to highlight just why NumPy is faster (and recommended!)."
   ]
  },
  {
   "cell_type": "code",
   "execution_count": 63,
   "metadata": {
    "id": "cX8PSvkRoJR3"
   },
   "outputs": [],
   "source": [
    "from numba import njit\n",
    "\n",
    "numba_sine_wave_with_loop = njit(sine_wave_with_loop)\n",
    "numba_sine_wave_with_numpy = njit(sine_wave_with_numpy)"
   ]
  },
  {
   "cell_type": "code",
   "execution_count": 64,
   "metadata": {
    "colab": {
     "base_uri": "https://localhost:8080/"
    },
    "id": "T_ckZKtlo1IJ",
    "outputId": "da56b3e6-205c-4da7-8b89-b622903a94e1"
   },
   "outputs": [
    {
     "name": "stdout",
     "output_type": "stream",
     "text": [
      "The slowest run took 6.10 times longer than the fastest. This could mean that an intermediate result is being cached.\n",
      "22.8 μs ± 22.7 μs per loop (mean ± std. dev. of 7 runs, 1 loop each)\n",
      "The slowest run took 4.68 times longer than the fastest. This could mean that an intermediate result is being cached.\n",
      "21.1 μs ± 17.2 μs per loop (mean ± std. dev. of 7 runs, 1 loop each)\n"
     ]
    }
   ],
   "source": [
    "%timeit numba_sine_wave_with_loop(time, amp, f)\n",
    "%timeit numba_sine_wave_with_numpy(time, amp, f)"
   ]
  },
  {
   "cell_type": "markdown",
   "metadata": {
    "id": "Gk0i33QcstPA"
   },
   "source": [
    "Let's combine this into a DataFrame we'll discuss next in more detail, but here's a preview."
   ]
  },
  {
   "cell_type": "code",
   "execution_count": 65,
   "metadata": {
    "colab": {
     "base_uri": "https://localhost:8080/",
     "height": 175
    },
    "id": "U2y5ggCUpEHh",
    "outputId": "b87bf24b-7621-4553-e384-5a0b14bd3035"
   },
   "outputs": [
    {
     "data": {
      "text/html": [
       "<div>\n",
       "<style scoped>\n",
       "    .dataframe tbody tr th:only-of-type {\n",
       "        vertical-align: middle;\n",
       "    }\n",
       "\n",
       "    .dataframe tbody tr th {\n",
       "        vertical-align: top;\n",
       "    }\n",
       "\n",
       "    .dataframe thead th {\n",
       "        text-align: right;\n",
       "    }\n",
       "</style>\n",
       "<table border=\"1\" class=\"dataframe\">\n",
       "  <thead>\n",
       "    <tr style=\"text-align: right;\">\n",
       "      <th></th>\n",
       "      <th>Time (us)</th>\n",
       "      <th>Method</th>\n",
       "      <th>Numba?</th>\n",
       "    </tr>\n",
       "  </thead>\n",
       "  <tbody>\n",
       "    <tr>\n",
       "      <th>0</th>\n",
       "      <td>277.0</td>\n",
       "      <td>Loop</td>\n",
       "      <td>w/o</td>\n",
       "    </tr>\n",
       "    <tr>\n",
       "      <th>1</th>\n",
       "      <td>27.5</td>\n",
       "      <td>NumPy</td>\n",
       "      <td>w/o</td>\n",
       "    </tr>\n",
       "    <tr>\n",
       "      <th>2</th>\n",
       "      <td>23.1</td>\n",
       "      <td>Loop</td>\n",
       "      <td>w</td>\n",
       "    </tr>\n",
       "    <tr>\n",
       "      <th>3</th>\n",
       "      <td>22.6</td>\n",
       "      <td>NumPy</td>\n",
       "      <td>w</td>\n",
       "    </tr>\n",
       "  </tbody>\n",
       "</table>\n",
       "</div>"
      ],
      "text/plain": [
       "   Time (us) Method Numba?\n",
       "0      277.0   Loop    w/o\n",
       "1       27.5  NumPy    w/o\n",
       "2       23.1   Loop      w\n",
       "3       22.6  NumPy      w"
      ]
     },
     "execution_count": 65,
     "metadata": {},
     "output_type": "execute_result"
    }
   ],
   "source": [
    "import pandas as pd\n",
    "\n",
    "time_data = pd.DataFrame({'Time (us)':[2.77*100, 27.5, 23.1, 22.6],\n",
    "                          'Method':['Loop','NumPy','Loop','NumPy'],\n",
    "                          'Numba?':['w/o','w/o','w','w']}\n",
    ")\n",
    "time_data"
   ]
  },
  {
   "cell_type": "markdown",
   "metadata": {
    "id": "Y4xT1NK3sqnQ"
   },
   "source": [
    "Now let's plot it and preview Plotly!"
   ]
  },
  {
   "cell_type": "code",
   "execution_count": 66,
   "metadata": {
    "colab": {
     "base_uri": "https://localhost:8080/",
     "height": 559
    },
    "id": "qxZGaIywpPBr",
    "outputId": "a0fda4c9-0df4-4412-abe0-9e440f820206"
   },
   "outputs": [
    {
     "data": {
      "image/png": "[encoded data removed]",
      "text/plain": [
       "<Figure size 640x480 with 1 Axes>"
      ]
     },
     "metadata": {},
     "output_type": "display_data"
    }
   ],
   "source": [
    "import matplotlib.pyplot as plt\n",
    "\n",
    "fig = plt.bar(time_data['Method'], time_data['Time (us)'])\n",
    "plt.ylabel('Time (us)')\n",
    "plt.title('Time taken for sine wave generation')\n",
    "\n",
    "plt.show()"
   ]
  },
  {
   "cell_type": "markdown",
   "metadata": {
    "id": "q220YoGquB1h"
   },
   "source": [
    "## Pandas\n",
    "Pandas is built *on top of* NumPy meaning that the data is stored still as NumPy ndarray objects under the hood. But it exposes a much more intuitive labeling/indexing architecture and allows you to link arrays of different types (strings, floats, integers etc.) to one another.\n",
    "\n",
    "To quote Jake VanderPlas:\n",
    ">*At the very basic level, Pandas objects can be thought of as enhanced versions of NumPy structured arrays in which the rows and columns are identified with labels rather than simple integer indices.*\n",
    "\n",
    "To start, import pandas as `pd`, again this will come standard in virtually all Python distributions such as Anaconda. But to install is simply:\n",
    "~~~\n",
    "!pip install pandas\n",
    "~~~"
   ]
  },
  {
   "cell_type": "code",
   "execution_count": 67,
   "metadata": {
    "id": "zigCIKBhNkNl"
   },
   "outputs": [],
   "source": [
    "import pandas as pd"
   ]
  },
  {
   "cell_type": "markdown",
   "metadata": {
    "id": "OtlqVHIwT6wx"
   },
   "source": [
    "There are three types of Pandas objects, we'll only focus on the first two:\n",
    "1. **Series** – 1D labeled homogeneous array, sizeimmutable\n",
    "2. **Data Frames** – 2D labeled, size-mutable tabular structure with heterogenic columns\n",
    "3. **Panel** – 3D labeled size mutable array."
   ]
  },
  {
   "cell_type": "markdown",
   "metadata": {
    "id": "ReBZJAjGuFTx"
   },
   "source": [
    "## Creating a Series\n",
    "First let's create a few numpy arrays."
   ]
  },
  {
   "cell_type": "code",
   "execution_count": 68,
   "metadata": {
    "colab": {
     "base_uri": "https://localhost:8080/"
    },
    "id": "Slfe4gYJuKZL",
    "outputId": "b14099a3-7fd2-4c23-b9fb-b5eccf322338"
   },
   "outputs": [
    {
     "name": "stdout",
     "output_type": "stream",
     "text": [
      "[0.    0.002 0.004 ... 1.996 1.998 2.   ]\n",
      "[ 1.22464680e-16 -2.51300954e-02 -5.02443182e-02 ...  5.02443182e-02\n",
      "  2.51300954e-02  1.10218212e-15]\n"
     ]
    }
   ],
   "source": [
    "amplitude = sine_wave_with_numpy(time, amp, f, 180)\n",
    "print(time)\n",
    "print(amplitude)"
   ]
  },
  {
   "cell_type": "markdown",
   "metadata": {
    "id": "yH8v1NpUBr0X"
   },
   "source": [
    "Now let's see what a series looks like made from one of the arrays."
   ]
  },
  {
   "cell_type": "code",
   "execution_count": 69,
   "metadata": {
    "colab": {
     "base_uri": "https://localhost:8080/"
    },
    "id": "Ke_Vt_SmBrl0",
    "outputId": "4e323c4a-ef2d-40a0-c44d-0511336ba3e5"
   },
   "outputs": [
    {
     "data": {
      "text/plain": [
       "0       1.224647e-16\n",
       "1      -2.513010e-02\n",
       "2      -5.024432e-02\n",
       "3      -7.532681e-02\n",
       "4      -1.003617e-01\n",
       "            ...     \n",
       "996     1.003617e-01\n",
       "997     7.532681e-02\n",
       "998     5.024432e-02\n",
       "999     2.513010e-02\n",
       "1000    1.102182e-15\n",
       "Length: 1001, dtype: float64"
      ]
     },
     "execution_count": 69,
     "metadata": {},
     "output_type": "execute_result"
    }
   ],
   "source": [
    "pd.Series(amplitude)"
   ]
  },
  {
   "cell_type": "markdown",
   "metadata": {
    "id": "jt0xL0cuB2Ai"
   },
   "source": [
    "This type of series has some value, but you really start to see it when you add in an index."
   ]
  },
  {
   "cell_type": "code",
   "execution_count": 70,
   "metadata": {
    "colab": {
     "base_uri": "https://localhost:8080/"
    },
    "id": "OQ11y3klvvLj",
    "outputId": "5dfe9f12-e4a2-4cc4-d234-dd048046d477"
   },
   "outputs": [
    {
     "data": {
      "text/plain": [
       "0.000    1.224647e-16\n",
       "0.002   -2.513010e-02\n",
       "0.004   -5.024432e-02\n",
       "0.006   -7.532681e-02\n",
       "0.008   -1.003617e-01\n",
       "             ...     \n",
       "1.992    1.003617e-01\n",
       "1.994    7.532681e-02\n",
       "1.996    5.024432e-02\n",
       "1.998    2.513010e-02\n",
       "2.000    1.102182e-15\n",
       "Name: Amplitude, Length: 1001, dtype: float64"
      ]
     },
     "execution_count": 70,
     "metadata": {},
     "output_type": "execute_result"
    }
   ],
   "source": [
    "series = pd.Series(data=amplitude,\n",
    "                   index=time,\n",
    "                   name='Amplitude')\n",
    "series"
   ]
  },
  {
   "cell_type": "markdown",
   "metadata": {
    "id": "YxGmalSBl2_3"
   },
   "source": [
    "Here's where Pandas shines - indexing is much more intuitive (and inclusive) to specify based on labels, not those confusing integer locations. We'll come back to this when we have the dataframe next too."
   ]
  },
  {
   "cell_type": "code",
   "execution_count": 71,
   "metadata": {
    "colab": {
     "base_uri": "https://localhost:8080/"
    },
    "id": "VTqpSZl9lyIl",
    "outputId": "3a92856e-0677-4c80-f52f-7d0e2fd9e80a"
   },
   "outputs": [
    {
     "data": {
      "text/plain": [
       "0.000    1.224647e-16\n",
       "0.002   -2.513010e-02\n",
       "0.004   -5.024432e-02\n",
       "0.006   -7.532681e-02\n",
       "0.008   -1.003617e-01\n",
       "0.010   -1.253332e-01\n",
       "Name: Amplitude, dtype: float64"
      ]
     },
     "execution_count": 71,
     "metadata": {},
     "output_type": "execute_result"
    }
   ],
   "source": [
    "series[0: 0.01]"
   ]
  },
  {
   "cell_type": "markdown",
   "metadata": {
    "id": "s38flxoeB8n0"
   },
   "source": [
    "Being able to plot quickly is also a plus!"
   ]
  },
  {
   "cell_type": "code",
   "execution_count": 72,
   "metadata": {
    "colab": {
     "base_uri": "https://localhost:8080/",
     "height": 283
    },
    "id": "YbluH1OXu-0f",
    "outputId": "f1a137b5-b116-4ef8-e9de-4458e1510bcf"
   },
   "outputs": [
    {
     "data": {
      "text/plain": [
       "<Axes: >"
      ]
     },
     "execution_count": 72,
     "metadata": {},
     "output_type": "execute_result"
    },
    {
     "data": {
      "image/png": "[encoded data removed]",
      "text/plain": [
       "<Figure size 640x480 with 1 Axes>"
      ]
     },
     "metadata": {},
     "output_type": "display_data"
    }
   ],
   "source": [
    "series.plot()"
   ]
  },
  {
   "cell_type": "markdown",
   "metadata": {
    "id": "H8I5XnmU4Dp7"
   },
   "source": [
    "Remember we never left the NumPy array, it is still here and can be accessed with the following."
   ]
  },
  {
   "cell_type": "code",
   "execution_count": 73,
   "metadata": {
    "colab": {
     "base_uri": "https://localhost:8080/"
    },
    "id": "xtmkmd2l5U4o",
    "outputId": "278f9301-9f68-42b1-d0dd-11657f48e364"
   },
   "outputs": [
    {
     "data": {
      "text/plain": [
       "array([ 1.22464680e-16, -2.51300954e-02, -5.02443182e-02, ...,\n",
       "        5.02443182e-02,  2.51300954e-02,  1.10218212e-15])"
      ]
     },
     "execution_count": 73,
     "metadata": {},
     "output_type": "execute_result"
    }
   ],
   "source": [
    "series.values"
   ]
  },
  {
   "cell_type": "code",
   "execution_count": 74,
   "metadata": {
    "colab": {
     "base_uri": "https://localhost:8080/"
    },
    "id": "-jvWYyW44JUH",
    "outputId": "7ec67c4d-b14b-4dd3-ceda-5d42655636e4"
   },
   "outputs": [
    {
     "data": {
      "text/plain": [
       "array([ 1.22464680e-16, -2.51300954e-02, -5.02443182e-02, ...,\n",
       "        5.02443182e-02,  2.51300954e-02,  1.10218212e-15])"
      ]
     },
     "execution_count": 74,
     "metadata": {},
     "output_type": "execute_result"
    }
   ],
   "source": [
    "series.to_numpy()"
   ]
  },
  {
   "cell_type": "markdown",
   "metadata": {
    "id": "wzVCQDfNuIOP"
   },
   "source": [
    "## Creating a DataFrame\n",
    "\n",
    "A DataFrame is basically a sequence of aligned series objects, and by aligned I mean they share a common index or label. This let's us mix and match types easily among other benefits.\n",
    "\n",
    "First we'll start creating dataframes using what is called a \"dictionary\" with keys and values."
   ]
  },
  {
   "cell_type": "code",
   "execution_count": 75,
   "metadata": {
    "colab": {
     "base_uri": "https://localhost:8080/",
     "height": 423
    },
    "id": "Bty17IsDU6B3",
    "outputId": "5434f563-2cdf-4618-ee07-a0056152f58f"
   },
   "outputs": [
    {
     "data": {
      "text/html": [
       "<div>\n",
       "<style scoped>\n",
       "    .dataframe tbody tr th:only-of-type {\n",
       "        vertical-align: middle;\n",
       "    }\n",
       "\n",
       "    .dataframe tbody tr th {\n",
       "        vertical-align: top;\n",
       "    }\n",
       "\n",
       "    .dataframe thead th {\n",
       "        text-align: right;\n",
       "    }\n",
       "</style>\n",
       "<table border=\"1\" class=\"dataframe\">\n",
       "  <thead>\n",
       "    <tr style=\"text-align: right;\">\n",
       "      <th></th>\n",
       "      <th>Phase 0</th>\n",
       "      <th>Phase 90</th>\n",
       "      <th>Phase 180</th>\n",
       "      <th>Phase 270</th>\n",
       "    </tr>\n",
       "  </thead>\n",
       "  <tbody>\n",
       "    <tr>\n",
       "      <th>0.000</th>\n",
       "      <td>0.000000e+00</td>\n",
       "      <td>1.000000</td>\n",
       "      <td>1.224647e-16</td>\n",
       "      <td>-1.000000</td>\n",
       "    </tr>\n",
       "    <tr>\n",
       "      <th>0.002</th>\n",
       "      <td>2.513010e-02</td>\n",
       "      <td>0.999684</td>\n",
       "      <td>-2.513010e-02</td>\n",
       "      <td>-0.999684</td>\n",
       "    </tr>\n",
       "    <tr>\n",
       "      <th>0.004</th>\n",
       "      <td>5.024432e-02</td>\n",
       "      <td>0.998737</td>\n",
       "      <td>-5.024432e-02</td>\n",
       "      <td>-0.998737</td>\n",
       "    </tr>\n",
       "    <tr>\n",
       "      <th>0.006</th>\n",
       "      <td>7.532681e-02</td>\n",
       "      <td>0.997159</td>\n",
       "      <td>-7.532681e-02</td>\n",
       "      <td>-0.997159</td>\n",
       "    </tr>\n",
       "    <tr>\n",
       "      <th>0.008</th>\n",
       "      <td>1.003617e-01</td>\n",
       "      <td>0.994951</td>\n",
       "      <td>-1.003617e-01</td>\n",
       "      <td>-0.994951</td>\n",
       "    </tr>\n",
       "    <tr>\n",
       "      <th>...</th>\n",
       "      <td>...</td>\n",
       "      <td>...</td>\n",
       "      <td>...</td>\n",
       "      <td>...</td>\n",
       "    </tr>\n",
       "    <tr>\n",
       "      <th>1.992</th>\n",
       "      <td>-1.003617e-01</td>\n",
       "      <td>0.994951</td>\n",
       "      <td>1.003617e-01</td>\n",
       "      <td>-0.994951</td>\n",
       "    </tr>\n",
       "    <tr>\n",
       "      <th>1.994</th>\n",
       "      <td>-7.532681e-02</td>\n",
       "      <td>0.997159</td>\n",
       "      <td>7.532681e-02</td>\n",
       "      <td>-0.997159</td>\n",
       "    </tr>\n",
       "    <tr>\n",
       "      <th>1.996</th>\n",
       "      <td>-5.024432e-02</td>\n",
       "      <td>0.998737</td>\n",
       "      <td>5.024432e-02</td>\n",
       "      <td>-0.998737</td>\n",
       "    </tr>\n",
       "    <tr>\n",
       "      <th>1.998</th>\n",
       "      <td>-2.513010e-02</td>\n",
       "      <td>0.999684</td>\n",
       "      <td>2.513010e-02</td>\n",
       "      <td>-0.999684</td>\n",
       "    </tr>\n",
       "    <tr>\n",
       "      <th>2.000</th>\n",
       "      <td>-9.797174e-16</td>\n",
       "      <td>1.000000</td>\n",
       "      <td>1.102182e-15</td>\n",
       "      <td>-1.000000</td>\n",
       "    </tr>\n",
       "  </tbody>\n",
       "</table>\n",
       "<p>1001 rows × 4 columns</p>\n",
       "</div>"
      ],
      "text/plain": [
       "            Phase 0  Phase 90     Phase 180  Phase 270\n",
       "0.000  0.000000e+00  1.000000  1.224647e-16  -1.000000\n",
       "0.002  2.513010e-02  0.999684 -2.513010e-02  -0.999684\n",
       "0.004  5.024432e-02  0.998737 -5.024432e-02  -0.998737\n",
       "0.006  7.532681e-02  0.997159 -7.532681e-02  -0.997159\n",
       "0.008  1.003617e-01  0.994951 -1.003617e-01  -0.994951\n",
       "...             ...       ...           ...        ...\n",
       "1.992 -1.003617e-01  0.994951  1.003617e-01  -0.994951\n",
       "1.994 -7.532681e-02  0.997159  7.532681e-02  -0.997159\n",
       "1.996 -5.024432e-02  0.998737  5.024432e-02  -0.998737\n",
       "1.998 -2.513010e-02  0.999684  2.513010e-02  -0.999684\n",
       "2.000 -9.797174e-16  1.000000  1.102182e-15  -1.000000\n",
       "\n",
       "[1001 rows x 4 columns]"
      ]
     },
     "execution_count": 75,
     "metadata": {},
     "output_type": "execute_result"
    }
   ],
   "source": [
    "df = pd.DataFrame({\"Phase 0\": sine_wave_with_numpy(time, amp, f, 00),\n",
    "                   \"Phase 90\": sine_wave_with_numpy(time, amp, f, 90),\n",
    "                   \"Phase 180\": sine_wave_with_numpy(time, amp, f, 180),\n",
    "                   \"Phase 270\": sine_wave_with_numpy(time, amp, f, 270)},\n",
    "                  index=time)\n",
    "df"
   ]
  },
  {
   "cell_type": "markdown",
   "metadata": {
    "id": "dGDtiYG-cU9V"
   },
   "source": [
    "## Plotting (Preview)\n",
    "\n",
    "Dataframes also wrap around Matplotlib to allow for plotting directly from the dataframe object itself. This can also be done from the Pandas Series object too like we showed earlier."
   ]
  },
  {
   "cell_type": "code",
   "execution_count": 76,
   "metadata": {
    "colab": {
     "base_uri": "https://localhost:8080/",
     "height": 283
    },
    "id": "ZkC62XnKVd6X",
    "outputId": "6e92b6eb-a66d-4582-9ea7-7fe80c6cf0f2"
   },
   "outputs": [
    {
     "data": {
      "text/plain": [
       "<Axes: >"
      ]
     },
     "execution_count": 76,
     "metadata": {},
     "output_type": "execute_result"
    },
    {
     "data": {
      "image/png": "[encoded data removed]",
      "text/plain": [
       "<Figure size 640x480 with 1 Axes>"
      ]
     },
     "metadata": {},
     "output_type": "display_data"
    }
   ],
   "source": [
    "df.plot()"
   ]
  },
  {
   "cell_type": "code",
   "execution_count": 77,
   "metadata": {
    "colab": {
     "base_uri": "https://localhost:8080/",
     "height": 423
    },
    "id": "goaaXKMXVjUq",
    "outputId": "e3c5e802-dd8e-4fb3-8598-0dd8be598f66"
   },
   "outputs": [
    {
     "data": {
      "text/html": [
       "<div>\n",
       "<style scoped>\n",
       "    .dataframe tbody tr th:only-of-type {\n",
       "        vertical-align: middle;\n",
       "    }\n",
       "\n",
       "    .dataframe tbody tr th {\n",
       "        vertical-align: top;\n",
       "    }\n",
       "\n",
       "    .dataframe thead th {\n",
       "        text-align: right;\n",
       "    }\n",
       "</style>\n",
       "<table border=\"1\" class=\"dataframe\">\n",
       "  <thead>\n",
       "    <tr style=\"text-align: right;\">\n",
       "      <th></th>\n",
       "      <th>Phase 0</th>\n",
       "      <th>Phase 90</th>\n",
       "      <th>Phase 180</th>\n",
       "      <th>Phase 270</th>\n",
       "      <th>Max</th>\n",
       "      <th>Min</th>\n",
       "    </tr>\n",
       "  </thead>\n",
       "  <tbody>\n",
       "    <tr>\n",
       "      <th>0.000</th>\n",
       "      <td>0.000000e+00</td>\n",
       "      <td>1.000000</td>\n",
       "      <td>1.224647e-16</td>\n",
       "      <td>-1.000000</td>\n",
       "      <td>1.000000</td>\n",
       "      <td>-1.000000</td>\n",
       "    </tr>\n",
       "    <tr>\n",
       "      <th>0.002</th>\n",
       "      <td>2.513010e-02</td>\n",
       "      <td>0.999684</td>\n",
       "      <td>-2.513010e-02</td>\n",
       "      <td>-0.999684</td>\n",
       "      <td>0.999684</td>\n",
       "      <td>-0.999684</td>\n",
       "    </tr>\n",
       "    <tr>\n",
       "      <th>0.004</th>\n",
       "      <td>5.024432e-02</td>\n",
       "      <td>0.998737</td>\n",
       "      <td>-5.024432e-02</td>\n",
       "      <td>-0.998737</td>\n",
       "      <td>0.998737</td>\n",
       "      <td>-0.998737</td>\n",
       "    </tr>\n",
       "    <tr>\n",
       "      <th>0.006</th>\n",
       "      <td>7.532681e-02</td>\n",
       "      <td>0.997159</td>\n",
       "      <td>-7.532681e-02</td>\n",
       "      <td>-0.997159</td>\n",
       "      <td>0.997159</td>\n",
       "      <td>-0.997159</td>\n",
       "    </tr>\n",
       "    <tr>\n",
       "      <th>0.008</th>\n",
       "      <td>1.003617e-01</td>\n",
       "      <td>0.994951</td>\n",
       "      <td>-1.003617e-01</td>\n",
       "      <td>-0.994951</td>\n",
       "      <td>0.994951</td>\n",
       "      <td>-0.994951</td>\n",
       "    </tr>\n",
       "    <tr>\n",
       "      <th>...</th>\n",
       "      <td>...</td>\n",
       "      <td>...</td>\n",
       "      <td>...</td>\n",
       "      <td>...</td>\n",
       "      <td>...</td>\n",
       "      <td>...</td>\n",
       "    </tr>\n",
       "    <tr>\n",
       "      <th>1.992</th>\n",
       "      <td>-1.003617e-01</td>\n",
       "      <td>0.994951</td>\n",
       "      <td>1.003617e-01</td>\n",
       "      <td>-0.994951</td>\n",
       "      <td>0.994951</td>\n",
       "      <td>-0.994951</td>\n",
       "    </tr>\n",
       "    <tr>\n",
       "      <th>1.994</th>\n",
       "      <td>-7.532681e-02</td>\n",
       "      <td>0.997159</td>\n",
       "      <td>7.532681e-02</td>\n",
       "      <td>-0.997159</td>\n",
       "      <td>0.997159</td>\n",
       "      <td>-0.997159</td>\n",
       "    </tr>\n",
       "    <tr>\n",
       "      <th>1.996</th>\n",
       "      <td>-5.024432e-02</td>\n",
       "      <td>0.998737</td>\n",
       "      <td>5.024432e-02</td>\n",
       "      <td>-0.998737</td>\n",
       "      <td>0.998737</td>\n",
       "      <td>-0.998737</td>\n",
       "    </tr>\n",
       "    <tr>\n",
       "      <th>1.998</th>\n",
       "      <td>-2.513010e-02</td>\n",
       "      <td>0.999684</td>\n",
       "      <td>2.513010e-02</td>\n",
       "      <td>-0.999684</td>\n",
       "      <td>0.999684</td>\n",
       "      <td>-0.999684</td>\n",
       "    </tr>\n",
       "    <tr>\n",
       "      <th>2.000</th>\n",
       "      <td>-9.797174e-16</td>\n",
       "      <td>1.000000</td>\n",
       "      <td>1.102182e-15</td>\n",
       "      <td>-1.000000</td>\n",
       "      <td>1.000000</td>\n",
       "      <td>-1.000000</td>\n",
       "    </tr>\n",
       "  </tbody>\n",
       "</table>\n",
       "<p>1001 rows × 6 columns</p>\n",
       "</div>"
      ],
      "text/plain": [
       "            Phase 0  Phase 90     Phase 180  Phase 270       Max       Min\n",
       "0.000  0.000000e+00  1.000000  1.224647e-16  -1.000000  1.000000 -1.000000\n",
       "0.002  2.513010e-02  0.999684 -2.513010e-02  -0.999684  0.999684 -0.999684\n",
       "0.004  5.024432e-02  0.998737 -5.024432e-02  -0.998737  0.998737 -0.998737\n",
       "0.006  7.532681e-02  0.997159 -7.532681e-02  -0.997159  0.997159 -0.997159\n",
       "0.008  1.003617e-01  0.994951 -1.003617e-01  -0.994951  0.994951 -0.994951\n",
       "...             ...       ...           ...        ...       ...       ...\n",
       "1.992 -1.003617e-01  0.994951  1.003617e-01  -0.994951  0.994951 -0.994951\n",
       "1.994 -7.532681e-02  0.997159  7.532681e-02  -0.997159  0.997159 -0.997159\n",
       "1.996 -5.024432e-02  0.998737  5.024432e-02  -0.998737  0.998737 -0.998737\n",
       "1.998 -2.513010e-02  0.999684  2.513010e-02  -0.999684  0.999684 -0.999684\n",
       "2.000 -9.797174e-16  1.000000  1.102182e-15  -1.000000  1.000000 -1.000000\n",
       "\n",
       "[1001 rows x 6 columns]"
      ]
     },
     "execution_count": 77,
     "metadata": {},
     "output_type": "execute_result"
    }
   ],
   "source": [
    "df['Max'] = df.max(axis=1)\n",
    "df['Min'] = df.min(axis=1)\n",
    "df"
   ]
  },
  {
   "cell_type": "markdown",
   "metadata": {
    "id": "I7_Phn2UF7Yp"
   },
   "source": [
    "This will be the topic of the next webinar, plotting with Plotly!\n",
    "\n",
    "Note that I need to install an upgraded version of Plotly in Colab because the default Plotly Express version doesn't work in Colab (but their more advanced graph objects does)."
   ]
  },
  {
   "cell_type": "code",
   "execution_count": 79,
   "metadata": {
    "id": "Ilzy8VvZDgt0"
   },
   "outputs": [],
   "source": [
    "import matplotlib.pyplot as plt"
   ]
  },
  {
   "cell_type": "code",
   "execution_count": 82,
   "metadata": {
    "colab": {
     "base_uri": "https://localhost:8080/",
     "height": 542
    },
    "id": "7XF4YcNIE1Hn",
    "outputId": "6c694dac-a715-472b-a2cb-37b29b113858"
   },
   "outputs": [
    {
     "data": {
      "image/png": "[encoded data removed]",
      "text/plain": [
       "<Figure size 640x480 with 1 Axes>"
      ]
     },
     "metadata": {},
     "output_type": "display_data"
    }
   ],
   "source": [
    "fig, ax = plt.subplots()\n",
    "df.plot(ax=ax)\n",
    "plt.show()"
   ]
  },
  {
   "cell_type": "markdown",
   "metadata": {
    "id": "0_45NbIUDvGI"
   },
   "source": [
    "## Load from CSV\n",
    "\n",
    "This dataset was discussed in a blog on [vibration metrics and used bearing data as an example](https://blog.endaq.com/top-vibration-metrics-to-monitor-how-to-calculate-them).\n",
    "\n",
    "Note you don't *have* to use a CSV. They have a lot of other file formats natively supported ([see full list](https://pandas.pydata.org/docs/user_guide/io.html)):\n",
    "* hdf\n",
    "* feather\n",
    "* pickle\n",
    "\n",
    "But I know everyone likes CSVs!"
   ]
  },
  {
   "cell_type": "code",
   "execution_count": 83,
   "metadata": {
    "colab": {
     "base_uri": "https://localhost:8080/",
     "height": 455
    },
    "id": "8Yiph7IODh4E",
    "outputId": "c87e5403-aeb5-4a33-a402-8971ecb52c85"
   },
   "outputs": [
    {
     "data": {
      "text/html": [
       "<div>\n",
       "<style scoped>\n",
       "    .dataframe tbody tr th:only-of-type {\n",
       "        vertical-align: middle;\n",
       "    }\n",
       "\n",
       "    .dataframe tbody tr th {\n",
       "        vertical-align: top;\n",
       "    }\n",
       "\n",
       "    .dataframe thead th {\n",
       "        text-align: right;\n",
       "    }\n",
       "</style>\n",
       "<table border=\"1\" class=\"dataframe\">\n",
       "  <thead>\n",
       "    <tr style=\"text-align: right;\">\n",
       "      <th></th>\n",
       "      <th>Fault_021</th>\n",
       "      <th>Fault_014</th>\n",
       "      <th>Fault_007</th>\n",
       "      <th>Normal</th>\n",
       "    </tr>\n",
       "    <tr>\n",
       "      <th>Time</th>\n",
       "      <th></th>\n",
       "      <th></th>\n",
       "      <th></th>\n",
       "      <th></th>\n",
       "    </tr>\n",
       "  </thead>\n",
       "  <tbody>\n",
       "    <tr>\n",
       "      <th>0.000000</th>\n",
       "      <td>-0.105351</td>\n",
       "      <td>-0.074395</td>\n",
       "      <td>0.053116</td>\n",
       "      <td>0.046104</td>\n",
       "    </tr>\n",
       "    <tr>\n",
       "      <th>0.000083</th>\n",
       "      <td>0.132888</td>\n",
       "      <td>0.056365</td>\n",
       "      <td>0.116628</td>\n",
       "      <td>-0.037134</td>\n",
       "    </tr>\n",
       "    <tr>\n",
       "      <th>0.000167</th>\n",
       "      <td>-0.056535</td>\n",
       "      <td>0.201257</td>\n",
       "      <td>0.083654</td>\n",
       "      <td>-0.089496</td>\n",
       "    </tr>\n",
       "    <tr>\n",
       "      <th>0.000250</th>\n",
       "      <td>-0.193178</td>\n",
       "      <td>-0.024528</td>\n",
       "      <td>-0.026477</td>\n",
       "      <td>-0.084906</td>\n",
       "    </tr>\n",
       "    <tr>\n",
       "      <th>0.000333</th>\n",
       "      <td>0.064879</td>\n",
       "      <td>-0.072284</td>\n",
       "      <td>0.045319</td>\n",
       "      <td>-0.038594</td>\n",
       "    </tr>\n",
       "    <tr>\n",
       "      <th>...</th>\n",
       "      <td>...</td>\n",
       "      <td>...</td>\n",
       "      <td>...</td>\n",
       "      <td>...</td>\n",
       "    </tr>\n",
       "    <tr>\n",
       "      <th>9.999667</th>\n",
       "      <td>0.095754</td>\n",
       "      <td>0.145055</td>\n",
       "      <td>-0.098923</td>\n",
       "      <td>0.064254</td>\n",
       "    </tr>\n",
       "    <tr>\n",
       "      <th>9.999750</th>\n",
       "      <td>-0.123083</td>\n",
       "      <td>0.092263</td>\n",
       "      <td>-0.067573</td>\n",
       "      <td>0.070721</td>\n",
       "    </tr>\n",
       "    <tr>\n",
       "      <th>9.999833</th>\n",
       "      <td>-0.036508</td>\n",
       "      <td>-0.168120</td>\n",
       "      <td>0.005685</td>\n",
       "      <td>0.103265</td>\n",
       "    </tr>\n",
       "    <tr>\n",
       "      <th>9.999917</th>\n",
       "      <td>0.097006</td>\n",
       "      <td>-0.035898</td>\n",
       "      <td>0.093400</td>\n",
       "      <td>0.124335</td>\n",
       "    </tr>\n",
       "    <tr>\n",
       "      <th>10.000000</th>\n",
       "      <td>-0.008762</td>\n",
       "      <td>0.165846</td>\n",
       "      <td>0.130923</td>\n",
       "      <td>0.114947</td>\n",
       "    </tr>\n",
       "  </tbody>\n",
       "</table>\n",
       "<p>120000 rows × 4 columns</p>\n",
       "</div>"
      ],
      "text/plain": [
       "           Fault_021  Fault_014  Fault_007    Normal\n",
       "Time                                                \n",
       "0.000000   -0.105351  -0.074395   0.053116  0.046104\n",
       "0.000083    0.132888   0.056365   0.116628 -0.037134\n",
       "0.000167   -0.056535   0.201257   0.083654 -0.089496\n",
       "0.000250   -0.193178  -0.024528  -0.026477 -0.084906\n",
       "0.000333    0.064879  -0.072284   0.045319 -0.038594\n",
       "...              ...        ...        ...       ...\n",
       "9.999667    0.095754   0.145055  -0.098923  0.064254\n",
       "9.999750   -0.123083   0.092263  -0.067573  0.070721\n",
       "9.999833   -0.036508  -0.168120   0.005685  0.103265\n",
       "9.999917    0.097006  -0.035898   0.093400  0.124335\n",
       "10.000000  -0.008762   0.165846   0.130923  0.114947\n",
       "\n",
       "[120000 rows x 4 columns]"
      ]
     },
     "execution_count": 83,
     "metadata": {},
     "output_type": "execute_result"
    }
   ],
   "source": [
    "df = pd.read_csv('https://info.endaq.com/hubfs/Plots/bearing_data.csv', index_col=0)\n",
    "df"
   ]
  },
  {
   "cell_type": "markdown",
   "metadata": {
    "id": "SuYE7enn5-0T"
   },
   "source": [
    "## Save CSV\n",
    "\n",
    "Like reading data, there are a host of native formats we can save data from a dataframe. [See documentation](https://pandas.pydata.org/docs/reference/io.html)."
   ]
  },
  {
   "cell_type": "code",
   "execution_count": 84,
   "metadata": {
    "id": "rB5uIDRt6CJe"
   },
   "outputs": [],
   "source": [
    "df.to_csv('bearing-data.csv')"
   ]
  },
  {
   "cell_type": "markdown",
   "metadata": {
    "id": "JrAWfnkOJZsk"
   },
   "source": [
    "## Simple Analysis"
   ]
  },
  {
   "cell_type": "code",
   "execution_count": 85,
   "metadata": {
    "colab": {
     "base_uri": "https://localhost:8080/",
     "height": 300
    },
    "id": "TVD8WFpvHqs-",
    "outputId": "17bbd709-f79a-4d6e-f0e1-bb42f01d3242"
   },
   "outputs": [
    {
     "data": {
      "text/html": [
       "<div>\n",
       "<style scoped>\n",
       "    .dataframe tbody tr th:only-of-type {\n",
       "        vertical-align: middle;\n",
       "    }\n",
       "\n",
       "    .dataframe tbody tr th {\n",
       "        vertical-align: top;\n",
       "    }\n",
       "\n",
       "    .dataframe thead th {\n",
       "        text-align: right;\n",
       "    }\n",
       "</style>\n",
       "<table border=\"1\" class=\"dataframe\">\n",
       "  <thead>\n",
       "    <tr style=\"text-align: right;\">\n",
       "      <th></th>\n",
       "      <th>Fault_021</th>\n",
       "      <th>Fault_014</th>\n",
       "      <th>Fault_007</th>\n",
       "      <th>Normal</th>\n",
       "    </tr>\n",
       "  </thead>\n",
       "  <tbody>\n",
       "    <tr>\n",
       "      <th>count</th>\n",
       "      <td>120000.000000</td>\n",
       "      <td>120000.000000</td>\n",
       "      <td>120000.000000</td>\n",
       "      <td>120000.000000</td>\n",
       "    </tr>\n",
       "    <tr>\n",
       "      <th>mean</th>\n",
       "      <td>0.012251</td>\n",
       "      <td>0.002729</td>\n",
       "      <td>0.002953</td>\n",
       "      <td>0.010755</td>\n",
       "    </tr>\n",
       "    <tr>\n",
       "      <th>std</th>\n",
       "      <td>0.198383</td>\n",
       "      <td>0.157761</td>\n",
       "      <td>0.121272</td>\n",
       "      <td>0.065060</td>\n",
       "    </tr>\n",
       "    <tr>\n",
       "      <th>min</th>\n",
       "      <td>-1.037862</td>\n",
       "      <td>-1.338628</td>\n",
       "      <td>-0.650390</td>\n",
       "      <td>-0.269114</td>\n",
       "    </tr>\n",
       "    <tr>\n",
       "      <th>25%</th>\n",
       "      <td>-0.107020</td>\n",
       "      <td>-0.096649</td>\n",
       "      <td>-0.072284</td>\n",
       "      <td>-0.032544</td>\n",
       "    </tr>\n",
       "    <tr>\n",
       "      <th>50%</th>\n",
       "      <td>0.011682</td>\n",
       "      <td>0.001299</td>\n",
       "      <td>0.004548</td>\n",
       "      <td>0.013351</td>\n",
       "    </tr>\n",
       "    <tr>\n",
       "      <th>75%</th>\n",
       "      <td>0.132054</td>\n",
       "      <td>0.100872</td>\n",
       "      <td>0.080081</td>\n",
       "      <td>0.056535</td>\n",
       "    </tr>\n",
       "    <tr>\n",
       "      <th>max</th>\n",
       "      <td>0.917908</td>\n",
       "      <td>1.124376</td>\n",
       "      <td>0.594025</td>\n",
       "      <td>0.251382</td>\n",
       "    </tr>\n",
       "  </tbody>\n",
       "</table>\n",
       "</div>"
      ],
      "text/plain": [
       "           Fault_021      Fault_014      Fault_007         Normal\n",
       "count  120000.000000  120000.000000  120000.000000  120000.000000\n",
       "mean        0.012251       0.002729       0.002953       0.010755\n",
       "std         0.198383       0.157761       0.121272       0.065060\n",
       "min        -1.037862      -1.338628      -0.650390      -0.269114\n",
       "25%        -0.107020      -0.096649      -0.072284      -0.032544\n",
       "50%         0.011682       0.001299       0.004548       0.013351\n",
       "75%         0.132054       0.100872       0.080081       0.056535\n",
       "max         0.917908       1.124376       0.594025       0.251382"
      ]
     },
     "execution_count": 85,
     "metadata": {},
     "output_type": "execute_result"
    }
   ],
   "source": [
    "df.describe()"
   ]
  },
  {
   "cell_type": "code",
   "execution_count": 86,
   "metadata": {
    "colab": {
     "base_uri": "https://localhost:8080/"
    },
    "id": "6fiVPnBNJb32",
    "outputId": "df0b8b39-f9df-44bf-c236-7695d375cae4"
   },
   "outputs": [
    {
     "data": {
      "text/plain": [
       "Fault_021    0.198383\n",
       "Fault_014    0.157761\n",
       "Fault_007    0.121272\n",
       "Normal       0.065060\n",
       "dtype: float64"
      ]
     },
     "execution_count": 86,
     "metadata": {},
     "output_type": "execute_result"
    }
   ],
   "source": [
    "df.std()"
   ]
  },
  {
   "cell_type": "code",
   "execution_count": 87,
   "metadata": {
    "colab": {
     "base_uri": "https://localhost:8080/"
    },
    "id": "oQgXuQ9VJhTd",
    "outputId": "537e189f-46b5-4945-808d-705f1932e4f0"
   },
   "outputs": [
    {
     "data": {
      "text/plain": [
       "Fault_021    0.917908\n",
       "Fault_014    1.124376\n",
       "Fault_007    0.594025\n",
       "Normal       0.251382\n",
       "dtype: float64"
      ]
     },
     "execution_count": 87,
     "metadata": {},
     "output_type": "execute_result"
    }
   ],
   "source": [
    "df.max()"
   ]
  },
  {
   "cell_type": "markdown",
   "metadata": {
    "id": "KuwaUNJPth1r"
   },
   "source": [
    "Note that these built in Pandas functions are using NumPy to process and are the equivalent of doing the following."
   ]
  },
  {
   "cell_type": "code",
   "execution_count": 88,
   "metadata": {
    "colab": {
     "base_uri": "https://localhost:8080/"
    },
    "id": "TUsz_I4ptfo3",
    "outputId": "bd9f9729-ecf7-4899-8113-ca5a5cc4ffe0"
   },
   "outputs": [
    {
     "data": {
      "text/plain": [
       "np.float64(1.124375968063872)"
      ]
     },
     "execution_count": 88,
     "metadata": {},
     "output_type": "execute_result"
    }
   ],
   "source": [
    "np.max(df)"
   ]
  },
  {
   "cell_type": "code",
   "execution_count": 89,
   "metadata": {
    "colab": {
     "base_uri": "https://localhost:8080/"
    },
    "id": "cEG3SeRAJkyW",
    "outputId": "33ef1359-42c7-41f7-d908-5a753168ac5f"
   },
   "outputs": [
    {
     "data": {
      "text/plain": [
       "Fault_021   -0.107020\n",
       "Fault_014   -0.096649\n",
       "Fault_007   -0.072284\n",
       "Normal      -0.032544\n",
       "Name: 0.25, dtype: float64"
      ]
     },
     "execution_count": 89,
     "metadata": {},
     "output_type": "execute_result"
    }
   ],
   "source": [
    "df.quantile(0.25)"
   ]
  },
  {
   "cell_type": "code",
   "execution_count": 90,
   "metadata": {
    "colab": {
     "base_uri": "https://localhost:8080/",
     "height": 455
    },
    "id": "Shx-sdauJllV",
    "outputId": "8f8d4f7b-5071-4df5-c5d2-4c7ef7ae0a49"
   },
   "outputs": [
    {
     "data": {
      "text/html": [
       "<div>\n",
       "<style scoped>\n",
       "    .dataframe tbody tr th:only-of-type {\n",
       "        vertical-align: middle;\n",
       "    }\n",
       "\n",
       "    .dataframe tbody tr th {\n",
       "        vertical-align: top;\n",
       "    }\n",
       "\n",
       "    .dataframe thead th {\n",
       "        text-align: right;\n",
       "    }\n",
       "</style>\n",
       "<table border=\"1\" class=\"dataframe\">\n",
       "  <thead>\n",
       "    <tr style=\"text-align: right;\">\n",
       "      <th></th>\n",
       "      <th>Fault_021</th>\n",
       "      <th>Fault_014</th>\n",
       "      <th>Fault_007</th>\n",
       "      <th>Normal</th>\n",
       "      <th>abs(max)</th>\n",
       "    </tr>\n",
       "    <tr>\n",
       "      <th>Time</th>\n",
       "      <th></th>\n",
       "      <th></th>\n",
       "      <th></th>\n",
       "      <th></th>\n",
       "      <th></th>\n",
       "    </tr>\n",
       "  </thead>\n",
       "  <tbody>\n",
       "    <tr>\n",
       "      <th>0.000000</th>\n",
       "      <td>-0.105351</td>\n",
       "      <td>-0.074395</td>\n",
       "      <td>0.053116</td>\n",
       "      <td>0.046104</td>\n",
       "      <td>0.105351</td>\n",
       "    </tr>\n",
       "    <tr>\n",
       "      <th>0.000083</th>\n",
       "      <td>0.132888</td>\n",
       "      <td>0.056365</td>\n",
       "      <td>0.116628</td>\n",
       "      <td>-0.037134</td>\n",
       "      <td>0.132888</td>\n",
       "    </tr>\n",
       "    <tr>\n",
       "      <th>0.000167</th>\n",
       "      <td>-0.056535</td>\n",
       "      <td>0.201257</td>\n",
       "      <td>0.083654</td>\n",
       "      <td>-0.089496</td>\n",
       "      <td>0.201257</td>\n",
       "    </tr>\n",
       "    <tr>\n",
       "      <th>0.000250</th>\n",
       "      <td>-0.193178</td>\n",
       "      <td>-0.024528</td>\n",
       "      <td>-0.026477</td>\n",
       "      <td>-0.084906</td>\n",
       "      <td>0.193178</td>\n",
       "    </tr>\n",
       "    <tr>\n",
       "      <th>0.000333</th>\n",
       "      <td>0.064879</td>\n",
       "      <td>-0.072284</td>\n",
       "      <td>0.045319</td>\n",
       "      <td>-0.038594</td>\n",
       "      <td>0.072284</td>\n",
       "    </tr>\n",
       "    <tr>\n",
       "      <th>...</th>\n",
       "      <td>...</td>\n",
       "      <td>...</td>\n",
       "      <td>...</td>\n",
       "      <td>...</td>\n",
       "      <td>...</td>\n",
       "    </tr>\n",
       "    <tr>\n",
       "      <th>9.999667</th>\n",
       "      <td>0.095754</td>\n",
       "      <td>0.145055</td>\n",
       "      <td>-0.098923</td>\n",
       "      <td>0.064254</td>\n",
       "      <td>0.145055</td>\n",
       "    </tr>\n",
       "    <tr>\n",
       "      <th>9.999750</th>\n",
       "      <td>-0.123083</td>\n",
       "      <td>0.092263</td>\n",
       "      <td>-0.067573</td>\n",
       "      <td>0.070721</td>\n",
       "      <td>0.123083</td>\n",
       "    </tr>\n",
       "    <tr>\n",
       "      <th>9.999833</th>\n",
       "      <td>-0.036508</td>\n",
       "      <td>-0.168120</td>\n",
       "      <td>0.005685</td>\n",
       "      <td>0.103265</td>\n",
       "      <td>0.168120</td>\n",
       "    </tr>\n",
       "    <tr>\n",
       "      <th>9.999917</th>\n",
       "      <td>0.097006</td>\n",
       "      <td>-0.035898</td>\n",
       "      <td>0.093400</td>\n",
       "      <td>0.124335</td>\n",
       "      <td>0.124335</td>\n",
       "    </tr>\n",
       "    <tr>\n",
       "      <th>10.000000</th>\n",
       "      <td>-0.008762</td>\n",
       "      <td>0.165846</td>\n",
       "      <td>0.130923</td>\n",
       "      <td>0.114947</td>\n",
       "      <td>0.165846</td>\n",
       "    </tr>\n",
       "  </tbody>\n",
       "</table>\n",
       "<p>120000 rows × 5 columns</p>\n",
       "</div>"
      ],
      "text/plain": [
       "           Fault_021  Fault_014  Fault_007    Normal  abs(max)\n",
       "Time                                                          \n",
       "0.000000   -0.105351  -0.074395   0.053116  0.046104  0.105351\n",
       "0.000083    0.132888   0.056365   0.116628 -0.037134  0.132888\n",
       "0.000167   -0.056535   0.201257   0.083654 -0.089496  0.201257\n",
       "0.000250   -0.193178  -0.024528  -0.026477 -0.084906  0.193178\n",
       "0.000333    0.064879  -0.072284   0.045319 -0.038594  0.072284\n",
       "...              ...        ...        ...       ...       ...\n",
       "9.999667    0.095754   0.145055  -0.098923  0.064254  0.145055\n",
       "9.999750   -0.123083   0.092263  -0.067573  0.070721  0.123083\n",
       "9.999833   -0.036508  -0.168120   0.005685  0.103265  0.168120\n",
       "9.999917    0.097006  -0.035898   0.093400  0.124335  0.124335\n",
       "10.000000  -0.008762   0.165846   0.130923  0.114947  0.165846\n",
       "\n",
       "[120000 rows x 5 columns]"
      ]
     },
     "execution_count": 90,
     "metadata": {},
     "output_type": "execute_result"
    }
   ],
   "source": [
    "df['abs(max)'] = df.abs().max(axis=1)\n",
    "df"
   ]
  },
  {
   "cell_type": "markdown",
   "metadata": {
    "id": "oilY0XL3MSA_"
   },
   "source": [
    "## Indexing\n",
    "Here is where indexing in Python gets a whole lot more intuitive! A dataframe with an index let's use index values (time in this case) to slice the dataframe, not rely on the nth element in the arrays."
   ]
  },
  {
   "cell_type": "code",
   "execution_count": 91,
   "metadata": {
    "colab": {
     "base_uri": "https://localhost:8080/",
     "height": 455
    },
    "id": "-u2YH6_WMxdX",
    "outputId": "6b4dd652-7842-4961-ee70-2c8bb4970ca9"
   },
   "outputs": [
    {
     "data": {
      "text/html": [
       "<div>\n",
       "<style scoped>\n",
       "    .dataframe tbody tr th:only-of-type {\n",
       "        vertical-align: middle;\n",
       "    }\n",
       "\n",
       "    .dataframe tbody tr th {\n",
       "        vertical-align: top;\n",
       "    }\n",
       "\n",
       "    .dataframe thead th {\n",
       "        text-align: right;\n",
       "    }\n",
       "</style>\n",
       "<table border=\"1\" class=\"dataframe\">\n",
       "  <thead>\n",
       "    <tr style=\"text-align: right;\">\n",
       "      <th></th>\n",
       "      <th>Fault_021</th>\n",
       "      <th>Fault_014</th>\n",
       "      <th>Fault_007</th>\n",
       "      <th>Normal</th>\n",
       "      <th>abs(max)</th>\n",
       "    </tr>\n",
       "    <tr>\n",
       "      <th>Time</th>\n",
       "      <th></th>\n",
       "      <th></th>\n",
       "      <th></th>\n",
       "      <th></th>\n",
       "      <th></th>\n",
       "    </tr>\n",
       "  </thead>\n",
       "  <tbody>\n",
       "    <tr>\n",
       "      <th>0.000000</th>\n",
       "      <td>-0.105351</td>\n",
       "      <td>-0.074395</td>\n",
       "      <td>0.053116</td>\n",
       "      <td>0.046104</td>\n",
       "      <td>0.105351</td>\n",
       "    </tr>\n",
       "    <tr>\n",
       "      <th>0.000083</th>\n",
       "      <td>0.132888</td>\n",
       "      <td>0.056365</td>\n",
       "      <td>0.116628</td>\n",
       "      <td>-0.037134</td>\n",
       "      <td>0.132888</td>\n",
       "    </tr>\n",
       "    <tr>\n",
       "      <th>0.000167</th>\n",
       "      <td>-0.056535</td>\n",
       "      <td>0.201257</td>\n",
       "      <td>0.083654</td>\n",
       "      <td>-0.089496</td>\n",
       "      <td>0.201257</td>\n",
       "    </tr>\n",
       "    <tr>\n",
       "      <th>0.000250</th>\n",
       "      <td>-0.193178</td>\n",
       "      <td>-0.024528</td>\n",
       "      <td>-0.026477</td>\n",
       "      <td>-0.084906</td>\n",
       "      <td>0.193178</td>\n",
       "    </tr>\n",
       "    <tr>\n",
       "      <th>0.000333</th>\n",
       "      <td>0.064879</td>\n",
       "      <td>-0.072284</td>\n",
       "      <td>0.045319</td>\n",
       "      <td>-0.038594</td>\n",
       "      <td>0.072284</td>\n",
       "    </tr>\n",
       "    <tr>\n",
       "      <th>...</th>\n",
       "      <td>...</td>\n",
       "      <td>...</td>\n",
       "      <td>...</td>\n",
       "      <td>...</td>\n",
       "      <td>...</td>\n",
       "    </tr>\n",
       "    <tr>\n",
       "      <th>0.049584</th>\n",
       "      <td>0.131010</td>\n",
       "      <td>0.129136</td>\n",
       "      <td>-0.014619</td>\n",
       "      <td>0.021487</td>\n",
       "      <td>0.131010</td>\n",
       "    </tr>\n",
       "    <tr>\n",
       "      <th>0.049667</th>\n",
       "      <td>0.437675</td>\n",
       "      <td>-0.221399</td>\n",
       "      <td>-0.025340</td>\n",
       "      <td>0.021070</td>\n",
       "      <td>0.437675</td>\n",
       "    </tr>\n",
       "    <tr>\n",
       "      <th>0.049750</th>\n",
       "      <td>0.095754</td>\n",
       "      <td>-0.120689</td>\n",
       "      <td>0.033137</td>\n",
       "      <td>0.035256</td>\n",
       "      <td>0.120689</td>\n",
       "    </tr>\n",
       "    <tr>\n",
       "      <th>0.049834</th>\n",
       "      <td>-0.137269</td>\n",
       "      <td>0.275977</td>\n",
       "      <td>0.023716</td>\n",
       "      <td>0.044226</td>\n",
       "      <td>0.275977</td>\n",
       "    </tr>\n",
       "    <tr>\n",
       "      <th>0.049917</th>\n",
       "      <td>0.150203</td>\n",
       "      <td>0.019167</td>\n",
       "      <td>-0.044670</td>\n",
       "      <td>0.005424</td>\n",
       "      <td>0.150203</td>\n",
       "    </tr>\n",
       "  </tbody>\n",
       "</table>\n",
       "<p>600 rows × 5 columns</p>\n",
       "</div>"
      ],
      "text/plain": [
       "          Fault_021  Fault_014  Fault_007    Normal  abs(max)\n",
       "Time                                                         \n",
       "0.000000  -0.105351  -0.074395   0.053116  0.046104  0.105351\n",
       "0.000083   0.132888   0.056365   0.116628 -0.037134  0.132888\n",
       "0.000167  -0.056535   0.201257   0.083654 -0.089496  0.201257\n",
       "0.000250  -0.193178  -0.024528  -0.026477 -0.084906  0.193178\n",
       "0.000333   0.064879  -0.072284   0.045319 -0.038594  0.072284\n",
       "...             ...        ...        ...       ...       ...\n",
       "0.049584   0.131010   0.129136  -0.014619  0.021487  0.131010\n",
       "0.049667   0.437675  -0.221399  -0.025340  0.021070  0.437675\n",
       "0.049750   0.095754  -0.120689   0.033137  0.035256  0.120689\n",
       "0.049834  -0.137269   0.275977   0.023716  0.044226  0.275977\n",
       "0.049917   0.150203   0.019167  -0.044670  0.005424  0.150203\n",
       "\n",
       "[600 rows x 5 columns]"
      ]
     },
     "execution_count": 91,
     "metadata": {},
     "output_type": "execute_result"
    }
   ],
   "source": [
    "df[0: 0.05]"
   ]
  },
  {
   "cell_type": "markdown",
   "metadata": {
    "id": "xTQkEsfJuDAR"
   },
   "source": [
    "We can also use the same convention as before by adding in a step definition, in this case we'll grab every 100th point."
   ]
  },
  {
   "cell_type": "code",
   "execution_count": 92,
   "metadata": {
    "colab": {
     "base_uri": "https://localhost:8080/",
     "height": 269
    },
    "id": "aH5m-nHdM6MV",
    "outputId": "97f1fc33-f5aa-42ca-83f5-d1e8b2919da6"
   },
   "outputs": [
    {
     "data": {
      "text/html": [
       "<div>\n",
       "<style scoped>\n",
       "    .dataframe tbody tr th:only-of-type {\n",
       "        vertical-align: middle;\n",
       "    }\n",
       "\n",
       "    .dataframe tbody tr th {\n",
       "        vertical-align: top;\n",
       "    }\n",
       "\n",
       "    .dataframe thead th {\n",
       "        text-align: right;\n",
       "    }\n",
       "</style>\n",
       "<table border=\"1\" class=\"dataframe\">\n",
       "  <thead>\n",
       "    <tr style=\"text-align: right;\">\n",
       "      <th></th>\n",
       "      <th>Fault_021</th>\n",
       "      <th>Fault_014</th>\n",
       "      <th>Fault_007</th>\n",
       "      <th>Normal</th>\n",
       "      <th>abs(max)</th>\n",
       "    </tr>\n",
       "    <tr>\n",
       "      <th>Time</th>\n",
       "      <th></th>\n",
       "      <th></th>\n",
       "      <th></th>\n",
       "      <th></th>\n",
       "      <th></th>\n",
       "    </tr>\n",
       "  </thead>\n",
       "  <tbody>\n",
       "    <tr>\n",
       "      <th>0.000000</th>\n",
       "      <td>-0.105351</td>\n",
       "      <td>-0.074395</td>\n",
       "      <td>0.053116</td>\n",
       "      <td>0.046104</td>\n",
       "      <td>0.105351</td>\n",
       "    </tr>\n",
       "    <tr>\n",
       "      <th>0.008333</th>\n",
       "      <td>-0.481067</td>\n",
       "      <td>-0.137745</td>\n",
       "      <td>-0.010558</td>\n",
       "      <td>-0.012934</td>\n",
       "      <td>0.481067</td>\n",
       "    </tr>\n",
       "    <tr>\n",
       "      <th>0.016667</th>\n",
       "      <td>-0.265985</td>\n",
       "      <td>-0.073746</td>\n",
       "      <td>-0.140669</td>\n",
       "      <td>0.027329</td>\n",
       "      <td>0.265985</td>\n",
       "    </tr>\n",
       "    <tr>\n",
       "      <th>0.025000</th>\n",
       "      <td>-0.192343</td>\n",
       "      <td>0.203856</td>\n",
       "      <td>-0.168120</td>\n",
       "      <td>-0.029832</td>\n",
       "      <td>0.203856</td>\n",
       "    </tr>\n",
       "    <tr>\n",
       "      <th>0.033334</th>\n",
       "      <td>0.018984</td>\n",
       "      <td>0.154476</td>\n",
       "      <td>-0.072933</td>\n",
       "      <td>0.076353</td>\n",
       "      <td>0.154476</td>\n",
       "    </tr>\n",
       "    <tr>\n",
       "      <th>0.041667</th>\n",
       "      <td>-0.289975</td>\n",
       "      <td>-0.227409</td>\n",
       "      <td>0.088202</td>\n",
       "      <td>0.016898</td>\n",
       "      <td>0.289975</td>\n",
       "    </tr>\n",
       "  </tbody>\n",
       "</table>\n",
       "</div>"
      ],
      "text/plain": [
       "          Fault_021  Fault_014  Fault_007    Normal  abs(max)\n",
       "Time                                                         \n",
       "0.000000  -0.105351  -0.074395   0.053116  0.046104  0.105351\n",
       "0.008333  -0.481067  -0.137745  -0.010558 -0.012934  0.481067\n",
       "0.016667  -0.265985  -0.073746  -0.140669  0.027329  0.265985\n",
       "0.025000  -0.192343   0.203856  -0.168120 -0.029832  0.203856\n",
       "0.033334   0.018984   0.154476  -0.072933  0.076353  0.154476\n",
       "0.041667  -0.289975  -0.227409   0.088202  0.016898  0.289975"
      ]
     },
     "execution_count": 92,
     "metadata": {},
     "output_type": "execute_result"
    }
   ],
   "source": [
    "df[0: 0.05: 100]"
   ]
  },
  {
   "cell_type": "markdown",
   "metadata": {
    "id": "0xzown4qLWGb"
   },
   "source": [
    "There are ways to use the integer based indexing if you so desire."
   ]
  },
  {
   "cell_type": "code",
   "execution_count": 93,
   "metadata": {
    "colab": {
     "base_uri": "https://localhost:8080/",
     "height": 394
    },
    "id": "VgZB15g6LQTY",
    "outputId": "23123f3d-7038-4e4c-86b7-b8bba57e093e"
   },
   "outputs": [
    {
     "data": {
      "text/html": [
       "<div>\n",
       "<style scoped>\n",
       "    .dataframe tbody tr th:only-of-type {\n",
       "        vertical-align: middle;\n",
       "    }\n",
       "\n",
       "    .dataframe tbody tr th {\n",
       "        vertical-align: top;\n",
       "    }\n",
       "\n",
       "    .dataframe thead th {\n",
       "        text-align: right;\n",
       "    }\n",
       "</style>\n",
       "<table border=\"1\" class=\"dataframe\">\n",
       "  <thead>\n",
       "    <tr style=\"text-align: right;\">\n",
       "      <th></th>\n",
       "      <th>Fault_021</th>\n",
       "      <th>Fault_014</th>\n",
       "      <th>Fault_007</th>\n",
       "      <th>Normal</th>\n",
       "      <th>abs(max)</th>\n",
       "    </tr>\n",
       "    <tr>\n",
       "      <th>Time</th>\n",
       "      <th></th>\n",
       "      <th></th>\n",
       "      <th></th>\n",
       "      <th></th>\n",
       "      <th></th>\n",
       "    </tr>\n",
       "  </thead>\n",
       "  <tbody>\n",
       "    <tr>\n",
       "      <th>0.000000</th>\n",
       "      <td>-0.105351</td>\n",
       "      <td>-0.074395</td>\n",
       "      <td>0.053116</td>\n",
       "      <td>0.046104</td>\n",
       "      <td>0.105351</td>\n",
       "    </tr>\n",
       "    <tr>\n",
       "      <th>0.000083</th>\n",
       "      <td>0.132888</td>\n",
       "      <td>0.056365</td>\n",
       "      <td>0.116628</td>\n",
       "      <td>-0.037134</td>\n",
       "      <td>0.132888</td>\n",
       "    </tr>\n",
       "    <tr>\n",
       "      <th>0.000167</th>\n",
       "      <td>-0.056535</td>\n",
       "      <td>0.201257</td>\n",
       "      <td>0.083654</td>\n",
       "      <td>-0.089496</td>\n",
       "      <td>0.201257</td>\n",
       "    </tr>\n",
       "    <tr>\n",
       "      <th>0.000250</th>\n",
       "      <td>-0.193178</td>\n",
       "      <td>-0.024528</td>\n",
       "      <td>-0.026477</td>\n",
       "      <td>-0.084906</td>\n",
       "      <td>0.193178</td>\n",
       "    </tr>\n",
       "    <tr>\n",
       "      <th>0.000333</th>\n",
       "      <td>0.064879</td>\n",
       "      <td>-0.072284</td>\n",
       "      <td>0.045319</td>\n",
       "      <td>-0.038594</td>\n",
       "      <td>0.072284</td>\n",
       "    </tr>\n",
       "    <tr>\n",
       "      <th>0.000417</th>\n",
       "      <td>0.214874</td>\n",
       "      <td>0.034761</td>\n",
       "      <td>0.060751</td>\n",
       "      <td>0.025451</td>\n",
       "      <td>0.214874</td>\n",
       "    </tr>\n",
       "    <tr>\n",
       "      <th>0.000500</th>\n",
       "      <td>-0.076353</td>\n",
       "      <td>0.094212</td>\n",
       "      <td>-0.174130</td>\n",
       "      <td>0.040680</td>\n",
       "      <td>0.174130</td>\n",
       "    </tr>\n",
       "    <tr>\n",
       "      <th>0.000583</th>\n",
       "      <td>-0.065922</td>\n",
       "      <td>-0.070010</td>\n",
       "      <td>-0.229521</td>\n",
       "      <td>0.042558</td>\n",
       "      <td>0.229521</td>\n",
       "    </tr>\n",
       "    <tr>\n",
       "      <th>0.000667</th>\n",
       "      <td>0.206529</td>\n",
       "      <td>-0.079431</td>\n",
       "      <td>0.045482</td>\n",
       "      <td>0.038177</td>\n",
       "      <td>0.206529</td>\n",
       "    </tr>\n",
       "    <tr>\n",
       "      <th>0.000750</th>\n",
       "      <td>0.021487</td>\n",
       "      <td>0.092426</td>\n",
       "      <td>0.027452</td>\n",
       "      <td>0.044018</td>\n",
       "      <td>0.092426</td>\n",
       "    </tr>\n",
       "  </tbody>\n",
       "</table>\n",
       "</div>"
      ],
      "text/plain": [
       "          Fault_021  Fault_014  Fault_007    Normal  abs(max)\n",
       "Time                                                         \n",
       "0.000000  -0.105351  -0.074395   0.053116  0.046104  0.105351\n",
       "0.000083   0.132888   0.056365   0.116628 -0.037134  0.132888\n",
       "0.000167  -0.056535   0.201257   0.083654 -0.089496  0.201257\n",
       "0.000250  -0.193178  -0.024528  -0.026477 -0.084906  0.193178\n",
       "0.000333   0.064879  -0.072284   0.045319 -0.038594  0.072284\n",
       "0.000417   0.214874   0.034761   0.060751  0.025451  0.214874\n",
       "0.000500  -0.076353   0.094212  -0.174130  0.040680  0.174130\n",
       "0.000583  -0.065922  -0.070010  -0.229521  0.042558  0.229521\n",
       "0.000667   0.206529  -0.079431   0.045482  0.038177  0.206529\n",
       "0.000750   0.021487   0.092426   0.027452  0.044018  0.092426"
      ]
     },
     "execution_count": 93,
     "metadata": {},
     "output_type": "execute_result"
    }
   ],
   "source": [
    "df.iloc[0:10]"
   ]
  },
  {
   "cell_type": "markdown",
   "metadata": {
    "id": "XxIMZ9-gMSfC"
   },
   "source": [
    "## Rolling\n",
    "I love the [rolling method](https://pandas.pydata.org/docs/reference/api/pandas.DataFrame.rolling.html) which allows for easy rolling window calculations, something you'll do frequently with time series data."
   ]
  },
  {
   "cell_type": "code",
   "execution_count": 94,
   "metadata": {
    "colab": {
     "base_uri": "https://localhost:8080/",
     "height": 455
    },
    "id": "QeIgZF4WNo7K",
    "outputId": "59361aae-3320-48b6-8716-e68971845511"
   },
   "outputs": [
    {
     "data": {
      "text/html": [
       "<div>\n",
       "<style scoped>\n",
       "    .dataframe tbody tr th:only-of-type {\n",
       "        vertical-align: middle;\n",
       "    }\n",
       "\n",
       "    .dataframe tbody tr th {\n",
       "        vertical-align: top;\n",
       "    }\n",
       "\n",
       "    .dataframe thead th {\n",
       "        text-align: right;\n",
       "    }\n",
       "</style>\n",
       "<table border=\"1\" class=\"dataframe\">\n",
       "  <thead>\n",
       "    <tr style=\"text-align: right;\">\n",
       "      <th></th>\n",
       "      <th>Fault_021</th>\n",
       "      <th>Fault_014</th>\n",
       "      <th>Fault_007</th>\n",
       "      <th>Normal</th>\n",
       "      <th>abs(max)</th>\n",
       "    </tr>\n",
       "    <tr>\n",
       "      <th>Time</th>\n",
       "      <th></th>\n",
       "      <th></th>\n",
       "      <th></th>\n",
       "      <th></th>\n",
       "      <th></th>\n",
       "    </tr>\n",
       "  </thead>\n",
       "  <tbody>\n",
       "    <tr>\n",
       "      <th>0.000000</th>\n",
       "      <td>NaN</td>\n",
       "      <td>NaN</td>\n",
       "      <td>NaN</td>\n",
       "      <td>NaN</td>\n",
       "      <td>NaN</td>\n",
       "    </tr>\n",
       "    <tr>\n",
       "      <th>0.000083</th>\n",
       "      <td>NaN</td>\n",
       "      <td>NaN</td>\n",
       "      <td>NaN</td>\n",
       "      <td>NaN</td>\n",
       "      <td>NaN</td>\n",
       "    </tr>\n",
       "    <tr>\n",
       "      <th>0.000167</th>\n",
       "      <td>NaN</td>\n",
       "      <td>NaN</td>\n",
       "      <td>NaN</td>\n",
       "      <td>NaN</td>\n",
       "      <td>NaN</td>\n",
       "    </tr>\n",
       "    <tr>\n",
       "      <th>0.000250</th>\n",
       "      <td>NaN</td>\n",
       "      <td>NaN</td>\n",
       "      <td>NaN</td>\n",
       "      <td>NaN</td>\n",
       "      <td>NaN</td>\n",
       "    </tr>\n",
       "    <tr>\n",
       "      <th>0.000333</th>\n",
       "      <td>NaN</td>\n",
       "      <td>NaN</td>\n",
       "      <td>NaN</td>\n",
       "      <td>NaN</td>\n",
       "      <td>NaN</td>\n",
       "    </tr>\n",
       "    <tr>\n",
       "      <th>...</th>\n",
       "      <td>...</td>\n",
       "      <td>...</td>\n",
       "      <td>...</td>\n",
       "      <td>...</td>\n",
       "      <td>...</td>\n",
       "    </tr>\n",
       "    <tr>\n",
       "      <th>9.999667</th>\n",
       "      <td>0.748721</td>\n",
       "      <td>0.768318</td>\n",
       "      <td>0.408362</td>\n",
       "      <td>0.18525</td>\n",
       "      <td>0.933137</td>\n",
       "    </tr>\n",
       "    <tr>\n",
       "      <th>9.999750</th>\n",
       "      <td>0.748721</td>\n",
       "      <td>0.768318</td>\n",
       "      <td>0.408362</td>\n",
       "      <td>0.18525</td>\n",
       "      <td>0.933137</td>\n",
       "    </tr>\n",
       "    <tr>\n",
       "      <th>9.999833</th>\n",
       "      <td>0.748721</td>\n",
       "      <td>0.768318</td>\n",
       "      <td>0.408362</td>\n",
       "      <td>0.18525</td>\n",
       "      <td>0.933137</td>\n",
       "    </tr>\n",
       "    <tr>\n",
       "      <th>9.999917</th>\n",
       "      <td>0.748721</td>\n",
       "      <td>0.768318</td>\n",
       "      <td>0.408362</td>\n",
       "      <td>0.18525</td>\n",
       "      <td>0.933137</td>\n",
       "    </tr>\n",
       "    <tr>\n",
       "      <th>10.000000</th>\n",
       "      <td>0.748721</td>\n",
       "      <td>0.768318</td>\n",
       "      <td>0.408362</td>\n",
       "      <td>0.18525</td>\n",
       "      <td>0.933137</td>\n",
       "    </tr>\n",
       "  </tbody>\n",
       "</table>\n",
       "<p>120000 rows × 5 columns</p>\n",
       "</div>"
      ],
      "text/plain": [
       "           Fault_021  Fault_014  Fault_007   Normal  abs(max)\n",
       "Time                                                         \n",
       "0.000000         NaN        NaN        NaN      NaN       NaN\n",
       "0.000083         NaN        NaN        NaN      NaN       NaN\n",
       "0.000167         NaN        NaN        NaN      NaN       NaN\n",
       "0.000250         NaN        NaN        NaN      NaN       NaN\n",
       "0.000333         NaN        NaN        NaN      NaN       NaN\n",
       "...              ...        ...        ...      ...       ...\n",
       "9.999667    0.748721   0.768318   0.408362  0.18525  0.933137\n",
       "9.999750    0.748721   0.768318   0.408362  0.18525  0.933137\n",
       "9.999833    0.748721   0.768318   0.408362  0.18525  0.933137\n",
       "9.999917    0.748721   0.768318   0.408362  0.18525  0.933137\n",
       "10.000000   0.748721   0.768318   0.408362  0.18525  0.933137\n",
       "\n",
       "[120000 rows x 5 columns]"
      ]
     },
     "execution_count": 94,
     "metadata": {},
     "output_type": "execute_result"
    }
   ],
   "source": [
    "n = int(df.shape[0] / 100)\n",
    "df.rolling(n).max()"
   ]
  },
  {
   "cell_type": "code",
   "execution_count": 95,
   "metadata": {
    "colab": {
     "base_uri": "https://localhost:8080/",
     "height": 455
    },
    "id": "eke1fPqkN_NS",
    "outputId": "e238d753-2fcb-4119-90b4-b8e34c98b900"
   },
   "outputs": [
    {
     "data": {
      "text/html": [
       "<div>\n",
       "<style scoped>\n",
       "    .dataframe tbody tr th:only-of-type {\n",
       "        vertical-align: middle;\n",
       "    }\n",
       "\n",
       "    .dataframe tbody tr th {\n",
       "        vertical-align: top;\n",
       "    }\n",
       "\n",
       "    .dataframe thead th {\n",
       "        text-align: right;\n",
       "    }\n",
       "</style>\n",
       "<table border=\"1\" class=\"dataframe\">\n",
       "  <thead>\n",
       "    <tr style=\"text-align: right;\">\n",
       "      <th></th>\n",
       "      <th>Fault_021</th>\n",
       "      <th>Fault_014</th>\n",
       "      <th>Fault_007</th>\n",
       "      <th>Normal</th>\n",
       "      <th>abs(max)</th>\n",
       "    </tr>\n",
       "    <tr>\n",
       "      <th>Time</th>\n",
       "      <th></th>\n",
       "      <th></th>\n",
       "      <th></th>\n",
       "      <th></th>\n",
       "      <th></th>\n",
       "    </tr>\n",
       "  </thead>\n",
       "  <tbody>\n",
       "    <tr>\n",
       "      <th>0.000000</th>\n",
       "      <td>NaN</td>\n",
       "      <td>NaN</td>\n",
       "      <td>NaN</td>\n",
       "      <td>NaN</td>\n",
       "      <td>NaN</td>\n",
       "    </tr>\n",
       "    <tr>\n",
       "      <th>0.100001</th>\n",
       "      <td>0.726190</td>\n",
       "      <td>0.710166</td>\n",
       "      <td>0.443448</td>\n",
       "      <td>0.184416</td>\n",
       "      <td>0.813809</td>\n",
       "    </tr>\n",
       "    <tr>\n",
       "      <th>0.200002</th>\n",
       "      <td>0.696150</td>\n",
       "      <td>0.641131</td>\n",
       "      <td>0.411773</td>\n",
       "      <td>0.204443</td>\n",
       "      <td>0.740376</td>\n",
       "    </tr>\n",
       "    <tr>\n",
       "      <th>0.300003</th>\n",
       "      <td>0.491289</td>\n",
       "      <td>0.846612</td>\n",
       "      <td>0.492178</td>\n",
       "      <td>0.172525</td>\n",
       "      <td>0.846612</td>\n",
       "    </tr>\n",
       "    <tr>\n",
       "      <th>0.400003</th>\n",
       "      <td>0.578699</td>\n",
       "      <td>0.608482</td>\n",
       "      <td>0.524828</td>\n",
       "      <td>0.204860</td>\n",
       "      <td>0.608482</td>\n",
       "    </tr>\n",
       "    <tr>\n",
       "      <th>...</th>\n",
       "      <td>...</td>\n",
       "      <td>...</td>\n",
       "      <td>...</td>\n",
       "      <td>...</td>\n",
       "      <td>...</td>\n",
       "    </tr>\n",
       "    <tr>\n",
       "      <th>9.500079</th>\n",
       "      <td>0.731823</td>\n",
       "      <td>0.500950</td>\n",
       "      <td>0.474798</td>\n",
       "      <td>0.206112</td>\n",
       "      <td>0.760820</td>\n",
       "    </tr>\n",
       "    <tr>\n",
       "      <th>9.600080</th>\n",
       "      <td>0.697818</td>\n",
       "      <td>0.713253</td>\n",
       "      <td>0.470412</td>\n",
       "      <td>0.190466</td>\n",
       "      <td>0.713253</td>\n",
       "    </tr>\n",
       "    <tr>\n",
       "      <th>9.700081</th>\n",
       "      <td>0.677791</td>\n",
       "      <td>0.547244</td>\n",
       "      <td>0.415996</td>\n",
       "      <td>0.229060</td>\n",
       "      <td>0.677791</td>\n",
       "    </tr>\n",
       "    <tr>\n",
       "      <th>9.800082</th>\n",
       "      <td>0.625220</td>\n",
       "      <td>0.569498</td>\n",
       "      <td>0.391469</td>\n",
       "      <td>0.176489</td>\n",
       "      <td>0.653801</td>\n",
       "    </tr>\n",
       "    <tr>\n",
       "      <th>9.900083</th>\n",
       "      <td>0.749555</td>\n",
       "      <td>0.949271</td>\n",
       "      <td>0.332342</td>\n",
       "      <td>0.176489</td>\n",
       "      <td>0.949271</td>\n",
       "    </tr>\n",
       "  </tbody>\n",
       "</table>\n",
       "<p>100 rows × 5 columns</p>\n",
       "</div>"
      ],
      "text/plain": [
       "          Fault_021  Fault_014  Fault_007    Normal  abs(max)\n",
       "Time                                                         \n",
       "0.000000        NaN        NaN        NaN       NaN       NaN\n",
       "0.100001   0.726190   0.710166   0.443448  0.184416  0.813809\n",
       "0.200002   0.696150   0.641131   0.411773  0.204443  0.740376\n",
       "0.300003   0.491289   0.846612   0.492178  0.172525  0.846612\n",
       "0.400003   0.578699   0.608482   0.524828  0.204860  0.608482\n",
       "...             ...        ...        ...       ...       ...\n",
       "9.500079   0.731823   0.500950   0.474798  0.206112  0.760820\n",
       "9.600080   0.697818   0.713253   0.470412  0.190466  0.713253\n",
       "9.700081   0.677791   0.547244   0.415996  0.229060  0.677791\n",
       "9.800082   0.625220   0.569498   0.391469  0.176489  0.653801\n",
       "9.900083   0.749555   0.949271   0.332342  0.176489  0.949271\n",
       "\n",
       "[100 rows x 5 columns]"
      ]
     },
     "execution_count": 95,
     "metadata": {},
     "output_type": "execute_result"
    }
   ],
   "source": [
    "df.rolling(n).max()[::n]"
   ]
  },
  {
   "cell_type": "code",
   "execution_count": 97,
   "metadata": {
    "colab": {
     "base_uri": "https://localhost:8080/",
     "height": 542
    },
    "id": "ZX7LWaYlL-eH",
    "outputId": "dcf2ba3c-08ed-46a2-e1b6-8ab978787f0a"
   },
   "outputs": [
    {
     "data": {
      "text/plain": [
       "<Axes: xlabel='Time'>"
      ]
     },
     "execution_count": 97,
     "metadata": {},
     "output_type": "execute_result"
    },
    {
     "data": {
      "image/png": "[encoded data removed]",
      "text/plain": [
       "<Figure size 640x480 with 1 Axes>"
      ]
     },
     "metadata": {},
     "output_type": "display_data"
    }
   ],
   "source": [
    "df.rolling(n).max().plot()"
   ]
  },
  {
   "cell_type": "markdown",
   "metadata": {
    "id": "fEldJh0jO-N8"
   },
   "source": [
    "## Datetime Data (Yay Finance!)\n",
    "\n",
    "Let's use Yahoo Finance and stock data as a relatable example of data with datetimes."
   ]
  },
  {
   "cell_type": "code",
   "execution_count": 98,
   "metadata": {
    "colab": {
     "base_uri": "https://localhost:8080/"
    },
    "id": "jSQFF4_PMFyX",
    "outputId": "e290bbf0-00e8-46ab-b733-d8652f8a0c3f"
   },
   "outputs": [
    {
     "name": "stdout",
     "output_type": "stream",
     "text": [
      "\n",
      "\u001b[1m[\u001b[0m\u001b[34;49mnotice\u001b[0m\u001b[1;39;49m]\u001b[0m\u001b[39;49m A new release of pip available: \u001b[0m\u001b[31;49m22.2.1\u001b[0m\u001b[39;49m -> \u001b[0m\u001b[32;49m25.0.1\u001b[0m\n",
      "\u001b[1m[\u001b[0m\u001b[34;49mnotice\u001b[0m\u001b[1;39;49m]\u001b[0m\u001b[39;49m To update, run: \u001b[0m\u001b[32;49mpip install --upgrade pip\u001b[0m\n",
      "Note: you may need to restart the kernel to use updated packages.\n"
     ]
    }
   ],
   "source": [
    "%pip install -q yfinance\n",
    "import yfinance as yf"
   ]
  },
  {
   "cell_type": "code",
   "execution_count": 99,
   "metadata": {
    "colab": {
     "base_uri": "https://localhost:8080/",
     "height": 697
    },
    "id": "NBd9jY74MOs_",
    "outputId": "34453976-3b01-4b41-ce61-3b936aa5ba08"
   },
   "outputs": [
    {
     "name": "stdout",
     "output_type": "stream",
     "text": [
      "YF.download() has changed argument auto_adjust default to True\n"
     ]
    },
    {
     "name": "stderr",
     "output_type": "stream",
     "text": [
      "[*********************100%***********************]  5 of 5 completed\n"
     ]
    },
    {
     "data": {
      "text/html": [
       "<div>\n",
       "<style scoped>\n",
       "    .dataframe tbody tr th:only-of-type {\n",
       "        vertical-align: middle;\n",
       "    }\n",
       "\n",
       "    .dataframe tbody tr th {\n",
       "        vertical-align: top;\n",
       "    }\n",
       "\n",
       "    .dataframe thead tr th {\n",
       "        text-align: left;\n",
       "    }\n",
       "\n",
       "    .dataframe thead tr:last-of-type th {\n",
       "        text-align: right;\n",
       "    }\n",
       "</style>\n",
       "<table border=\"1\" class=\"dataframe\">\n",
       "  <thead>\n",
       "    <tr>\n",
       "      <th>Price</th>\n",
       "      <th colspan=\"5\" halign=\"left\">Close</th>\n",
       "      <th colspan=\"5\" halign=\"left\">High</th>\n",
       "      <th>...</th>\n",
       "      <th colspan=\"5\" halign=\"left\">Open</th>\n",
       "      <th colspan=\"5\" halign=\"left\">Volume</th>\n",
       "    </tr>\n",
       "    <tr>\n",
       "      <th>Ticker</th>\n",
       "      <th>AAPL</th>\n",
       "      <th>AMZN</th>\n",
       "      <th>GOOGL</th>\n",
       "      <th>MSFT</th>\n",
       "      <th>SPY</th>\n",
       "      <th>AAPL</th>\n",
       "      <th>AMZN</th>\n",
       "      <th>GOOGL</th>\n",
       "      <th>MSFT</th>\n",
       "      <th>SPY</th>\n",
       "      <th>...</th>\n",
       "      <th>AAPL</th>\n",
       "      <th>AMZN</th>\n",
       "      <th>GOOGL</th>\n",
       "      <th>MSFT</th>\n",
       "      <th>SPY</th>\n",
       "      <th>AAPL</th>\n",
       "      <th>AMZN</th>\n",
       "      <th>GOOGL</th>\n",
       "      <th>MSFT</th>\n",
       "      <th>SPY</th>\n",
       "    </tr>\n",
       "    <tr>\n",
       "      <th>Date</th>\n",
       "      <th></th>\n",
       "      <th></th>\n",
       "      <th></th>\n",
       "      <th></th>\n",
       "      <th></th>\n",
       "      <th></th>\n",
       "      <th></th>\n",
       "      <th></th>\n",
       "      <th></th>\n",
       "      <th></th>\n",
       "      <th></th>\n",
       "      <th></th>\n",
       "      <th></th>\n",
       "      <th></th>\n",
       "      <th></th>\n",
       "      <th></th>\n",
       "      <th></th>\n",
       "      <th></th>\n",
       "      <th></th>\n",
       "      <th></th>\n",
       "      <th></th>\n",
       "    </tr>\n",
       "  </thead>\n",
       "  <tbody>\n",
       "    <tr>\n",
       "      <th>2019-01-02</th>\n",
       "      <td>37.667191</td>\n",
       "      <td>76.956497</td>\n",
       "      <td>52.543530</td>\n",
       "      <td>95.119812</td>\n",
       "      <td>227.637482</td>\n",
       "      <td>37.889017</td>\n",
       "      <td>77.667999</td>\n",
       "      <td>52.847926</td>\n",
       "      <td>95.712427</td>\n",
       "      <td>228.574686</td>\n",
       "      <td>...</td>\n",
       "      <td>36.944473</td>\n",
       "      <td>73.260002</td>\n",
       "      <td>51.174492</td>\n",
       "      <td>93.642972</td>\n",
       "      <td>223.815926</td>\n",
       "      <td>148158800</td>\n",
       "      <td>159662000</td>\n",
       "      <td>31868000</td>\n",
       "      <td>35329300</td>\n",
       "      <td>126925200</td>\n",
       "    </tr>\n",
       "    <tr>\n",
       "      <th>2019-01-03</th>\n",
       "      <td>33.915253</td>\n",
       "      <td>75.014000</td>\n",
       "      <td>51.088299</td>\n",
       "      <td>91.620544</td>\n",
       "      <td>222.205429</td>\n",
       "      <td>34.757230</td>\n",
       "      <td>76.900002</td>\n",
       "      <td>53.120433</td>\n",
       "      <td>94.244994</td>\n",
       "      <td>226.172571</td>\n",
       "      <td>...</td>\n",
       "      <td>34.342203</td>\n",
       "      <td>76.000504</td>\n",
       "      <td>52.343750</td>\n",
       "      <td>94.160331</td>\n",
       "      <td>225.863196</td>\n",
       "      <td>365248800</td>\n",
       "      <td>139512000</td>\n",
       "      <td>41960000</td>\n",
       "      <td>42579100</td>\n",
       "      <td>144140700</td>\n",
       "    </tr>\n",
       "    <tr>\n",
       "      <th>2019-01-04</th>\n",
       "      <td>35.363071</td>\n",
       "      <td>78.769501</td>\n",
       "      <td>53.708801</td>\n",
       "      <td>95.881767</td>\n",
       "      <td>229.648346</td>\n",
       "      <td>35.432244</td>\n",
       "      <td>79.699997</td>\n",
       "      <td>53.804953</td>\n",
       "      <td>96.427353</td>\n",
       "      <td>230.303471</td>\n",
       "      <td>...</td>\n",
       "      <td>34.473390</td>\n",
       "      <td>76.500000</td>\n",
       "      <td>51.939713</td>\n",
       "      <td>93.802903</td>\n",
       "      <td>225.280848</td>\n",
       "      <td>234428400</td>\n",
       "      <td>183652000</td>\n",
       "      <td>46022000</td>\n",
       "      <td>44060600</td>\n",
       "      <td>142628800</td>\n",
       "    </tr>\n",
       "    <tr>\n",
       "      <th>2019-01-07</th>\n",
       "      <td>35.284359</td>\n",
       "      <td>81.475502</td>\n",
       "      <td>53.601692</td>\n",
       "      <td>96.004036</td>\n",
       "      <td>231.459030</td>\n",
       "      <td>35.499030</td>\n",
       "      <td>81.727997</td>\n",
       "      <td>53.939465</td>\n",
       "      <td>97.142237</td>\n",
       "      <td>232.887558</td>\n",
       "      <td>...</td>\n",
       "      <td>35.468021</td>\n",
       "      <td>80.115501</td>\n",
       "      <td>53.853279</td>\n",
       "      <td>95.608959</td>\n",
       "      <td>229.921306</td>\n",
       "      <td>219111200</td>\n",
       "      <td>159864000</td>\n",
       "      <td>47446000</td>\n",
       "      <td>35656100</td>\n",
       "      <td>103139100</td>\n",
       "    </tr>\n",
       "    <tr>\n",
       "      <th>2019-01-08</th>\n",
       "      <td>35.956989</td>\n",
       "      <td>82.829002</td>\n",
       "      <td>54.072483</td>\n",
       "      <td>96.700127</td>\n",
       "      <td>233.633698</td>\n",
       "      <td>36.212208</td>\n",
       "      <td>83.830498</td>\n",
       "      <td>54.470040</td>\n",
       "      <td>97.800700</td>\n",
       "      <td>234.125049</td>\n",
       "      <td>...</td>\n",
       "      <td>35.673149</td>\n",
       "      <td>83.234497</td>\n",
       "      <td>54.103867</td>\n",
       "      <td>96.925884</td>\n",
       "      <td>233.679209</td>\n",
       "      <td>164101200</td>\n",
       "      <td>177628000</td>\n",
       "      <td>35414000</td>\n",
       "      <td>31514400</td>\n",
       "      <td>102512600</td>\n",
       "    </tr>\n",
       "    <tr>\n",
       "      <th>...</th>\n",
       "      <td>...</td>\n",
       "      <td>...</td>\n",
       "      <td>...</td>\n",
       "      <td>...</td>\n",
       "      <td>...</td>\n",
       "      <td>...</td>\n",
       "      <td>...</td>\n",
       "      <td>...</td>\n",
       "      <td>...</td>\n",
       "      <td>...</td>\n",
       "      <td>...</td>\n",
       "      <td>...</td>\n",
       "      <td>...</td>\n",
       "      <td>...</td>\n",
       "      <td>...</td>\n",
       "      <td>...</td>\n",
       "      <td>...</td>\n",
       "      <td>...</td>\n",
       "      <td>...</td>\n",
       "      <td>...</td>\n",
       "      <td>...</td>\n",
       "    </tr>\n",
       "    <tr>\n",
       "      <th>2021-09-17</th>\n",
       "      <td>143.338943</td>\n",
       "      <td>173.126007</td>\n",
       "      <td>140.291443</td>\n",
       "      <td>291.171906</td>\n",
       "      <td>420.953064</td>\n",
       "      <td>146.047535</td>\n",
       "      <td>174.870499</td>\n",
       "      <td>142.931865</td>\n",
       "      <td>295.667612</td>\n",
       "      <td>424.739163</td>\n",
       "      <td>...</td>\n",
       "      <td>146.047535</td>\n",
       "      <td>174.420502</td>\n",
       "      <td>142.513886</td>\n",
       "      <td>295.347197</td>\n",
       "      <td>424.310026</td>\n",
       "      <td>129868800</td>\n",
       "      <td>92332000</td>\n",
       "      <td>53384000</td>\n",
       "      <td>41372500</td>\n",
       "      <td>118425000</td>\n",
       "    </tr>\n",
       "    <tr>\n",
       "      <th>2021-09-20</th>\n",
       "      <td>140.277084</td>\n",
       "      <td>167.786499</td>\n",
       "      <td>138.218445</td>\n",
       "      <td>285.763428</td>\n",
       "      <td>413.933990</td>\n",
       "      <td>142.141682</td>\n",
       "      <td>170.949997</td>\n",
       "      <td>138.497934</td>\n",
       "      <td>290.055233</td>\n",
       "      <td>416.337246</td>\n",
       "      <td>...</td>\n",
       "      <td>141.121063</td>\n",
       "      <td>169.800003</td>\n",
       "      <td>137.662462</td>\n",
       "      <td>287.734544</td>\n",
       "      <td>414.735076</td>\n",
       "      <td>123478900</td>\n",
       "      <td>93382000</td>\n",
       "      <td>46518000</td>\n",
       "      <td>38278700</td>\n",
       "      <td>166445500</td>\n",
       "    </tr>\n",
       "    <tr>\n",
       "      <th>2021-09-21</th>\n",
       "      <td>140.757919</td>\n",
       "      <td>167.181503</td>\n",
       "      <td>138.530823</td>\n",
       "      <td>286.248901</td>\n",
       "      <td>413.542969</td>\n",
       "      <td>141.906136</td>\n",
       "      <td>168.985001</td>\n",
       "      <td>139.505789</td>\n",
       "      <td>288.909444</td>\n",
       "      <td>417.624705</td>\n",
       "      <td>...</td>\n",
       "      <td>141.248604</td>\n",
       "      <td>168.750000</td>\n",
       "      <td>139.244727</td>\n",
       "      <td>287.113100</td>\n",
       "      <td>416.308626</td>\n",
       "      <td>75834000</td>\n",
       "      <td>55618000</td>\n",
       "      <td>25332000</td>\n",
       "      <td>22364100</td>\n",
       "      <td>92526100</td>\n",
       "    </tr>\n",
       "    <tr>\n",
       "      <th>2021-09-22</th>\n",
       "      <td>143.132843</td>\n",
       "      <td>169.002502</td>\n",
       "      <td>139.776794</td>\n",
       "      <td>289.919281</td>\n",
       "      <td>417.576996</td>\n",
       "      <td>143.702025</td>\n",
       "      <td>169.449997</td>\n",
       "      <td>140.378115</td>\n",
       "      <td>291.511725</td>\n",
       "      <td>419.646488</td>\n",
       "      <td>...</td>\n",
       "      <td>141.758916</td>\n",
       "      <td>167.550003</td>\n",
       "      <td>138.800840</td>\n",
       "      <td>288.122966</td>\n",
       "      <td>415.850843</td>\n",
       "      <td>76404300</td>\n",
       "      <td>48228000</td>\n",
       "      <td>25056000</td>\n",
       "      <td>26626300</td>\n",
       "      <td>102350100</td>\n",
       "    </tr>\n",
       "    <tr>\n",
       "      <th>2021-09-23</th>\n",
       "      <td>144.094635</td>\n",
       "      <td>170.800003</td>\n",
       "      <td>140.705933</td>\n",
       "      <td>290.870880</td>\n",
       "      <td>422.650574</td>\n",
       "      <td>144.339978</td>\n",
       "      <td>171.447998</td>\n",
       "      <td>141.184696</td>\n",
       "      <td>292.172008</td>\n",
       "      <td>424.281382</td>\n",
       "      <td>...</td>\n",
       "      <td>143.917981</td>\n",
       "      <td>169.002502</td>\n",
       "      <td>140.478258</td>\n",
       "      <td>290.181483</td>\n",
       "      <td>419.474842</td>\n",
       "      <td>64838200</td>\n",
       "      <td>47588000</td>\n",
       "      <td>20952000</td>\n",
       "      <td>18604600</td>\n",
       "      <td>76396000</td>\n",
       "    </tr>\n",
       "  </tbody>\n",
       "</table>\n",
       "<p>688 rows × 25 columns</p>\n",
       "</div>"
      ],
      "text/plain": [
       "Price            Close                                                  \\\n",
       "Ticker            AAPL        AMZN       GOOGL        MSFT         SPY   \n",
       "Date                                                                     \n",
       "2019-01-02   37.667191   76.956497   52.543530   95.119812  227.637482   \n",
       "2019-01-03   33.915253   75.014000   51.088299   91.620544  222.205429   \n",
       "2019-01-04   35.363071   78.769501   53.708801   95.881767  229.648346   \n",
       "2019-01-07   35.284359   81.475502   53.601692   96.004036  231.459030   \n",
       "2019-01-08   35.956989   82.829002   54.072483   96.700127  233.633698   \n",
       "...                ...         ...         ...         ...         ...   \n",
       "2021-09-17  143.338943  173.126007  140.291443  291.171906  420.953064   \n",
       "2021-09-20  140.277084  167.786499  138.218445  285.763428  413.933990   \n",
       "2021-09-21  140.757919  167.181503  138.530823  286.248901  413.542969   \n",
       "2021-09-22  143.132843  169.002502  139.776794  289.919281  417.576996   \n",
       "2021-09-23  144.094635  170.800003  140.705933  290.870880  422.650574   \n",
       "\n",
       "Price             High                                                  ...  \\\n",
       "Ticker            AAPL        AMZN       GOOGL        MSFT         SPY  ...   \n",
       "Date                                                                    ...   \n",
       "2019-01-02   37.889017   77.667999   52.847926   95.712427  228.574686  ...   \n",
       "2019-01-03   34.757230   76.900002   53.120433   94.244994  226.172571  ...   \n",
       "2019-01-04   35.432244   79.699997   53.804953   96.427353  230.303471  ...   \n",
       "2019-01-07   35.499030   81.727997   53.939465   97.142237  232.887558  ...   \n",
       "2019-01-08   36.212208   83.830498   54.470040   97.800700  234.125049  ...   \n",
       "...                ...         ...         ...         ...         ...  ...   \n",
       "2021-09-17  146.047535  174.870499  142.931865  295.667612  424.739163  ...   \n",
       "2021-09-20  142.141682  170.949997  138.497934  290.055233  416.337246  ...   \n",
       "2021-09-21  141.906136  168.985001  139.505789  288.909444  417.624705  ...   \n",
       "2021-09-22  143.702025  169.449997  140.378115  291.511725  419.646488  ...   \n",
       "2021-09-23  144.339978  171.447998  141.184696  292.172008  424.281382  ...   \n",
       "\n",
       "Price             Open                                                  \\\n",
       "Ticker            AAPL        AMZN       GOOGL        MSFT         SPY   \n",
       "Date                                                                     \n",
       "2019-01-02   36.944473   73.260002   51.174492   93.642972  223.815926   \n",
       "2019-01-03   34.342203   76.000504   52.343750   94.160331  225.863196   \n",
       "2019-01-04   34.473390   76.500000   51.939713   93.802903  225.280848   \n",
       "2019-01-07   35.468021   80.115501   53.853279   95.608959  229.921306   \n",
       "2019-01-08   35.673149   83.234497   54.103867   96.925884  233.679209   \n",
       "...                ...         ...         ...         ...         ...   \n",
       "2021-09-17  146.047535  174.420502  142.513886  295.347197  424.310026   \n",
       "2021-09-20  141.121063  169.800003  137.662462  287.734544  414.735076   \n",
       "2021-09-21  141.248604  168.750000  139.244727  287.113100  416.308626   \n",
       "2021-09-22  141.758916  167.550003  138.800840  288.122966  415.850843   \n",
       "2021-09-23  143.917981  169.002502  140.478258  290.181483  419.474842   \n",
       "\n",
       "Price          Volume                                            \n",
       "Ticker           AAPL       AMZN     GOOGL      MSFT        SPY  \n",
       "Date                                                             \n",
       "2019-01-02  148158800  159662000  31868000  35329300  126925200  \n",
       "2019-01-03  365248800  139512000  41960000  42579100  144140700  \n",
       "2019-01-04  234428400  183652000  46022000  44060600  142628800  \n",
       "2019-01-07  219111200  159864000  47446000  35656100  103139100  \n",
       "2019-01-08  164101200  177628000  35414000  31514400  102512600  \n",
       "...               ...        ...       ...       ...        ...  \n",
       "2021-09-17  129868800   92332000  53384000  41372500  118425000  \n",
       "2021-09-20  123478900   93382000  46518000  38278700  166445500  \n",
       "2021-09-21   75834000   55618000  25332000  22364100   92526100  \n",
       "2021-09-22   76404300   48228000  25056000  26626300  102350100  \n",
       "2021-09-23   64838200   47588000  20952000  18604600   76396000  \n",
       "\n",
       "[688 rows x 25 columns]"
      ]
     },
     "execution_count": 99,
     "metadata": {},
     "output_type": "execute_result"
    }
   ],
   "source": [
    "df =  yf.download([\"SPY\", \"AAPL\", \"MSFT\", \"AMZN\", \"GOOGL\"],\n",
    "                  start='2019-01-01',\n",
    "                  end='2021-09-24')\n",
    "df"
   ]
  },
  {
   "cell_type": "markdown",
   "metadata": {
    "id": "DrzB4cQh7zvI"
   },
   "source": [
    "Let's compare not the price, but the relative performance."
   ]
  },
  {
   "cell_type": "code",
   "execution_count": 102,
   "metadata": {
    "colab": {
     "base_uri": "https://localhost:8080/",
     "height": 455
    },
    "id": "KA6yCs-IPqpD",
    "outputId": "5309f784-3917-4125-f1a9-f39b56fb3372"
   },
   "outputs": [
    {
     "data": {
      "text/html": [
       "<div>\n",
       "<style scoped>\n",
       "    .dataframe tbody tr th:only-of-type {\n",
       "        vertical-align: middle;\n",
       "    }\n",
       "\n",
       "    .dataframe tbody tr th {\n",
       "        vertical-align: top;\n",
       "    }\n",
       "\n",
       "    .dataframe thead th {\n",
       "        text-align: right;\n",
       "    }\n",
       "</style>\n",
       "<table border=\"1\" class=\"dataframe\">\n",
       "  <thead>\n",
       "    <tr style=\"text-align: right;\">\n",
       "      <th>Ticker</th>\n",
       "      <th>AAPL</th>\n",
       "      <th>AMZN</th>\n",
       "      <th>GOOGL</th>\n",
       "      <th>MSFT</th>\n",
       "      <th>SPY</th>\n",
       "    </tr>\n",
       "    <tr>\n",
       "      <th>Date</th>\n",
       "      <th></th>\n",
       "      <th></th>\n",
       "      <th></th>\n",
       "      <th></th>\n",
       "      <th></th>\n",
       "    </tr>\n",
       "  </thead>\n",
       "  <tbody>\n",
       "    <tr>\n",
       "      <th>2019-01-02</th>\n",
       "      <td>1.000000</td>\n",
       "      <td>1.000000</td>\n",
       "      <td>1.000000</td>\n",
       "      <td>1.000000</td>\n",
       "      <td>1.000000</td>\n",
       "    </tr>\n",
       "    <tr>\n",
       "      <th>2019-01-03</th>\n",
       "      <td>0.900392</td>\n",
       "      <td>0.974759</td>\n",
       "      <td>0.972304</td>\n",
       "      <td>0.963212</td>\n",
       "      <td>0.976137</td>\n",
       "    </tr>\n",
       "    <tr>\n",
       "      <th>2019-01-04</th>\n",
       "      <td>0.938830</td>\n",
       "      <td>1.023559</td>\n",
       "      <td>1.022177</td>\n",
       "      <td>1.008010</td>\n",
       "      <td>1.008834</td>\n",
       "    </tr>\n",
       "    <tr>\n",
       "      <th>2019-01-07</th>\n",
       "      <td>0.936740</td>\n",
       "      <td>1.058722</td>\n",
       "      <td>1.020139</td>\n",
       "      <td>1.009296</td>\n",
       "      <td>1.016788</td>\n",
       "    </tr>\n",
       "    <tr>\n",
       "      <th>2019-01-08</th>\n",
       "      <td>0.954597</td>\n",
       "      <td>1.076309</td>\n",
       "      <td>1.029099</td>\n",
       "      <td>1.016614</td>\n",
       "      <td>1.026341</td>\n",
       "    </tr>\n",
       "    <tr>\n",
       "      <th>...</th>\n",
       "      <td>...</td>\n",
       "      <td>...</td>\n",
       "      <td>...</td>\n",
       "      <td>...</td>\n",
       "      <td>...</td>\n",
       "    </tr>\n",
       "    <tr>\n",
       "      <th>2021-09-17</th>\n",
       "      <td>3.805406</td>\n",
       "      <td>2.249661</td>\n",
       "      <td>2.670004</td>\n",
       "      <td>3.061107</td>\n",
       "      <td>1.849226</td>\n",
       "    </tr>\n",
       "    <tr>\n",
       "      <th>2021-09-20</th>\n",
       "      <td>3.724119</td>\n",
       "      <td>2.180277</td>\n",
       "      <td>2.630551</td>\n",
       "      <td>3.004247</td>\n",
       "      <td>1.818391</td>\n",
       "    </tr>\n",
       "    <tr>\n",
       "      <th>2021-09-21</th>\n",
       "      <td>3.736884</td>\n",
       "      <td>2.172416</td>\n",
       "      <td>2.636496</td>\n",
       "      <td>3.009351</td>\n",
       "      <td>1.816673</td>\n",
       "    </tr>\n",
       "    <tr>\n",
       "      <th>2021-09-22</th>\n",
       "      <td>3.799934</td>\n",
       "      <td>2.196078</td>\n",
       "      <td>2.660209</td>\n",
       "      <td>3.047938</td>\n",
       "      <td>1.834395</td>\n",
       "    </tr>\n",
       "    <tr>\n",
       "      <th>2021-09-23</th>\n",
       "      <td>3.825468</td>\n",
       "      <td>2.219436</td>\n",
       "      <td>2.677893</td>\n",
       "      <td>3.057942</td>\n",
       "      <td>1.856683</td>\n",
       "    </tr>\n",
       "  </tbody>\n",
       "</table>\n",
       "<p>688 rows × 5 columns</p>\n",
       "</div>"
      ],
      "text/plain": [
       "Ticker          AAPL      AMZN     GOOGL      MSFT       SPY\n",
       "Date                                                        \n",
       "2019-01-02  1.000000  1.000000  1.000000  1.000000  1.000000\n",
       "2019-01-03  0.900392  0.974759  0.972304  0.963212  0.976137\n",
       "2019-01-04  0.938830  1.023559  1.022177  1.008010  1.008834\n",
       "2019-01-07  0.936740  1.058722  1.020139  1.009296  1.016788\n",
       "2019-01-08  0.954597  1.076309  1.029099  1.016614  1.026341\n",
       "...              ...       ...       ...       ...       ...\n",
       "2021-09-17  3.805406  2.249661  2.670004  3.061107  1.849226\n",
       "2021-09-20  3.724119  2.180277  2.630551  3.004247  1.818391\n",
       "2021-09-21  3.736884  2.172416  2.636496  3.009351  1.816673\n",
       "2021-09-22  3.799934  2.196078  2.660209  3.047938  1.834395\n",
       "2021-09-23  3.825468  2.219436  2.677893  3.057942  1.856683\n",
       "\n",
       "[688 rows x 5 columns]"
      ]
     },
     "execution_count": 102,
     "metadata": {},
     "output_type": "execute_result"
    }
   ],
   "source": [
    "df = df['Close']\n",
    "df = df / df.iloc[0]\n",
    "df"
   ]
  },
  {
   "cell_type": "code",
   "execution_count": 103,
   "metadata": {
    "colab": {
     "base_uri": "https://localhost:8080/",
     "height": 542
    },
    "id": "GwRWHNPUQj1I",
    "outputId": "4bf45621-d8e6-4720-d389-3f17ebcd1383"
   },
   "outputs": [
    {
     "data": {
      "text/plain": [
       "<Axes: xlabel='Date'>"
      ]
     },
     "execution_count": 103,
     "metadata": {},
     "output_type": "execute_result"
    },
    {
     "data": {
      "image/png": "[encoded data removed]",
      "text/plain": [
       "<Figure size 640x480 with 1 Axes>"
      ]
     },
     "metadata": {},
     "output_type": "display_data"
    }
   ],
   "source": [
    "df.plot()"
   ]
  },
  {
   "cell_type": "markdown",
   "metadata": {
    "id": "0AN97x-7RGF9"
   },
   "source": [
    "The [rolling function](https://pandas.pydata.org/docs/reference/api/pandas.DataFrame.rolling.html) will play very nicely with datetime data as shown here when I get the moving average over a 40 day period. And this can handle unevenly sampled date easily."
   ]
  },
  {
   "cell_type": "code",
   "execution_count": 105,
   "metadata": {
    "colab": {
     "base_uri": "https://localhost:8080/",
     "height": 542
    },
    "id": "FL9eZOutQzso",
    "outputId": "36661409-e636-4055-e6b7-7bd68c046329"
   },
   "outputs": [
    {
     "data": {
      "text/plain": [
       "<Axes: xlabel='Date'>"
      ]
     },
     "execution_count": 105,
     "metadata": {},
     "output_type": "execute_result"
    },
    {
     "data": {
      "image/png": "[encoded data removed]",
      "text/plain": [
       "<Figure size 640x480 with 1 Axes>"
      ]
     },
     "metadata": {},
     "output_type": "display_data"
    }
   ],
   "source": [
    "df.rolling('40D').mean().plot()"
   ]
  },
  {
   "cell_type": "markdown",
   "metadata": {
    "id": "3XzrLgmRR02j"
   },
   "source": [
    "Indexing with datetime data though will require a slightly extra step, but then it is easy."
   ]
  },
  {
   "cell_type": "code",
   "execution_count": 106,
   "metadata": {
    "id": "ZQpQ7EJIRAJP"
   },
   "outputs": [],
   "source": [
    "from datetime import date\n",
    "start = date(2021, 4, 1)\n",
    "end = date(2021, 4, 30)"
   ]
  },
  {
   "cell_type": "code",
   "execution_count": 107,
   "metadata": {
    "colab": {
     "base_uri": "https://localhost:8080/",
     "height": 739
    },
    "id": "1YU6TiEcRzPa",
    "outputId": "96ee05aa-e1a9-4e69-cf17-2d62f5e1c9b9"
   },
   "outputs": [
    {
     "data": {
      "text/html": [
       "<div>\n",
       "<style scoped>\n",
       "    .dataframe tbody tr th:only-of-type {\n",
       "        vertical-align: middle;\n",
       "    }\n",
       "\n",
       "    .dataframe tbody tr th {\n",
       "        vertical-align: top;\n",
       "    }\n",
       "\n",
       "    .dataframe thead th {\n",
       "        text-align: right;\n",
       "    }\n",
       "</style>\n",
       "<table border=\"1\" class=\"dataframe\">\n",
       "  <thead>\n",
       "    <tr style=\"text-align: right;\">\n",
       "      <th>Ticker</th>\n",
       "      <th>AAPL</th>\n",
       "      <th>AMZN</th>\n",
       "      <th>GOOGL</th>\n",
       "      <th>MSFT</th>\n",
       "      <th>SPY</th>\n",
       "    </tr>\n",
       "    <tr>\n",
       "      <th>Date</th>\n",
       "      <th></th>\n",
       "      <th></th>\n",
       "      <th></th>\n",
       "      <th></th>\n",
       "      <th></th>\n",
       "    </tr>\n",
       "  </thead>\n",
       "  <tbody>\n",
       "    <tr>\n",
       "      <th>2021-04-01</th>\n",
       "      <td>3.194388</td>\n",
       "      <td>2.053758</td>\n",
       "      <td>2.019361</td>\n",
       "      <td>2.463520</td>\n",
       "      <td>1.667522</td>\n",
       "    </tr>\n",
       "    <tr>\n",
       "      <th>2021-04-05</th>\n",
       "      <td>3.269702</td>\n",
       "      <td>2.096464</td>\n",
       "      <td>2.103918</td>\n",
       "      <td>2.531830</td>\n",
       "      <td>1.691456</td>\n",
       "    </tr>\n",
       "    <tr>\n",
       "      <th>2021-04-06</th>\n",
       "      <td>3.277753</td>\n",
       "      <td>2.094573</td>\n",
       "      <td>2.094720</td>\n",
       "      <td>2.519530</td>\n",
       "      <td>1.690458</td>\n",
       "    </tr>\n",
       "    <tr>\n",
       "      <th>2021-04-07</th>\n",
       "      <td>3.321644</td>\n",
       "      <td>2.130678</td>\n",
       "      <td>2.122947</td>\n",
       "      <td>2.540267</td>\n",
       "      <td>1.692414</td>\n",
       "    </tr>\n",
       "    <tr>\n",
       "      <th>2021-04-08</th>\n",
       "      <td>3.385531</td>\n",
       "      <td>2.143614</td>\n",
       "      <td>2.133756</td>\n",
       "      <td>2.574320</td>\n",
       "      <td>1.700448</td>\n",
       "    </tr>\n",
       "    <tr>\n",
       "      <th>2021-04-09</th>\n",
       "      <td>3.454093</td>\n",
       "      <td>2.190978</td>\n",
       "      <td>2.152947</td>\n",
       "      <td>2.600749</td>\n",
       "      <td>1.712810</td>\n",
       "    </tr>\n",
       "    <tr>\n",
       "      <th>2021-04-12</th>\n",
       "      <td>3.408386</td>\n",
       "      <td>2.195650</td>\n",
       "      <td>2.128247</td>\n",
       "      <td>2.601359</td>\n",
       "      <td>1.713434</td>\n",
       "    </tr>\n",
       "    <tr>\n",
       "      <th>2021-04-13</th>\n",
       "      <td>3.491232</td>\n",
       "      <td>2.209040</td>\n",
       "      <td>2.137549</td>\n",
       "      <td>2.627586</td>\n",
       "      <td>1.718513</td>\n",
       "    </tr>\n",
       "    <tr>\n",
       "      <th>2021-04-14</th>\n",
       "      <td>3.428903</td>\n",
       "      <td>2.165509</td>\n",
       "      <td>2.125678</td>\n",
       "      <td>2.598106</td>\n",
       "      <td>1.712644</td>\n",
       "    </tr>\n",
       "    <tr>\n",
       "      <th>2021-04-15</th>\n",
       "      <td>3.493049</td>\n",
       "      <td>2.195455</td>\n",
       "      <td>2.166771</td>\n",
       "      <td>2.637852</td>\n",
       "      <td>1.731042</td>\n",
       "    </tr>\n",
       "    <tr>\n",
       "      <th>2021-04-16</th>\n",
       "      <td>3.484221</td>\n",
       "      <td>2.208676</td>\n",
       "      <td>2.164400</td>\n",
       "      <td>2.650458</td>\n",
       "      <td>1.736827</td>\n",
       "    </tr>\n",
       "    <tr>\n",
       "      <th>2021-04-19</th>\n",
       "      <td>3.501880</td>\n",
       "      <td>2.190855</td>\n",
       "      <td>2.171047</td>\n",
       "      <td>2.630127</td>\n",
       "      <td>1.728294</td>\n",
       "    </tr>\n",
       "    <tr>\n",
       "      <th>2021-04-20</th>\n",
       "      <td>3.456951</td>\n",
       "      <td>2.166607</td>\n",
       "      <td>2.160854</td>\n",
       "      <td>2.625248</td>\n",
       "      <td>1.715641</td>\n",
       "    </tr>\n",
       "    <tr>\n",
       "      <th>2021-04-21</th>\n",
       "      <td>3.467079</td>\n",
       "      <td>2.184364</td>\n",
       "      <td>2.160229</td>\n",
       "      <td>2.648830</td>\n",
       "      <td>1.731874</td>\n",
       "    </tr>\n",
       "    <tr>\n",
       "      <th>2021-04-22</th>\n",
       "      <td>3.426565</td>\n",
       "      <td>2.149942</td>\n",
       "      <td>2.135738</td>\n",
       "      <td>2.614167</td>\n",
       "      <td>1.716057</td>\n",
       "    </tr>\n",
       "    <tr>\n",
       "      <th>2021-04-23</th>\n",
       "      <td>3.488375</td>\n",
       "      <td>2.170629</td>\n",
       "      <td>2.180690</td>\n",
       "      <td>2.654625</td>\n",
       "      <td>1.734663</td>\n",
       "    </tr>\n",
       "    <tr>\n",
       "      <th>2021-04-26</th>\n",
       "      <td>3.498763</td>\n",
       "      <td>2.214888</td>\n",
       "      <td>2.190171</td>\n",
       "      <td>2.658691</td>\n",
       "      <td>1.738284</td>\n",
       "    </tr>\n",
       "    <tr>\n",
       "      <th>2021-04-27</th>\n",
       "      <td>3.490194</td>\n",
       "      <td>2.220365</td>\n",
       "      <td>2.172204</td>\n",
       "      <td>2.662960</td>\n",
       "      <td>1.737910</td>\n",
       "    </tr>\n",
       "    <tr>\n",
       "      <th>2021-04-28</th>\n",
       "      <td>3.469157</td>\n",
       "      <td>2.247049</td>\n",
       "      <td>2.236735</td>\n",
       "      <td>2.587636</td>\n",
       "      <td>1.737410</td>\n",
       "    </tr>\n",
       "    <tr>\n",
       "      <th>2021-04-29</th>\n",
       "      <td>3.466559</td>\n",
       "      <td>2.255372</td>\n",
       "      <td>2.268707</td>\n",
       "      <td>2.566798</td>\n",
       "      <td>1.748482</td>\n",
       "    </tr>\n",
       "    <tr>\n",
       "      <th>2021-04-30</th>\n",
       "      <td>3.414099</td>\n",
       "      <td>2.252844</td>\n",
       "      <td>2.231482</td>\n",
       "      <td>2.563443</td>\n",
       "      <td>1.736994</td>\n",
       "    </tr>\n",
       "  </tbody>\n",
       "</table>\n",
       "</div>"
      ],
      "text/plain": [
       "Ticker          AAPL      AMZN     GOOGL      MSFT       SPY\n",
       "Date                                                        \n",
       "2021-04-01  3.194388  2.053758  2.019361  2.463520  1.667522\n",
       "2021-04-05  3.269702  2.096464  2.103918  2.531830  1.691456\n",
       "2021-04-06  3.277753  2.094573  2.094720  2.519530  1.690458\n",
       "2021-04-07  3.321644  2.130678  2.122947  2.540267  1.692414\n",
       "2021-04-08  3.385531  2.143614  2.133756  2.574320  1.700448\n",
       "2021-04-09  3.454093  2.190978  2.152947  2.600749  1.712810\n",
       "2021-04-12  3.408386  2.195650  2.128247  2.601359  1.713434\n",
       "2021-04-13  3.491232  2.209040  2.137549  2.627586  1.718513\n",
       "2021-04-14  3.428903  2.165509  2.125678  2.598106  1.712644\n",
       "2021-04-15  3.493049  2.195455  2.166771  2.637852  1.731042\n",
       "2021-04-16  3.484221  2.208676  2.164400  2.650458  1.736827\n",
       "2021-04-19  3.501880  2.190855  2.171047  2.630127  1.728294\n",
       "2021-04-20  3.456951  2.166607  2.160854  2.625248  1.715641\n",
       "2021-04-21  3.467079  2.184364  2.160229  2.648830  1.731874\n",
       "2021-04-22  3.426565  2.149942  2.135738  2.614167  1.716057\n",
       "2021-04-23  3.488375  2.170629  2.180690  2.654625  1.734663\n",
       "2021-04-26  3.498763  2.214888  2.190171  2.658691  1.738284\n",
       "2021-04-27  3.490194  2.220365  2.172204  2.662960  1.737910\n",
       "2021-04-28  3.469157  2.247049  2.236735  2.587636  1.737410\n",
       "2021-04-29  3.466559  2.255372  2.268707  2.566798  1.748482\n",
       "2021-04-30  3.414099  2.252844  2.231482  2.563443  1.736994"
      ]
     },
     "execution_count": 107,
     "metadata": {},
     "output_type": "execute_result"
    }
   ],
   "source": [
    "df[start:end]"
   ]
  },
  {
   "cell_type": "code",
   "execution_count": 108,
   "metadata": {
    "colab": {
     "base_uri": "https://localhost:8080/"
    },
    "id": "aJWvXHmlcGtV",
    "outputId": "7564cf85-46c9-482b-e30c-895d888a17c3"
   },
   "outputs": [
    {
     "name": "stderr",
     "output_type": "stream",
     "text": [
      "/tmp/ipykernel_48088/3907196692.py:1: FutureWarning: 'M' is deprecated and will be removed in a future version, please use 'ME' instead.\n",
      "  pd.date_range(start='1/1/2019', end='08/31/2021', freq='M')\n"
     ]
    },
    {
     "data": {
      "text/plain": [
       "DatetimeIndex(['2019-01-31', '2019-02-28', '2019-03-31', '2019-04-30',\n",
       "               '2019-05-31', '2019-06-30', '2019-07-31', '2019-08-31',\n",
       "               '2019-09-30', '2019-10-31', '2019-11-30', '2019-12-31',\n",
       "               '2020-01-31', '2020-02-29', '2020-03-31', '2020-04-30',\n",
       "               '2020-05-31', '2020-06-30', '2020-07-31', '2020-08-31',\n",
       "               '2020-09-30', '2020-10-31', '2020-11-30', '2020-12-31',\n",
       "               '2021-01-31', '2021-02-28', '2021-03-31', '2021-04-30',\n",
       "               '2021-05-31', '2021-06-30', '2021-07-31', '2021-08-31'],\n",
       "              dtype='datetime64[ns]', freq='ME')"
      ]
     },
     "execution_count": 108,
     "metadata": {},
     "output_type": "execute_result"
    }
   ],
   "source": [
    "pd.date_range(start='1/1/2019', end='08/31/2021', freq='M')"
   ]
  },
  {
   "cell_type": "code",
   "execution_count": 109,
   "metadata": {
    "colab": {
     "base_uri": "https://localhost:8080/",
     "height": 425
    },
    "id": "Q1KZmgV4cVGe",
    "outputId": "6c89eb55-ca9f-4df1-ffce-dfb308d16ff4"
   },
   "outputs": [
    {
     "name": "stderr",
     "output_type": "stream",
     "text": [
      "/tmp/ipykernel_48088/2442371637.py:1: FutureWarning: 'Q' is deprecated and will be removed in a future version, please use 'QE' instead.\n",
      "  df.resample(rule='Q').max()\n"
     ]
    },
    {
     "data": {
      "text/html": [
       "<div>\n",
       "<style scoped>\n",
       "    .dataframe tbody tr th:only-of-type {\n",
       "        vertical-align: middle;\n",
       "    }\n",
       "\n",
       "    .dataframe tbody tr th {\n",
       "        vertical-align: top;\n",
       "    }\n",
       "\n",
       "    .dataframe thead th {\n",
       "        text-align: right;\n",
       "    }\n",
       "</style>\n",
       "<table border=\"1\" class=\"dataframe\">\n",
       "  <thead>\n",
       "    <tr style=\"text-align: right;\">\n",
       "      <th>Ticker</th>\n",
       "      <th>AAPL</th>\n",
       "      <th>AMZN</th>\n",
       "      <th>GOOGL</th>\n",
       "      <th>MSFT</th>\n",
       "      <th>SPY</th>\n",
       "    </tr>\n",
       "    <tr>\n",
       "      <th>Date</th>\n",
       "      <th></th>\n",
       "      <th></th>\n",
       "      <th></th>\n",
       "      <th></th>\n",
       "      <th></th>\n",
       "    </tr>\n",
       "  </thead>\n",
       "  <tbody>\n",
       "    <tr>\n",
       "      <th>2019-03-31</th>\n",
       "      <td>1.240670</td>\n",
       "      <td>1.182005</td>\n",
       "      <td>1.172043</td>\n",
       "      <td>1.193962</td>\n",
       "      <td>1.143114</td>\n",
       "    </tr>\n",
       "    <tr>\n",
       "      <th>2019-06-30</th>\n",
       "      <td>1.346619</td>\n",
       "      <td>1.275045</td>\n",
       "      <td>1.228998</td>\n",
       "      <td>1.373424</td>\n",
       "      <td>1.187798</td>\n",
       "    </tr>\n",
       "    <tr>\n",
       "      <th>2019-09-30</th>\n",
       "      <td>1.435250</td>\n",
       "      <td>1.313073</td>\n",
       "      <td>1.181344</td>\n",
       "      <td>1.410902</td>\n",
       "      <td>1.218385</td>\n",
       "    </tr>\n",
       "    <tr>\n",
       "      <th>2019-12-31</th>\n",
       "      <td>1.887424</td>\n",
       "      <td>1.214842</td>\n",
       "      <td>1.291832</td>\n",
       "      <td>1.595237</td>\n",
       "      <td>1.315274</td>\n",
       "    </tr>\n",
       "    <tr>\n",
       "      <th>2020-03-31</th>\n",
       "      <td>2.108056</td>\n",
       "      <td>1.410030</td>\n",
       "      <td>1.445813</td>\n",
       "      <td>1.893692</td>\n",
       "      <td>1.377995</td>\n",
       "    </tr>\n",
       "    <tr>\n",
       "      <th>2020-06-30</th>\n",
       "      <td>2.367842</td>\n",
       "      <td>1.796086</td>\n",
       "      <td>1.388762</td>\n",
       "      <td>2.053599</td>\n",
       "      <td>1.324073</td>\n",
       "    </tr>\n",
       "    <tr>\n",
       "      <th>2020-09-30</th>\n",
       "      <td>3.473547</td>\n",
       "      <td>2.294446</td>\n",
       "      <td>1.628352</td>\n",
       "      <td>2.343208</td>\n",
       "      <td>1.471860</td>\n",
       "    </tr>\n",
       "    <tr>\n",
       "      <th>2020-12-31</th>\n",
       "      <td>3.544629</td>\n",
       "      <td>2.237387</td>\n",
       "      <td>1.730354</td>\n",
       "      <td>2.281494</td>\n",
       "      <td>1.551179</td>\n",
       "    </tr>\n",
       "    <tr>\n",
       "      <th>2021-03-31</th>\n",
       "      <td>3.712408</td>\n",
       "      <td>2.196046</td>\n",
       "      <td>2.008780</td>\n",
       "      <td>2.484633</td>\n",
       "      <td>1.649707</td>\n",
       "    </tr>\n",
       "    <tr>\n",
       "      <th>2021-06-30</th>\n",
       "      <td>3.562979</td>\n",
       "      <td>2.277547</td>\n",
       "      <td>2.323662</td>\n",
       "      <td>2.765188</td>\n",
       "      <td>1.787611</td>\n",
       "    </tr>\n",
       "    <tr>\n",
       "      <th>2021-09-30</th>\n",
       "      <td>4.082358</td>\n",
       "      <td>2.424363</td>\n",
       "      <td>2.753735</td>\n",
       "      <td>3.115720</td>\n",
       "      <td>1.892556</td>\n",
       "    </tr>\n",
       "  </tbody>\n",
       "</table>\n",
       "</div>"
      ],
      "text/plain": [
       "Ticker          AAPL      AMZN     GOOGL      MSFT       SPY\n",
       "Date                                                        \n",
       "2019-03-31  1.240670  1.182005  1.172043  1.193962  1.143114\n",
       "2019-06-30  1.346619  1.275045  1.228998  1.373424  1.187798\n",
       "2019-09-30  1.435250  1.313073  1.181344  1.410902  1.218385\n",
       "2019-12-31  1.887424  1.214842  1.291832  1.595237  1.315274\n",
       "2020-03-31  2.108056  1.410030  1.445813  1.893692  1.377995\n",
       "2020-06-30  2.367842  1.796086  1.388762  2.053599  1.324073\n",
       "2020-09-30  3.473547  2.294446  1.628352  2.343208  1.471860\n",
       "2020-12-31  3.544629  2.237387  1.730354  2.281494  1.551179\n",
       "2021-03-31  3.712408  2.196046  2.008780  2.484633  1.649707\n",
       "2021-06-30  3.562979  2.277547  2.323662  2.765188  1.787611\n",
       "2021-09-30  4.082358  2.424363  2.753735  3.115720  1.892556"
      ]
     },
     "execution_count": 109,
     "metadata": {},
     "output_type": "execute_result"
    }
   ],
   "source": [
    "df.resample(rule='Q').max()"
   ]
  },
  {
   "cell_type": "markdown",
   "metadata": {
    "id": "50HsfFt6TFSE"
   },
   "source": [
    "## Sorting & Filtering on Tabular Data\n",
    "To highlight filtering in DataFrames, we'll use a dataset with a bunch of different columns/series of different types. This data was pulled directly from the enDAQ cloud API off some example recording files."
   ]
  },
  {
   "cell_type": "code",
   "execution_count": 110,
   "metadata": {
    "colab": {
     "base_uri": "https://localhost:8080/",
     "height": 1000
    },
    "id": "PI9EYy7JSgeo",
    "outputId": "6936608c-279b-44e3-e0ad-f6faeff55be9"
   },
   "outputs": [
    {
     "data": {
      "text/html": [
       "<div>\n",
       "<style scoped>\n",
       "    .dataframe tbody tr th:only-of-type {\n",
       "        vertical-align: middle;\n",
       "    }\n",
       "\n",
       "    .dataframe tbody tr th {\n",
       "        vertical-align: top;\n",
       "    }\n",
       "\n",
       "    .dataframe thead th {\n",
       "        text-align: right;\n",
       "    }\n",
       "</style>\n",
       "<table border=\"1\" class=\"dataframe\">\n",
       "  <thead>\n",
       "    <tr style=\"text-align: right;\">\n",
       "      <th></th>\n",
       "      <th>Unnamed: 0</th>\n",
       "      <th>tags</th>\n",
       "      <th>id</th>\n",
       "      <th>serial_number_id</th>\n",
       "      <th>file_name</th>\n",
       "      <th>file_size</th>\n",
       "      <th>recording_length</th>\n",
       "      <th>recording_ts</th>\n",
       "      <th>created_ts</th>\n",
       "      <th>modified_ts</th>\n",
       "      <th>...</th>\n",
       "      <th>psdResultantOctave</th>\n",
       "      <th>samplePeakWindow</th>\n",
       "      <th>temperatureMeanFull</th>\n",
       "      <th>accelerometerSampleRateFull</th>\n",
       "      <th>psdPeakOctaves</th>\n",
       "      <th>microphonoeRMSFull</th>\n",
       "      <th>gyroscopeRMSFull</th>\n",
       "      <th>pvssResultantOctave</th>\n",
       "      <th>accelerationRMSFull</th>\n",
       "      <th>psdResultant1Hz</th>\n",
       "    </tr>\n",
       "  </thead>\n",
       "  <tbody>\n",
       "    <tr>\n",
       "      <th>0</th>\n",
       "      <td>0</td>\n",
       "      <td>['Vibration Severity: High', 'Shock Severity: ...</td>\n",
       "      <td>6cd65b8f-1187-3bf9-a431-35304a7f84b7</td>\n",
       "      <td>9695</td>\n",
       "      <td>train-passing-1632515146.ide</td>\n",
       "      <td>10492602</td>\n",
       "      <td>73.612335</td>\n",
       "      <td>1588184436</td>\n",
       "      <td>1632515146</td>\n",
       "      <td>1632515146</td>\n",
       "      <td>...</td>\n",
       "      <td>[0.    0.    0.001 0.024 0.032 0.008 0.008 0.0...</td>\n",
       "      <td>[1.241 1.682 1.944 ... 1.852 1.372 1.473]</td>\n",
       "      <td>23.432</td>\n",
       "      <td>19999.0</td>\n",
       "      <td>[0.    0.    0.001 0.131 0.229 0.045 0.05  0.0...</td>\n",
       "      <td>NaN</td>\n",
       "      <td>0.625</td>\n",
       "      <td>[ 10.333  25.952  30.28   52.579 172.174 275.8...</td>\n",
       "      <td>0.372</td>\n",
       "      <td>[0. 0. 0. ... 0. 0. 0.]</td>\n",
       "    </tr>\n",
       "    <tr>\n",
       "      <th>1</th>\n",
       "      <td>1</td>\n",
       "      <td>['Vibration Severity: Low', 'Acceleration Seve...</td>\n",
       "      <td>342aacc3-cd91-3124-8cf4-0c7fece6dcab</td>\n",
       "      <td>9316</td>\n",
       "      <td>Seat-Top_09-1632515145.ide</td>\n",
       "      <td>10491986</td>\n",
       "      <td>172.704559</td>\n",
       "      <td>1575800071</td>\n",
       "      <td>1632515146</td>\n",
       "      <td>1632515146</td>\n",
       "      <td>...</td>\n",
       "      <td>[0.    0.    0.    0.    0.    0.    0.    0. ...</td>\n",
       "      <td>[0.035 0.024 0.007 ... 0.067 0.031 0.022]</td>\n",
       "      <td>20.133</td>\n",
       "      <td>3996.0</td>\n",
       "      <td>[0.    0.    0.001 0.    0.001 0.    0.001 0.0...</td>\n",
       "      <td>NaN</td>\n",
       "      <td>0.945</td>\n",
       "      <td>[53.648 76.9   43.779 44.217 39.351 11.396  9....</td>\n",
       "      <td>0.082</td>\n",
       "      <td>[ 0.  0.  0. ... nan nan nan]</td>\n",
       "    </tr>\n",
       "    <tr>\n",
       "      <th>2</th>\n",
       "      <td>2</td>\n",
       "      <td>['Shock Severity: Very Low', 'Acceleration Sev...</td>\n",
       "      <td>5c5592b4-2dbc-3124-be8f-c7179eecda49</td>\n",
       "      <td>10118</td>\n",
       "      <td>Bolted-1632515144.ide</td>\n",
       "      <td>6149229</td>\n",
       "      <td>29.396118</td>\n",
       "      <td>1619041447</td>\n",
       "      <td>1632515144</td>\n",
       "      <td>1632515144</td>\n",
       "      <td>...</td>\n",
       "      <td>[0.001 0.003 0.004 0.064 0.106 0.102 0.103 0.1...</td>\n",
       "      <td>[5.283 5.944 5.19  ... 0.356 1.079 1.099]</td>\n",
       "      <td>23.172</td>\n",
       "      <td>20000.0</td>\n",
       "      <td>[0.001 0.004 0.004 0.128 0.125 0.119 0.14  0.1...</td>\n",
       "      <td>25.507</td>\n",
       "      <td>NaN</td>\n",
       "      <td>[ 26.338  27.636  64.097 102.733 107.863 124.6...</td>\n",
       "      <td>2.398</td>\n",
       "      <td>[0.    0.001 0.002 ... 0.002 0.001 0.001]</td>\n",
       "    </tr>\n",
       "    <tr>\n",
       "      <th>3</th>\n",
       "      <td>3</td>\n",
       "      <td>['Shock Severity: Very Low', 'Acceleration Sev...</td>\n",
       "      <td>ef832e45-50fa-38b4-8f2c-91769f7cef6e</td>\n",
       "      <td>10309</td>\n",
       "      <td>RMI-2000-1632515143.ide</td>\n",
       "      <td>5909632</td>\n",
       "      <td>60.250855</td>\n",
       "      <td>24</td>\n",
       "      <td>1632515143</td>\n",
       "      <td>1632515143</td>\n",
       "      <td>...</td>\n",
       "      <td>[0.    0.    0.    0.    0.001 0.002 0.002 0.0...</td>\n",
       "      <td>[0.13  0.118 0.1   ... 0.105 0.1   0.066]</td>\n",
       "      <td>21.806</td>\n",
       "      <td>4012.0</td>\n",
       "      <td>[0.    0.    0.    0.    0.008 0.01  0.019 0.0...</td>\n",
       "      <td>1.754</td>\n",
       "      <td>1.557</td>\n",
       "      <td>[ 0.854  1.159  1.662  1.815  3.022  6.139 10....</td>\n",
       "      <td>0.079</td>\n",
       "      <td>[ 0.  0.  0. ... nan nan nan]</td>\n",
       "    </tr>\n",
       "    <tr>\n",
       "      <th>4</th>\n",
       "      <td>4</td>\n",
       "      <td>['Shock Severity: Very Low', 'Acceleration Sev...</td>\n",
       "      <td>0396df6a-56b0-3e43-8e46-e1d0d7485ff5</td>\n",
       "      <td>9295</td>\n",
       "      <td>Seat-Base_21-1632515142.ide</td>\n",
       "      <td>5248836</td>\n",
       "      <td>83.092255</td>\n",
       "      <td>1575800210</td>\n",
       "      <td>1632515143</td>\n",
       "      <td>1632515143</td>\n",
       "      <td>...</td>\n",
       "      <td>[0.002 0.007 0.008 0.005 0.002 0.005 0.002 0.0...</td>\n",
       "      <td>[0.084 0.137 0.178 ... 0.347 0.324 0.286]</td>\n",
       "      <td>17.820</td>\n",
       "      <td>4046.0</td>\n",
       "      <td>[0.002 0.014 0.016 0.013 0.003 0.031 0.003 0.0...</td>\n",
       "      <td>NaN</td>\n",
       "      <td>2.666</td>\n",
       "      <td>[ 74.73   79.453 101.006 151.429  73.92   53.4...</td>\n",
       "      <td>0.130</td>\n",
       "      <td>[0.001 0.002 0.002 ...   nan   nan   nan]</td>\n",
       "    </tr>\n",
       "    <tr>\n",
       "      <th>5</th>\n",
       "      <td>5</td>\n",
       "      <td>['Drive-Test', 'Vibration Severity: Very Low',...</td>\n",
       "      <td>5e293d65-c9e0-3aa1-9098-c9762e8fbc86</td>\n",
       "      <td>11046</td>\n",
       "      <td>Drive-Home_01-1632515142.ide</td>\n",
       "      <td>3632799</td>\n",
       "      <td>61.755371</td>\n",
       "      <td>1616178955</td>\n",
       "      <td>1632515142</td>\n",
       "      <td>1632515142</td>\n",
       "      <td>...</td>\n",
       "      <td>[0.    0.    0.    0.    0.001 0.    0.    0. ...</td>\n",
       "      <td>[0.001 0.003 0.002 ... 0.011 0.008 0.006]</td>\n",
       "      <td>29.061</td>\n",
       "      <td>4013.0</td>\n",
       "      <td>[0.    0.    0.    0.    0.007 0.    0.    0. ...</td>\n",
       "      <td>16.243</td>\n",
       "      <td>0.363</td>\n",
       "      <td>[ 2.336  7.82  19.078 10.384 16.975 38.326 18....</td>\n",
       "      <td>0.021</td>\n",
       "      <td>[ 0.  0.  0. ... nan nan nan]</td>\n",
       "    </tr>\n",
       "    <tr>\n",
       "      <th>6</th>\n",
       "      <td>6</td>\n",
       "      <td>['Acceleration Severity: High', 'Shock Severit...</td>\n",
       "      <td>cd81c850-9e22-3b20-b570-7411e7a144cc</td>\n",
       "      <td>0</td>\n",
       "      <td>HiTest-Shock-1632515141.ide</td>\n",
       "      <td>2655894</td>\n",
       "      <td>20.331848</td>\n",
       "      <td>1543936974</td>\n",
       "      <td>1632515141</td>\n",
       "      <td>1632515141</td>\n",
       "      <td>...</td>\n",
       "      <td>[0.304 0.486 0.399 0.454 0.347 0.178 0.185 0.1...</td>\n",
       "      <td>[ 3.088  3.019  2.893 ... 73.794 40.005 24.303]</td>\n",
       "      <td>9.538</td>\n",
       "      <td>19997.0</td>\n",
       "      <td>[ 0.304  0.537  0.479  0.811  0.624  0.554  0....</td>\n",
       "      <td>NaN</td>\n",
       "      <td>NaN</td>\n",
       "      <td>[1378.444 2470.941 4368.78  5033.327 5814.49  ...</td>\n",
       "      <td>11.645</td>\n",
       "      <td>[0.157 0.304 0.42  ... 0.001 0.01  0.013]</td>\n",
       "    </tr>\n",
       "    <tr>\n",
       "      <th>7</th>\n",
       "      <td>7</td>\n",
       "      <td>['Vibration Severity: High', 'Acceleration Sev...</td>\n",
       "      <td>0931a23d-3515-3d11-bf97-bb9b2c7863be</td>\n",
       "      <td>11162</td>\n",
       "      <td>Calibration-Shake-1632515140.IDE</td>\n",
       "      <td>2218130</td>\n",
       "      <td>27.882690</td>\n",
       "      <td>1621278970</td>\n",
       "      <td>1632515140</td>\n",
       "      <td>1632515140</td>\n",
       "      <td>...</td>\n",
       "      <td>[2.100e-02 7.400e-02 7.500e-02 4.900e-02 5.500...</td>\n",
       "      <td>[7.486 7.496 7.137 ... 7.997 8.294 7.806]</td>\n",
       "      <td>24.545</td>\n",
       "      <td>5000.0</td>\n",
       "      <td>[2.10000e-02 9.00000e-02 8.60000e-02 6.30000e-...</td>\n",
       "      <td>NaN</td>\n",
       "      <td>0.166</td>\n",
       "      <td>[ 90.703 198.651 288.078 183.492 126.417 108.4...</td>\n",
       "      <td>2.712</td>\n",
       "      <td>[0.007 0.021 0.055 ...   nan   nan   nan]</td>\n",
       "    </tr>\n",
       "    <tr>\n",
       "      <th>8</th>\n",
       "      <td>8</td>\n",
       "      <td>['Shock Severity: Very Low', 'Acceleration Sev...</td>\n",
       "      <td>c1571d10-2329-3aea-aa5d-223733f6336b</td>\n",
       "      <td>10916</td>\n",
       "      <td>FUSE_HSTAB_000005-1632515139.ide</td>\n",
       "      <td>537562</td>\n",
       "      <td>18.491791</td>\n",
       "      <td>1619108004</td>\n",
       "      <td>1632515140</td>\n",
       "      <td>1632515140</td>\n",
       "      <td>...</td>\n",
       "      <td>[ 0.  0.  0.  0.  0.  0.  0. nan nan nan nan n...</td>\n",
       "      <td>[0.001 0.001 0.001 ... 0.002 0.006 0.006]</td>\n",
       "      <td>18.874</td>\n",
       "      <td>504.0</td>\n",
       "      <td>[0.    0.    0.001 0.001 0.    0.    0.      n...</td>\n",
       "      <td>NaN</td>\n",
       "      <td>0.749</td>\n",
       "      <td>[ 2.617  6.761 17.326 34.067 28.721  9.469 15....</td>\n",
       "      <td>0.011</td>\n",
       "      <td>[ 0.  0.  0. ... nan nan nan]</td>\n",
       "    </tr>\n",
       "    <tr>\n",
       "      <th>9</th>\n",
       "      <td>0</td>\n",
       "      <td>['Shock Severity: Medium', 'Acceleration Sever...</td>\n",
       "      <td>8ce137ff-904e-314b-81ff-ff2cea279db2</td>\n",
       "      <td>9874</td>\n",
       "      <td>Coffee_002-1631722736.IDE</td>\n",
       "      <td>60959516</td>\n",
       "      <td>769.299896</td>\n",
       "      <td>952113744</td>\n",
       "      <td>1631722736</td>\n",
       "      <td>1631722736</td>\n",
       "      <td>...</td>\n",
       "      <td>[]</td>\n",
       "      <td>[]</td>\n",
       "      <td>24.540</td>\n",
       "      <td>5000.0</td>\n",
       "      <td>[]</td>\n",
       "      <td>NaN</td>\n",
       "      <td>0.082</td>\n",
       "      <td>[]</td>\n",
       "      <td>0.059</td>\n",
       "      <td>[]</td>\n",
       "    </tr>\n",
       "    <tr>\n",
       "      <th>10</th>\n",
       "      <td>1</td>\n",
       "      <td>['Vibration Severity: High', 'Shock Severity: ...</td>\n",
       "      <td>9d7383fb-40d6-34c1-9d0c-37f11c29bff5</td>\n",
       "      <td>11456</td>\n",
       "      <td>100_Joules_900_lbs-1629315313.ide</td>\n",
       "      <td>1596714</td>\n",
       "      <td>20.200623</td>\n",
       "      <td>1627327315</td>\n",
       "      <td>1629315313</td>\n",
       "      <td>1629315313</td>\n",
       "      <td>...</td>\n",
       "      <td>[0.071 0.201 0.293 0.686 1.565 1.028 0.856 0.9...</td>\n",
       "      <td>[0.304 0.274 0.296 ... 1.513 1.313 0.652]</td>\n",
       "      <td>24.180</td>\n",
       "      <td>5000.0</td>\n",
       "      <td>[0.071 0.236 0.311 1.148 2.036 1.791 1.498 2.7...</td>\n",
       "      <td>NaN</td>\n",
       "      <td>24.471</td>\n",
       "      <td>[ 194.741  361.14   563.488  855.34  1712.229 ...</td>\n",
       "      <td>2.877</td>\n",
       "      <td>[0.02  0.071 0.138 ...   nan   nan   nan]</td>\n",
       "    </tr>\n",
       "    <tr>\n",
       "      <th>11</th>\n",
       "      <td>2</td>\n",
       "      <td>['Acceleration Severity: High', 'Shock Severit...</td>\n",
       "      <td>5f35ed7f-ff55-36a3-896d-276f06a0e340</td>\n",
       "      <td>11456</td>\n",
       "      <td>50_Joules_900_lbs-1629315312.ide</td>\n",
       "      <td>1597750</td>\n",
       "      <td>20.201752</td>\n",
       "      <td>1627329399</td>\n",
       "      <td>1629315312</td>\n",
       "      <td>1629315312</td>\n",
       "      <td>...</td>\n",
       "      <td>[0.074 0.196 0.327 0.874 1.521 0.917 0.478 0.7...</td>\n",
       "      <td>[0.304 0.21  0.098 ... 0.693 1.418 0.932]</td>\n",
       "      <td>24.175</td>\n",
       "      <td>5000.0</td>\n",
       "      <td>[0.074 0.232 0.392 1.258 2.045 2.049 1.143 2.3...</td>\n",
       "      <td>NaN</td>\n",
       "      <td>15.575</td>\n",
       "      <td>[ 242.141  388.517  736.981 1070.284 1843.722 ...</td>\n",
       "      <td>2.423</td>\n",
       "      <td>[0.021 0.074 0.137 ...   nan   nan   nan]</td>\n",
       "    </tr>\n",
       "    <tr>\n",
       "      <th>12</th>\n",
       "      <td>3</td>\n",
       "      <td>['Shock Severity: Very Low', 'Vibration Severi...</td>\n",
       "      <td>f7240576-47c6-34b8-bdce-3fe11bb5f1c6</td>\n",
       "      <td>11046</td>\n",
       "      <td>Drive-Home_07-1626805222.ide</td>\n",
       "      <td>36225758</td>\n",
       "      <td>634.732056</td>\n",
       "      <td>1616182557</td>\n",
       "      <td>1626805222</td>\n",
       "      <td>1626805222</td>\n",
       "      <td>...</td>\n",
       "      <td>[]</td>\n",
       "      <td>[]</td>\n",
       "      <td>28.832</td>\n",
       "      <td>4012.0</td>\n",
       "      <td>[]</td>\n",
       "      <td>16.277</td>\n",
       "      <td>4.185</td>\n",
       "      <td>[]</td>\n",
       "      <td>0.097</td>\n",
       "      <td>[]</td>\n",
       "    </tr>\n",
       "    <tr>\n",
       "      <th>13</th>\n",
       "      <td>4</td>\n",
       "      <td>['Big-Mining']</td>\n",
       "      <td>c2c234cc-8055-3fba-ad8b-446c4b6f85dc</td>\n",
       "      <td>5120</td>\n",
       "      <td>Mining-SSX28803_06-1626457584.IDE</td>\n",
       "      <td>402920686</td>\n",
       "      <td>3238.119202</td>\n",
       "      <td>1536953304</td>\n",
       "      <td>1626457585</td>\n",
       "      <td>1626457585</td>\n",
       "      <td>...</td>\n",
       "      <td>[]</td>\n",
       "      <td>[]</td>\n",
       "      <td>NaN</td>\n",
       "      <td>NaN</td>\n",
       "      <td>[]</td>\n",
       "      <td>NaN</td>\n",
       "      <td>NaN</td>\n",
       "      <td>[]</td>\n",
       "      <td>NaN</td>\n",
       "      <td>[]</td>\n",
       "    </tr>\n",
       "    <tr>\n",
       "      <th>14</th>\n",
       "      <td>5</td>\n",
       "      <td>['Shock Severity: Medium', 'Acceleration Sever...</td>\n",
       "      <td>69fd99f8-3d85-38ec-9f5d-67e9d7b7e868</td>\n",
       "      <td>10030</td>\n",
       "      <td>200922_Moto_Max_Run5_Control_Larry-1626297441.ide</td>\n",
       "      <td>4780893</td>\n",
       "      <td>99.325134</td>\n",
       "      <td>1600818455</td>\n",
       "      <td>1626297442</td>\n",
       "      <td>1626297442</td>\n",
       "      <td>...</td>\n",
       "      <td>[0. 0. 0. 0. 0. 0. 0. 0. 0. 0. 0. 0. 0.]</td>\n",
       "      <td>[ 3.34  13.586 10.13  ...  7.737  8.978  8.672]</td>\n",
       "      <td>NaN</td>\n",
       "      <td>4014.0</td>\n",
       "      <td>[[0. 0. 0. 0. 0. 0. 0. 0. 0. 0. 0. 0. 0.]\\n [0...</td>\n",
       "      <td>NaN</td>\n",
       "      <td>NaN</td>\n",
       "      <td>[165.983 278.352 717.331 950.513 697.421 358.6...</td>\n",
       "      <td>3.528</td>\n",
       "      <td>[0.006 0.016 0.04  ...   nan   nan   nan]</td>\n",
       "    </tr>\n",
       "    <tr>\n",
       "      <th>15</th>\n",
       "      <td>6</td>\n",
       "      <td>['Ford']</td>\n",
       "      <td>f38361de-30a7-3dda-aec4-e87a67d1ecbb</td>\n",
       "      <td>9695</td>\n",
       "      <td>ford_f150-1626296561.ide</td>\n",
       "      <td>96097059</td>\n",
       "      <td>1207.678344</td>\n",
       "      <td>1584142508</td>\n",
       "      <td>1626296561</td>\n",
       "      <td>1626296561</td>\n",
       "      <td>...</td>\n",
       "      <td>[]</td>\n",
       "      <td>[]</td>\n",
       "      <td>NaN</td>\n",
       "      <td>NaN</td>\n",
       "      <td>[]</td>\n",
       "      <td>NaN</td>\n",
       "      <td>NaN</td>\n",
       "      <td>[]</td>\n",
       "      <td>NaN</td>\n",
       "      <td>[]</td>\n",
       "    </tr>\n",
       "    <tr>\n",
       "      <th>16</th>\n",
       "      <td>7</td>\n",
       "      <td>['Shock Severity: High', 'Vibration Severity: ...</td>\n",
       "      <td>40718e01-f422-3926-a22d-acf6daf1182b</td>\n",
       "      <td>7530</td>\n",
       "      <td>Motorcycle-Car-Crash-1626277852.ide</td>\n",
       "      <td>10489262</td>\n",
       "      <td>151.069336</td>\n",
       "      <td>1562173372</td>\n",
       "      <td>1626277852</td>\n",
       "      <td>1626277852</td>\n",
       "      <td>...</td>\n",
       "      <td>[0. 0. 0. 0. 0. 0. 0. 0. 0. 0. 0. 0. 0.]</td>\n",
       "      <td>[3.371 3.641 3.649 ... 6.168 7.463 7.04 ]</td>\n",
       "      <td>26.989</td>\n",
       "      <td>10001.0</td>\n",
       "      <td>[[0. 0. 0. 0. 0. 0. 0. 0. 0. 0. 0. 0. 0.]\\n [0...</td>\n",
       "      <td>NaN</td>\n",
       "      <td>19.810</td>\n",
       "      <td>[ 2723.153  5977.212 11406.291 12031.397  7337...</td>\n",
       "      <td>1.732</td>\n",
       "      <td>[2.250e-01 8.390e-01 2.025e+00 ... 1.000e-03 1...</td>\n",
       "    </tr>\n",
       "    <tr>\n",
       "      <th>17</th>\n",
       "      <td>8</td>\n",
       "      <td>['Shock Severity: Very Low', 'Surgical', 'Vibr...</td>\n",
       "      <td>ee6dc613-d422-347c-8119-f122a55ac81a</td>\n",
       "      <td>11071</td>\n",
       "      <td>surgical-instrument-1625829182.ide</td>\n",
       "      <td>541994</td>\n",
       "      <td>6.951172</td>\n",
       "      <td>1619110390</td>\n",
       "      <td>1625829183</td>\n",
       "      <td>1625829183</td>\n",
       "      <td>...</td>\n",
       "      <td>[0. 0. 0. 0. 0. 0. 0. 0. 0. 0. 0. 0. 0.]</td>\n",
       "      <td>[0.667 0.549 1.05  ... 1.109 2.86  3.99 ]</td>\n",
       "      <td>21.889</td>\n",
       "      <td>5000.0</td>\n",
       "      <td>[[0. 0. 0. 0. 0. 0. 0. 0. 0. 0. 0. 0. 0.]\\n [0...</td>\n",
       "      <td>NaN</td>\n",
       "      <td>4.647</td>\n",
       "      <td>[ 88.953 171.73  104.303  71.184  58.883  72.4...</td>\n",
       "      <td>1.568</td>\n",
       "      <td>[0.001 0.001 0.003 ...   nan   nan   nan]</td>\n",
       "    </tr>\n",
       "    <tr>\n",
       "      <th>18</th>\n",
       "      <td>9</td>\n",
       "      <td>['Acceleration Severity: High', 'Shock Severit...</td>\n",
       "      <td>f642d81c-7fe7-37fd-ab75-d493fc0556db</td>\n",
       "      <td>9680</td>\n",
       "      <td>LOC__3__DAQ41551_11_01_02-1625170795.IDE</td>\n",
       "      <td>2343292</td>\n",
       "      <td>28.456818</td>\n",
       "      <td>1616645179</td>\n",
       "      <td>1625170795</td>\n",
       "      <td>1625170795</td>\n",
       "      <td>...</td>\n",
       "      <td>[0. 0. 0. 0. 0. 0. 0. 0. 0. 0. 0. 0. 0.]</td>\n",
       "      <td>[ 32.679  24.925  30.95  ... 106.511  27.715  ...</td>\n",
       "      <td>33.452</td>\n",
       "      <td>20010.0</td>\n",
       "      <td>[[0. 0. 0. 0. 0. 0. 0. 0. 0. 0. 0. 0. 0.]\\n [0...</td>\n",
       "      <td>NaN</td>\n",
       "      <td>286.217</td>\n",
       "      <td>[2333.993 5629.021 6417.48  5802.895 3692.838 ...</td>\n",
       "      <td>94.197</td>\n",
       "      <td>[ 2.09   8.631 18.196 ... 69.565 59.225 60.801]</td>\n",
       "    </tr>\n",
       "    <tr>\n",
       "      <th>19</th>\n",
       "      <td>10</td>\n",
       "      <td>['Vibration Severity: High', 'Shock Severity: ...</td>\n",
       "      <td>0c0e92ae-214a-32bd-a5bb-5e1801da06b2</td>\n",
       "      <td>9680</td>\n",
       "      <td>LOC__4__DAQ41551_15_05-1625170794.IDE</td>\n",
       "      <td>6927958</td>\n",
       "      <td>64.486054</td>\n",
       "      <td>1616646130</td>\n",
       "      <td>1625170794</td>\n",
       "      <td>1625170794</td>\n",
       "      <td>...</td>\n",
       "      <td>[0. 0. 0. 0. 0. 0. 0. 0. 0. 0. 0. 0. 0.]</td>\n",
       "      <td>[14.223 14.903 24.949 ... 11.482 21.319 32.766]</td>\n",
       "      <td>32.202</td>\n",
       "      <td>19992.0</td>\n",
       "      <td>[[0. 0. 0. 0. 0. 0. 0. 0. 0. 0. 0. 0. 0.]\\n [0...</td>\n",
       "      <td>NaN</td>\n",
       "      <td>277.654</td>\n",
       "      <td>[ 378.188  748.336 1054.232 1115.369  756.905 ...</td>\n",
       "      <td>46.528</td>\n",
       "      <td>[ 0.072  0.302  0.816 ... 52.226 45.804 52.81 ]</td>\n",
       "    </tr>\n",
       "    <tr>\n",
       "      <th>20</th>\n",
       "      <td>11</td>\n",
       "      <td>['Vibration Severity: High', 'Mining-Hammer', ...</td>\n",
       "      <td>99ac47a8-63c2-38a4-8d92-508698eb3752</td>\n",
       "      <td>9680</td>\n",
       "      <td>LOC__6__DAQ41551_25_01-1625170793.IDE</td>\n",
       "      <td>8664238</td>\n",
       "      <td>63.878937</td>\n",
       "      <td>1616648007</td>\n",
       "      <td>1625170793</td>\n",
       "      <td>1625170793</td>\n",
       "      <td>...</td>\n",
       "      <td>[0. 0. 0. 0. 0. 0. 0. 0. 0. 0. 0. 0. 0.]</td>\n",
       "      <td>[ 66.83   54.723  63.536 ... 109.259  85.341  ...</td>\n",
       "      <td>26.031</td>\n",
       "      <td>19992.0</td>\n",
       "      <td>[[0. 0. 0. 0. 0. 0. 0. 0. 0. 0. 0. 0. 0.]\\n [0...</td>\n",
       "      <td>NaN</td>\n",
       "      <td>245.929</td>\n",
       "      <td>[ 780.577 1168.663 1851.417 1094.945  793.122 ...</td>\n",
       "      <td>54.408</td>\n",
       "      <td>[ 0.162  0.587  1.495 ... 45.639 43.86  40.177]</td>\n",
       "    </tr>\n",
       "    <tr>\n",
       "      <th>21</th>\n",
       "      <td>12</td>\n",
       "      <td>['Mining-Hammer', 'Vibration Severity: High', ...</td>\n",
       "      <td>ebf31fb2-9d36-37de-999c-3edb01f17fb2</td>\n",
       "      <td>9680</td>\n",
       "      <td>LOC__2__DAQ38060_06_03_05-1625170793.IDE</td>\n",
       "      <td>1519172</td>\n",
       "      <td>27.057647</td>\n",
       "      <td>1616640862</td>\n",
       "      <td>1625170793</td>\n",
       "      <td>1625170793</td>\n",
       "      <td>...</td>\n",
       "      <td>[0. 0. 0. 0. 0. 0. 0. 0. 0. 0. 0. 0. 0.]</td>\n",
       "      <td>[ 33.294  29.392  19.99  ... 175.123 162.043  ...</td>\n",
       "      <td>25.616</td>\n",
       "      <td>19998.0</td>\n",
       "      <td>[[0. 0. 0. 0. 0. 0. 0. 0. 0. 0. 0. 0. 0.]\\n [0...</td>\n",
       "      <td>NaN</td>\n",
       "      <td>266.815</td>\n",
       "      <td>[1073.684  940.873 1063.151  957.568  975.826 ...</td>\n",
       "      <td>131.087</td>\n",
       "      <td>[ 0.371  0.409  0.787 ... 27.577 24.778 37.822]</td>\n",
       "    </tr>\n",
       "    <tr>\n",
       "      <th>22</th>\n",
       "      <td>13</td>\n",
       "      <td>['Shock Severity: Very Low', 'Vibration Severi...</td>\n",
       "      <td>e39fe506-f39a-3301-866c-9da6a30f9577</td>\n",
       "      <td>9695</td>\n",
       "      <td>Tilt_000000-1625156721.IDE</td>\n",
       "      <td>719403</td>\n",
       "      <td>23.355163</td>\n",
       "      <td>1625156461</td>\n",
       "      <td>1625156722</td>\n",
       "      <td>1625156722</td>\n",
       "      <td>...</td>\n",
       "      <td>[0. 0. 0. 0. 0. 0. 0. 0. 0. 0. 0. 0. 0.]</td>\n",
       "      <td>[0.033 0.029 0.03  ...   nan   nan   nan]</td>\n",
       "      <td>26.410</td>\n",
       "      <td>5000.0</td>\n",
       "      <td>[[0. 0. 0. 0. 0. 0. 0. 0. 0. 0. 0. 0. 0.]\\n [0...</td>\n",
       "      <td>NaN</td>\n",
       "      <td>11.933</td>\n",
       "      <td>[142.046 273.02  216.774 129.288  54.011  24.0...</td>\n",
       "      <td>0.044</td>\n",
       "      <td>[0.008 0.02  0.03  ...   nan   nan   nan]</td>\n",
       "    </tr>\n",
       "  </tbody>\n",
       "</table>\n",
       "<p>23 rows × 29 columns</p>\n",
       "</div>"
      ],
      "text/plain": [
       "    Unnamed: 0                                               tags  \\\n",
       "0            0  ['Vibration Severity: High', 'Shock Severity: ...   \n",
       "1            1  ['Vibration Severity: Low', 'Acceleration Seve...   \n",
       "2            2  ['Shock Severity: Very Low', 'Acceleration Sev...   \n",
       "3            3  ['Shock Severity: Very Low', 'Acceleration Sev...   \n",
       "4            4  ['Shock Severity: Very Low', 'Acceleration Sev...   \n",
       "5            5  ['Drive-Test', 'Vibration Severity: Very Low',...   \n",
       "6            6  ['Acceleration Severity: High', 'Shock Severit...   \n",
       "7            7  ['Vibration Severity: High', 'Acceleration Sev...   \n",
       "8            8  ['Shock Severity: Very Low', 'Acceleration Sev...   \n",
       "9            0  ['Shock Severity: Medium', 'Acceleration Sever...   \n",
       "10           1  ['Vibration Severity: High', 'Shock Severity: ...   \n",
       "11           2  ['Acceleration Severity: High', 'Shock Severit...   \n",
       "12           3  ['Shock Severity: Very Low', 'Vibration Severi...   \n",
       "13           4                                     ['Big-Mining']   \n",
       "14           5  ['Shock Severity: Medium', 'Acceleration Sever...   \n",
       "15           6                                           ['Ford']   \n",
       "16           7  ['Shock Severity: High', 'Vibration Severity: ...   \n",
       "17           8  ['Shock Severity: Very Low', 'Surgical', 'Vibr...   \n",
       "18           9  ['Acceleration Severity: High', 'Shock Severit...   \n",
       "19          10  ['Vibration Severity: High', 'Shock Severity: ...   \n",
       "20          11  ['Vibration Severity: High', 'Mining-Hammer', ...   \n",
       "21          12  ['Mining-Hammer', 'Vibration Severity: High', ...   \n",
       "22          13  ['Shock Severity: Very Low', 'Vibration Severi...   \n",
       "\n",
       "                                      id  serial_number_id  \\\n",
       "0   6cd65b8f-1187-3bf9-a431-35304a7f84b7              9695   \n",
       "1   342aacc3-cd91-3124-8cf4-0c7fece6dcab              9316   \n",
       "2   5c5592b4-2dbc-3124-be8f-c7179eecda49             10118   \n",
       "3   ef832e45-50fa-38b4-8f2c-91769f7cef6e             10309   \n",
       "4   0396df6a-56b0-3e43-8e46-e1d0d7485ff5              9295   \n",
       "5   5e293d65-c9e0-3aa1-9098-c9762e8fbc86             11046   \n",
       "6   cd81c850-9e22-3b20-b570-7411e7a144cc                 0   \n",
       "7   0931a23d-3515-3d11-bf97-bb9b2c7863be             11162   \n",
       "8   c1571d10-2329-3aea-aa5d-223733f6336b             10916   \n",
       "9   8ce137ff-904e-314b-81ff-ff2cea279db2              9874   \n",
       "10  9d7383fb-40d6-34c1-9d0c-37f11c29bff5             11456   \n",
       "11  5f35ed7f-ff55-36a3-896d-276f06a0e340             11456   \n",
       "12  f7240576-47c6-34b8-bdce-3fe11bb5f1c6             11046   \n",
       "13  c2c234cc-8055-3fba-ad8b-446c4b6f85dc              5120   \n",
       "14  69fd99f8-3d85-38ec-9f5d-67e9d7b7e868             10030   \n",
       "15  f38361de-30a7-3dda-aec4-e87a67d1ecbb              9695   \n",
       "16  40718e01-f422-3926-a22d-acf6daf1182b              7530   \n",
       "17  ee6dc613-d422-347c-8119-f122a55ac81a             11071   \n",
       "18  f642d81c-7fe7-37fd-ab75-d493fc0556db              9680   \n",
       "19  0c0e92ae-214a-32bd-a5bb-5e1801da06b2              9680   \n",
       "20  99ac47a8-63c2-38a4-8d92-508698eb3752              9680   \n",
       "21  ebf31fb2-9d36-37de-999c-3edb01f17fb2              9680   \n",
       "22  e39fe506-f39a-3301-866c-9da6a30f9577              9695   \n",
       "\n",
       "                                            file_name  file_size  \\\n",
       "0                        train-passing-1632515146.ide   10492602   \n",
       "1                          Seat-Top_09-1632515145.ide   10491986   \n",
       "2                               Bolted-1632515144.ide    6149229   \n",
       "3                             RMI-2000-1632515143.ide    5909632   \n",
       "4                         Seat-Base_21-1632515142.ide    5248836   \n",
       "5                        Drive-Home_01-1632515142.ide    3632799   \n",
       "6                         HiTest-Shock-1632515141.ide    2655894   \n",
       "7                    Calibration-Shake-1632515140.IDE    2218130   \n",
       "8                    FUSE_HSTAB_000005-1632515139.ide     537562   \n",
       "9                           Coffee_002-1631722736.IDE   60959516   \n",
       "10                  100_Joules_900_lbs-1629315313.ide    1596714   \n",
       "11                   50_Joules_900_lbs-1629315312.ide    1597750   \n",
       "12                       Drive-Home_07-1626805222.ide   36225758   \n",
       "13                  Mining-SSX28803_06-1626457584.IDE  402920686   \n",
       "14  200922_Moto_Max_Run5_Control_Larry-1626297441.ide    4780893   \n",
       "15                           ford_f150-1626296561.ide   96097059   \n",
       "16                Motorcycle-Car-Crash-1626277852.ide   10489262   \n",
       "17                 surgical-instrument-1625829182.ide     541994   \n",
       "18           LOC__3__DAQ41551_11_01_02-1625170795.IDE    2343292   \n",
       "19              LOC__4__DAQ41551_15_05-1625170794.IDE    6927958   \n",
       "20              LOC__6__DAQ41551_25_01-1625170793.IDE    8664238   \n",
       "21           LOC__2__DAQ38060_06_03_05-1625170793.IDE    1519172   \n",
       "22                         Tilt_000000-1625156721.IDE     719403   \n",
       "\n",
       "    recording_length  recording_ts  created_ts  modified_ts  ...  \\\n",
       "0          73.612335    1588184436  1632515146   1632515146  ...   \n",
       "1         172.704559    1575800071  1632515146   1632515146  ...   \n",
       "2          29.396118    1619041447  1632515144   1632515144  ...   \n",
       "3          60.250855            24  1632515143   1632515143  ...   \n",
       "4          83.092255    1575800210  1632515143   1632515143  ...   \n",
       "5          61.755371    1616178955  1632515142   1632515142  ...   \n",
       "6          20.331848    1543936974  1632515141   1632515141  ...   \n",
       "7          27.882690    1621278970  1632515140   1632515140  ...   \n",
       "8          18.491791    1619108004  1632515140   1632515140  ...   \n",
       "9         769.299896     952113744  1631722736   1631722736  ...   \n",
       "10         20.200623    1627327315  1629315313   1629315313  ...   \n",
       "11         20.201752    1627329399  1629315312   1629315312  ...   \n",
       "12        634.732056    1616182557  1626805222   1626805222  ...   \n",
       "13       3238.119202    1536953304  1626457585   1626457585  ...   \n",
       "14         99.325134    1600818455  1626297442   1626297442  ...   \n",
       "15       1207.678344    1584142508  1626296561   1626296561  ...   \n",
       "16        151.069336    1562173372  1626277852   1626277852  ...   \n",
       "17          6.951172    1619110390  1625829183   1625829183  ...   \n",
       "18         28.456818    1616645179  1625170795   1625170795  ...   \n",
       "19         64.486054    1616646130  1625170794   1625170794  ...   \n",
       "20         63.878937    1616648007  1625170793   1625170793  ...   \n",
       "21         27.057647    1616640862  1625170793   1625170793  ...   \n",
       "22         23.355163    1625156461  1625156722   1625156722  ...   \n",
       "\n",
       "                                   psdResultantOctave  \\\n",
       "0   [0.    0.    0.001 0.024 0.032 0.008 0.008 0.0...   \n",
       "1   [0.    0.    0.    0.    0.    0.    0.    0. ...   \n",
       "2   [0.001 0.003 0.004 0.064 0.106 0.102 0.103 0.1...   \n",
       "3   [0.    0.    0.    0.    0.001 0.002 0.002 0.0...   \n",
       "4   [0.002 0.007 0.008 0.005 0.002 0.005 0.002 0.0...   \n",
       "5   [0.    0.    0.    0.    0.001 0.    0.    0. ...   \n",
       "6   [0.304 0.486 0.399 0.454 0.347 0.178 0.185 0.1...   \n",
       "7   [2.100e-02 7.400e-02 7.500e-02 4.900e-02 5.500...   \n",
       "8   [ 0.  0.  0.  0.  0.  0.  0. nan nan nan nan n...   \n",
       "9                                                  []   \n",
       "10  [0.071 0.201 0.293 0.686 1.565 1.028 0.856 0.9...   \n",
       "11  [0.074 0.196 0.327 0.874 1.521 0.917 0.478 0.7...   \n",
       "12                                                 []   \n",
       "13                                                 []   \n",
       "14           [0. 0. 0. 0. 0. 0. 0. 0. 0. 0. 0. 0. 0.]   \n",
       "15                                                 []   \n",
       "16           [0. 0. 0. 0. 0. 0. 0. 0. 0. 0. 0. 0. 0.]   \n",
       "17           [0. 0. 0. 0. 0. 0. 0. 0. 0. 0. 0. 0. 0.]   \n",
       "18           [0. 0. 0. 0. 0. 0. 0. 0. 0. 0. 0. 0. 0.]   \n",
       "19           [0. 0. 0. 0. 0. 0. 0. 0. 0. 0. 0. 0. 0.]   \n",
       "20           [0. 0. 0. 0. 0. 0. 0. 0. 0. 0. 0. 0. 0.]   \n",
       "21           [0. 0. 0. 0. 0. 0. 0. 0. 0. 0. 0. 0. 0.]   \n",
       "22           [0. 0. 0. 0. 0. 0. 0. 0. 0. 0. 0. 0. 0.]   \n",
       "\n",
       "                                     samplePeakWindow  temperatureMeanFull  \\\n",
       "0           [1.241 1.682 1.944 ... 1.852 1.372 1.473]               23.432   \n",
       "1           [0.035 0.024 0.007 ... 0.067 0.031 0.022]               20.133   \n",
       "2           [5.283 5.944 5.19  ... 0.356 1.079 1.099]               23.172   \n",
       "3           [0.13  0.118 0.1   ... 0.105 0.1   0.066]               21.806   \n",
       "4           [0.084 0.137 0.178 ... 0.347 0.324 0.286]               17.820   \n",
       "5           [0.001 0.003 0.002 ... 0.011 0.008 0.006]               29.061   \n",
       "6     [ 3.088  3.019  2.893 ... 73.794 40.005 24.303]                9.538   \n",
       "7           [7.486 7.496 7.137 ... 7.997 8.294 7.806]               24.545   \n",
       "8           [0.001 0.001 0.001 ... 0.002 0.006 0.006]               18.874   \n",
       "9                                                  []               24.540   \n",
       "10          [0.304 0.274 0.296 ... 1.513 1.313 0.652]               24.180   \n",
       "11          [0.304 0.21  0.098 ... 0.693 1.418 0.932]               24.175   \n",
       "12                                                 []               28.832   \n",
       "13                                                 []                  NaN   \n",
       "14    [ 3.34  13.586 10.13  ...  7.737  8.978  8.672]                  NaN   \n",
       "15                                                 []                  NaN   \n",
       "16          [3.371 3.641 3.649 ... 6.168 7.463 7.04 ]               26.989   \n",
       "17          [0.667 0.549 1.05  ... 1.109 2.86  3.99 ]               21.889   \n",
       "18  [ 32.679  24.925  30.95  ... 106.511  27.715  ...               33.452   \n",
       "19    [14.223 14.903 24.949 ... 11.482 21.319 32.766]               32.202   \n",
       "20  [ 66.83   54.723  63.536 ... 109.259  85.341  ...               26.031   \n",
       "21  [ 33.294  29.392  19.99  ... 175.123 162.043  ...               25.616   \n",
       "22          [0.033 0.029 0.03  ...   nan   nan   nan]               26.410   \n",
       "\n",
       "    accelerometerSampleRateFull  \\\n",
       "0                       19999.0   \n",
       "1                        3996.0   \n",
       "2                       20000.0   \n",
       "3                        4012.0   \n",
       "4                        4046.0   \n",
       "5                        4013.0   \n",
       "6                       19997.0   \n",
       "7                        5000.0   \n",
       "8                         504.0   \n",
       "9                        5000.0   \n",
       "10                       5000.0   \n",
       "11                       5000.0   \n",
       "12                       4012.0   \n",
       "13                          NaN   \n",
       "14                       4014.0   \n",
       "15                          NaN   \n",
       "16                      10001.0   \n",
       "17                       5000.0   \n",
       "18                      20010.0   \n",
       "19                      19992.0   \n",
       "20                      19992.0   \n",
       "21                      19998.0   \n",
       "22                       5000.0   \n",
       "\n",
       "                                       psdPeakOctaves  microphonoeRMSFull  \\\n",
       "0   [0.    0.    0.001 0.131 0.229 0.045 0.05  0.0...                 NaN   \n",
       "1   [0.    0.    0.001 0.    0.001 0.    0.001 0.0...                 NaN   \n",
       "2   [0.001 0.004 0.004 0.128 0.125 0.119 0.14  0.1...              25.507   \n",
       "3   [0.    0.    0.    0.    0.008 0.01  0.019 0.0...               1.754   \n",
       "4   [0.002 0.014 0.016 0.013 0.003 0.031 0.003 0.0...                 NaN   \n",
       "5   [0.    0.    0.    0.    0.007 0.    0.    0. ...              16.243   \n",
       "6   [ 0.304  0.537  0.479  0.811  0.624  0.554  0....                 NaN   \n",
       "7   [2.10000e-02 9.00000e-02 8.60000e-02 6.30000e-...                 NaN   \n",
       "8   [0.    0.    0.001 0.001 0.    0.    0.      n...                 NaN   \n",
       "9                                                  []                 NaN   \n",
       "10  [0.071 0.236 0.311 1.148 2.036 1.791 1.498 2.7...                 NaN   \n",
       "11  [0.074 0.232 0.392 1.258 2.045 2.049 1.143 2.3...                 NaN   \n",
       "12                                                 []              16.277   \n",
       "13                                                 []                 NaN   \n",
       "14  [[0. 0. 0. 0. 0. 0. 0. 0. 0. 0. 0. 0. 0.]\\n [0...                 NaN   \n",
       "15                                                 []                 NaN   \n",
       "16  [[0. 0. 0. 0. 0. 0. 0. 0. 0. 0. 0. 0. 0.]\\n [0...                 NaN   \n",
       "17  [[0. 0. 0. 0. 0. 0. 0. 0. 0. 0. 0. 0. 0.]\\n [0...                 NaN   \n",
       "18  [[0. 0. 0. 0. 0. 0. 0. 0. 0. 0. 0. 0. 0.]\\n [0...                 NaN   \n",
       "19  [[0. 0. 0. 0. 0. 0. 0. 0. 0. 0. 0. 0. 0.]\\n [0...                 NaN   \n",
       "20  [[0. 0. 0. 0. 0. 0. 0. 0. 0. 0. 0. 0. 0.]\\n [0...                 NaN   \n",
       "21  [[0. 0. 0. 0. 0. 0. 0. 0. 0. 0. 0. 0. 0.]\\n [0...                 NaN   \n",
       "22  [[0. 0. 0. 0. 0. 0. 0. 0. 0. 0. 0. 0. 0.]\\n [0...                 NaN   \n",
       "\n",
       "    gyroscopeRMSFull                                pvssResultantOctave  \\\n",
       "0              0.625  [ 10.333  25.952  30.28   52.579 172.174 275.8...   \n",
       "1              0.945  [53.648 76.9   43.779 44.217 39.351 11.396  9....   \n",
       "2                NaN  [ 26.338  27.636  64.097 102.733 107.863 124.6...   \n",
       "3              1.557  [ 0.854  1.159  1.662  1.815  3.022  6.139 10....   \n",
       "4              2.666  [ 74.73   79.453 101.006 151.429  73.92   53.4...   \n",
       "5              0.363  [ 2.336  7.82  19.078 10.384 16.975 38.326 18....   \n",
       "6                NaN  [1378.444 2470.941 4368.78  5033.327 5814.49  ...   \n",
       "7              0.166  [ 90.703 198.651 288.078 183.492 126.417 108.4...   \n",
       "8              0.749  [ 2.617  6.761 17.326 34.067 28.721  9.469 15....   \n",
       "9              0.082                                                 []   \n",
       "10            24.471  [ 194.741  361.14   563.488  855.34  1712.229 ...   \n",
       "11            15.575  [ 242.141  388.517  736.981 1070.284 1843.722 ...   \n",
       "12             4.185                                                 []   \n",
       "13               NaN                                                 []   \n",
       "14               NaN  [165.983 278.352 717.331 950.513 697.421 358.6...   \n",
       "15               NaN                                                 []   \n",
       "16            19.810  [ 2723.153  5977.212 11406.291 12031.397  7337...   \n",
       "17             4.647  [ 88.953 171.73  104.303  71.184  58.883  72.4...   \n",
       "18           286.217  [2333.993 5629.021 6417.48  5802.895 3692.838 ...   \n",
       "19           277.654  [ 378.188  748.336 1054.232 1115.369  756.905 ...   \n",
       "20           245.929  [ 780.577 1168.663 1851.417 1094.945  793.122 ...   \n",
       "21           266.815  [1073.684  940.873 1063.151  957.568  975.826 ...   \n",
       "22            11.933  [142.046 273.02  216.774 129.288  54.011  24.0...   \n",
       "\n",
       "    accelerationRMSFull                                    psdResultant1Hz  \n",
       "0                 0.372                            [0. 0. 0. ... 0. 0. 0.]  \n",
       "1                 0.082                      [ 0.  0.  0. ... nan nan nan]  \n",
       "2                 2.398          [0.    0.001 0.002 ... 0.002 0.001 0.001]  \n",
       "3                 0.079                      [ 0.  0.  0. ... nan nan nan]  \n",
       "4                 0.130          [0.001 0.002 0.002 ...   nan   nan   nan]  \n",
       "5                 0.021                      [ 0.  0.  0. ... nan nan nan]  \n",
       "6                11.645          [0.157 0.304 0.42  ... 0.001 0.01  0.013]  \n",
       "7                 2.712          [0.007 0.021 0.055 ...   nan   nan   nan]  \n",
       "8                 0.011                      [ 0.  0.  0. ... nan nan nan]  \n",
       "9                 0.059                                                 []  \n",
       "10                2.877          [0.02  0.071 0.138 ...   nan   nan   nan]  \n",
       "11                2.423          [0.021 0.074 0.137 ...   nan   nan   nan]  \n",
       "12                0.097                                                 []  \n",
       "13                  NaN                                                 []  \n",
       "14                3.528          [0.006 0.016 0.04  ...   nan   nan   nan]  \n",
       "15                  NaN                                                 []  \n",
       "16                1.732  [2.250e-01 8.390e-01 2.025e+00 ... 1.000e-03 1...  \n",
       "17                1.568          [0.001 0.001 0.003 ...   nan   nan   nan]  \n",
       "18               94.197    [ 2.09   8.631 18.196 ... 69.565 59.225 60.801]  \n",
       "19               46.528    [ 0.072  0.302  0.816 ... 52.226 45.804 52.81 ]  \n",
       "20               54.408    [ 0.162  0.587  1.495 ... 45.639 43.86  40.177]  \n",
       "21              131.087    [ 0.371  0.409  0.787 ... 27.577 24.778 37.822]  \n",
       "22                0.044          [0.008 0.02  0.03  ...   nan   nan   nan]  \n",
       "\n",
       "[23 rows x 29 columns]"
      ]
     },
     "execution_count": 110,
     "metadata": {},
     "output_type": "execute_result"
    }
   ],
   "source": [
    "df = pd.read_csv('https://info.endaq.com/hubfs/data/endaq-cloud-table.csv')\n",
    "df"
   ]
  },
  {
   "cell_type": "code",
   "execution_count": 111,
   "metadata": {
    "colab": {
     "base_uri": "https://localhost:8080/"
    },
    "id": "TrjLYbATgLDi",
    "outputId": "7154d956-2df0-4a0b-a04c-b70ac0be95fb"
   },
   "outputs": [
    {
     "data": {
      "text/plain": [
       "Index(['Unnamed: 0', 'tags', 'id', 'serial_number_id', 'file_name',\n",
       "       'file_size', 'recording_length', 'recording_ts', 'created_ts',\n",
       "       'modified_ts', 'device', 'gpsLocationFull', 'velocityRMSFull',\n",
       "       'gpsSpeedFull', 'pressureMeanFull', 'samplePeakStartTime',\n",
       "       'displacementRMSFull', 'psuedoVelocityPeakFull', 'accelerationPeakFull',\n",
       "       'psdResultantOctave', 'samplePeakWindow', 'temperatureMeanFull',\n",
       "       'accelerometerSampleRateFull', 'psdPeakOctaves', 'microphonoeRMSFull',\n",
       "       'gyroscopeRMSFull', 'pvssResultantOctave', 'accelerationRMSFull',\n",
       "       'psdResultant1Hz'],\n",
       "      dtype='object')"
      ]
     },
     "execution_count": 111,
     "metadata": {},
     "output_type": "execute_result"
    }
   ],
   "source": [
    "df.columns"
   ]
  },
  {
   "cell_type": "markdown",
   "metadata": {
    "id": "8y82HS2h8c0G"
   },
   "source": [
    "There's a lot of data here! So we'll focus on just a handful of columns and convert the time in seconds to a datetime object."
   ]
  },
  {
   "cell_type": "code",
   "execution_count": 112,
   "metadata": {
    "colab": {
     "base_uri": "https://localhost:8080/",
     "height": 1000
    },
    "id": "6BUQuL9kgQ6z",
    "outputId": "72f73913-1a57-4804-f69d-c92882d80b0b"
   },
   "outputs": [
    {
     "data": {
      "text/html": [
       "<div>\n",
       "<style scoped>\n",
       "    .dataframe tbody tr th:only-of-type {\n",
       "        vertical-align: middle;\n",
       "    }\n",
       "\n",
       "    .dataframe tbody tr th {\n",
       "        vertical-align: top;\n",
       "    }\n",
       "\n",
       "    .dataframe thead th {\n",
       "        text-align: right;\n",
       "    }\n",
       "</style>\n",
       "<table border=\"1\" class=\"dataframe\">\n",
       "  <thead>\n",
       "    <tr style=\"text-align: right;\">\n",
       "      <th></th>\n",
       "      <th>serial_number_id</th>\n",
       "      <th>file_name</th>\n",
       "      <th>file_size</th>\n",
       "      <th>recording_length</th>\n",
       "      <th>recording_ts</th>\n",
       "      <th>accelerationPeakFull</th>\n",
       "      <th>psuedoVelocityPeakFull</th>\n",
       "      <th>accelerationRMSFull</th>\n",
       "      <th>velocityRMSFull</th>\n",
       "      <th>displacementRMSFull</th>\n",
       "      <th>pressureMeanFull</th>\n",
       "      <th>temperatureMeanFull</th>\n",
       "    </tr>\n",
       "  </thead>\n",
       "  <tbody>\n",
       "    <tr>\n",
       "      <th>11</th>\n",
       "      <td>11456</td>\n",
       "      <td>50_Joules_900_lbs-1629315312.ide</td>\n",
       "      <td>1597750</td>\n",
       "      <td>20.201752</td>\n",
       "      <td>2021-07-26 19:56:39</td>\n",
       "      <td>231.212</td>\n",
       "      <td>2907.650</td>\n",
       "      <td>2.423</td>\n",
       "      <td>54.507</td>\n",
       "      <td>1.066</td>\n",
       "      <td>98.745</td>\n",
       "      <td>24.175</td>\n",
       "    </tr>\n",
       "    <tr>\n",
       "      <th>10</th>\n",
       "      <td>11456</td>\n",
       "      <td>100_Joules_900_lbs-1629315313.ide</td>\n",
       "      <td>1596714</td>\n",
       "      <td>20.200623</td>\n",
       "      <td>2021-07-26 19:21:55</td>\n",
       "      <td>218.634</td>\n",
       "      <td>2961.256</td>\n",
       "      <td>2.877</td>\n",
       "      <td>53.875</td>\n",
       "      <td>1.053</td>\n",
       "      <td>98.751</td>\n",
       "      <td>24.180</td>\n",
       "    </tr>\n",
       "    <tr>\n",
       "      <th>22</th>\n",
       "      <td>9695</td>\n",
       "      <td>Tilt_000000-1625156721.IDE</td>\n",
       "      <td>719403</td>\n",
       "      <td>23.355163</td>\n",
       "      <td>2021-07-01 16:21:01</td>\n",
       "      <td>0.378</td>\n",
       "      <td>330.946</td>\n",
       "      <td>0.044</td>\n",
       "      <td>11.042</td>\n",
       "      <td>0.345</td>\n",
       "      <td>99.510</td>\n",
       "      <td>26.410</td>\n",
       "    </tr>\n",
       "    <tr>\n",
       "      <th>7</th>\n",
       "      <td>11162</td>\n",
       "      <td>Calibration-Shake-1632515140.IDE</td>\n",
       "      <td>2218130</td>\n",
       "      <td>27.882690</td>\n",
       "      <td>2021-05-17 19:16:10</td>\n",
       "      <td>8.783</td>\n",
       "      <td>1142.282</td>\n",
       "      <td>2.712</td>\n",
       "      <td>46.346</td>\n",
       "      <td>0.617</td>\n",
       "      <td>102.251</td>\n",
       "      <td>24.545</td>\n",
       "    </tr>\n",
       "    <tr>\n",
       "      <th>17</th>\n",
       "      <td>11071</td>\n",
       "      <td>surgical-instrument-1625829182.ide</td>\n",
       "      <td>541994</td>\n",
       "      <td>6.951172</td>\n",
       "      <td>2021-04-22 16:53:10</td>\n",
       "      <td>5.739</td>\n",
       "      <td>387.312</td>\n",
       "      <td>1.568</td>\n",
       "      <td>24.418</td>\n",
       "      <td>0.242</td>\n",
       "      <td>99.879</td>\n",
       "      <td>21.889</td>\n",
       "    </tr>\n",
       "    <tr>\n",
       "      <th>8</th>\n",
       "      <td>10916</td>\n",
       "      <td>FUSE_HSTAB_000005-1632515139.ide</td>\n",
       "      <td>537562</td>\n",
       "      <td>18.491791</td>\n",
       "      <td>2021-04-22 16:13:24</td>\n",
       "      <td>0.202</td>\n",
       "      <td>53.375</td>\n",
       "      <td>0.011</td>\n",
       "      <td>1.504</td>\n",
       "      <td>0.036</td>\n",
       "      <td>90.706</td>\n",
       "      <td>18.874</td>\n",
       "    </tr>\n",
       "    <tr>\n",
       "      <th>2</th>\n",
       "      <td>10118</td>\n",
       "      <td>Bolted-1632515144.ide</td>\n",
       "      <td>6149229</td>\n",
       "      <td>29.396118</td>\n",
       "      <td>2021-04-21 21:44:07</td>\n",
       "      <td>15.343</td>\n",
       "      <td>148.276</td>\n",
       "      <td>2.398</td>\n",
       "      <td>14.101</td>\n",
       "      <td>0.154</td>\n",
       "      <td>99.652</td>\n",
       "      <td>23.172</td>\n",
       "    </tr>\n",
       "    <tr>\n",
       "      <th>20</th>\n",
       "      <td>9680</td>\n",
       "      <td>LOC__6__DAQ41551_25_01-1625170793.IDE</td>\n",
       "      <td>8664238</td>\n",
       "      <td>63.878937</td>\n",
       "      <td>2021-03-25 04:53:27</td>\n",
       "      <td>564.966</td>\n",
       "      <td>2357.599</td>\n",
       "      <td>54.408</td>\n",
       "      <td>145.223</td>\n",
       "      <td>3.088</td>\n",
       "      <td>102.875</td>\n",
       "      <td>26.031</td>\n",
       "    </tr>\n",
       "    <tr>\n",
       "      <th>19</th>\n",
       "      <td>9680</td>\n",
       "      <td>LOC__4__DAQ41551_15_05-1625170794.IDE</td>\n",
       "      <td>6927958</td>\n",
       "      <td>64.486054</td>\n",
       "      <td>2021-03-25 04:22:10</td>\n",
       "      <td>585.863</td>\n",
       "      <td>2153.020</td>\n",
       "      <td>46.528</td>\n",
       "      <td>148.591</td>\n",
       "      <td>2.615</td>\n",
       "      <td>105.750</td>\n",
       "      <td>32.202</td>\n",
       "    </tr>\n",
       "    <tr>\n",
       "      <th>18</th>\n",
       "      <td>9680</td>\n",
       "      <td>LOC__3__DAQ41551_11_01_02-1625170795.IDE</td>\n",
       "      <td>2343292</td>\n",
       "      <td>28.456818</td>\n",
       "      <td>2021-03-25 04:06:19</td>\n",
       "      <td>622.040</td>\n",
       "      <td>8907.949</td>\n",
       "      <td>94.197</td>\n",
       "      <td>372.049</td>\n",
       "      <td>9.580</td>\n",
       "      <td>105.682</td>\n",
       "      <td>33.452</td>\n",
       "    </tr>\n",
       "    <tr>\n",
       "      <th>21</th>\n",
       "      <td>9680</td>\n",
       "      <td>LOC__2__DAQ38060_06_03_05-1625170793.IDE</td>\n",
       "      <td>1519172</td>\n",
       "      <td>27.057647</td>\n",
       "      <td>2021-03-25 02:54:22</td>\n",
       "      <td>995.670</td>\n",
       "      <td>5845.241</td>\n",
       "      <td>131.087</td>\n",
       "      <td>323.287</td>\n",
       "      <td>3.144</td>\n",
       "      <td>104.473</td>\n",
       "      <td>25.616</td>\n",
       "    </tr>\n",
       "    <tr>\n",
       "      <th>12</th>\n",
       "      <td>11046</td>\n",
       "      <td>Drive-Home_07-1626805222.ide</td>\n",
       "      <td>36225758</td>\n",
       "      <td>634.732056</td>\n",
       "      <td>2021-03-19 19:35:57</td>\n",
       "      <td>23.805</td>\n",
       "      <td>356.128</td>\n",
       "      <td>0.097</td>\n",
       "      <td>6.117</td>\n",
       "      <td>0.135</td>\n",
       "      <td>101.988</td>\n",
       "      <td>28.832</td>\n",
       "    </tr>\n",
       "    <tr>\n",
       "      <th>5</th>\n",
       "      <td>11046</td>\n",
       "      <td>Drive-Home_01-1632515142.ide</td>\n",
       "      <td>3632799</td>\n",
       "      <td>61.755371</td>\n",
       "      <td>2021-03-19 18:35:55</td>\n",
       "      <td>0.479</td>\n",
       "      <td>40.197</td>\n",
       "      <td>0.021</td>\n",
       "      <td>1.081</td>\n",
       "      <td>0.023</td>\n",
       "      <td>100.284</td>\n",
       "      <td>29.061</td>\n",
       "    </tr>\n",
       "    <tr>\n",
       "      <th>14</th>\n",
       "      <td>10030</td>\n",
       "      <td>200922_Moto_Max_Run5_Control_Larry-1626297441.ide</td>\n",
       "      <td>4780893</td>\n",
       "      <td>99.325134</td>\n",
       "      <td>2020-09-22 23:47:35</td>\n",
       "      <td>29.864</td>\n",
       "      <td>1280.349</td>\n",
       "      <td>3.528</td>\n",
       "      <td>55.569</td>\n",
       "      <td>1.060</td>\n",
       "      <td>NaN</td>\n",
       "      <td>NaN</td>\n",
       "    </tr>\n",
       "    <tr>\n",
       "      <th>0</th>\n",
       "      <td>9695</td>\n",
       "      <td>train-passing-1632515146.ide</td>\n",
       "      <td>10492602</td>\n",
       "      <td>73.612335</td>\n",
       "      <td>2020-04-29 18:20:36</td>\n",
       "      <td>7.513</td>\n",
       "      <td>419.944</td>\n",
       "      <td>0.372</td>\n",
       "      <td>6.969</td>\n",
       "      <td>0.061</td>\n",
       "      <td>104.620</td>\n",
       "      <td>23.432</td>\n",
       "    </tr>\n",
       "    <tr>\n",
       "      <th>15</th>\n",
       "      <td>9695</td>\n",
       "      <td>ford_f150-1626296561.ide</td>\n",
       "      <td>96097059</td>\n",
       "      <td>1207.678344</td>\n",
       "      <td>2020-03-13 23:35:08</td>\n",
       "      <td>NaN</td>\n",
       "      <td>NaN</td>\n",
       "      <td>NaN</td>\n",
       "      <td>NaN</td>\n",
       "      <td>NaN</td>\n",
       "      <td>NaN</td>\n",
       "      <td>NaN</td>\n",
       "    </tr>\n",
       "    <tr>\n",
       "      <th>4</th>\n",
       "      <td>9295</td>\n",
       "      <td>Seat-Base_21-1632515142.ide</td>\n",
       "      <td>5248836</td>\n",
       "      <td>83.092255</td>\n",
       "      <td>2019-12-08 10:16:50</td>\n",
       "      <td>1.085</td>\n",
       "      <td>251.009</td>\n",
       "      <td>0.130</td>\n",
       "      <td>7.318</td>\n",
       "      <td>0.190</td>\n",
       "      <td>98.930</td>\n",
       "      <td>17.820</td>\n",
       "    </tr>\n",
       "    <tr>\n",
       "      <th>1</th>\n",
       "      <td>9316</td>\n",
       "      <td>Seat-Top_09-1632515145.ide</td>\n",
       "      <td>10491986</td>\n",
       "      <td>172.704559</td>\n",
       "      <td>2019-12-08 10:14:31</td>\n",
       "      <td>1.105</td>\n",
       "      <td>86.595</td>\n",
       "      <td>0.082</td>\n",
       "      <td>1.535</td>\n",
       "      <td>0.040</td>\n",
       "      <td>98.733</td>\n",
       "      <td>20.133</td>\n",
       "    </tr>\n",
       "    <tr>\n",
       "      <th>16</th>\n",
       "      <td>7530</td>\n",
       "      <td>Motorcycle-Car-Crash-1626277852.ide</td>\n",
       "      <td>10489262</td>\n",
       "      <td>151.069336</td>\n",
       "      <td>2019-07-03 17:02:52</td>\n",
       "      <td>480.737</td>\n",
       "      <td>12831.590</td>\n",
       "      <td>1.732</td>\n",
       "      <td>143.437</td>\n",
       "      <td>3.988</td>\n",
       "      <td>100.363</td>\n",
       "      <td>26.989</td>\n",
       "    </tr>\n",
       "    <tr>\n",
       "      <th>6</th>\n",
       "      <td>0</td>\n",
       "      <td>HiTest-Shock-1632515141.ide</td>\n",
       "      <td>2655894</td>\n",
       "      <td>20.331848</td>\n",
       "      <td>2018-12-04 15:22:54</td>\n",
       "      <td>619.178</td>\n",
       "      <td>6058.093</td>\n",
       "      <td>11.645</td>\n",
       "      <td>167.835</td>\n",
       "      <td>4.055</td>\n",
       "      <td>101.126</td>\n",
       "      <td>9.538</td>\n",
       "    </tr>\n",
       "    <tr>\n",
       "      <th>13</th>\n",
       "      <td>5120</td>\n",
       "      <td>Mining-SSX28803_06-1626457584.IDE</td>\n",
       "      <td>402920686</td>\n",
       "      <td>3238.119202</td>\n",
       "      <td>2018-09-14 19:28:24</td>\n",
       "      <td>NaN</td>\n",
       "      <td>NaN</td>\n",
       "      <td>NaN</td>\n",
       "      <td>NaN</td>\n",
       "      <td>NaN</td>\n",
       "      <td>NaN</td>\n",
       "      <td>NaN</td>\n",
       "    </tr>\n",
       "    <tr>\n",
       "      <th>9</th>\n",
       "      <td>9874</td>\n",
       "      <td>Coffee_002-1631722736.IDE</td>\n",
       "      <td>60959516</td>\n",
       "      <td>769.299896</td>\n",
       "      <td>2000-03-03 20:02:24</td>\n",
       "      <td>2.698</td>\n",
       "      <td>1338.396</td>\n",
       "      <td>0.059</td>\n",
       "      <td>5.606</td>\n",
       "      <td>0.104</td>\n",
       "      <td>100.339</td>\n",
       "      <td>24.540</td>\n",
       "    </tr>\n",
       "    <tr>\n",
       "      <th>3</th>\n",
       "      <td>10309</td>\n",
       "      <td>RMI-2000-1632515143.ide</td>\n",
       "      <td>5909632</td>\n",
       "      <td>60.250855</td>\n",
       "      <td>1970-01-01 00:00:24</td>\n",
       "      <td>0.332</td>\n",
       "      <td>17.287</td>\n",
       "      <td>0.079</td>\n",
       "      <td>1.247</td>\n",
       "      <td>0.005</td>\n",
       "      <td>100.467</td>\n",
       "      <td>21.806</td>\n",
       "    </tr>\n",
       "  </tbody>\n",
       "</table>\n",
       "</div>"
      ],
      "text/plain": [
       "    serial_number_id                                          file_name  \\\n",
       "11             11456                   50_Joules_900_lbs-1629315312.ide   \n",
       "10             11456                  100_Joules_900_lbs-1629315313.ide   \n",
       "22              9695                         Tilt_000000-1625156721.IDE   \n",
       "7              11162                   Calibration-Shake-1632515140.IDE   \n",
       "17             11071                 surgical-instrument-1625829182.ide   \n",
       "8              10916                   FUSE_HSTAB_000005-1632515139.ide   \n",
       "2              10118                              Bolted-1632515144.ide   \n",
       "20              9680              LOC__6__DAQ41551_25_01-1625170793.IDE   \n",
       "19              9680              LOC__4__DAQ41551_15_05-1625170794.IDE   \n",
       "18              9680           LOC__3__DAQ41551_11_01_02-1625170795.IDE   \n",
       "21              9680           LOC__2__DAQ38060_06_03_05-1625170793.IDE   \n",
       "12             11046                       Drive-Home_07-1626805222.ide   \n",
       "5              11046                       Drive-Home_01-1632515142.ide   \n",
       "14             10030  200922_Moto_Max_Run5_Control_Larry-1626297441.ide   \n",
       "0               9695                       train-passing-1632515146.ide   \n",
       "15              9695                           ford_f150-1626296561.ide   \n",
       "4               9295                        Seat-Base_21-1632515142.ide   \n",
       "1               9316                         Seat-Top_09-1632515145.ide   \n",
       "16              7530                Motorcycle-Car-Crash-1626277852.ide   \n",
       "6                  0                        HiTest-Shock-1632515141.ide   \n",
       "13              5120                  Mining-SSX28803_06-1626457584.IDE   \n",
       "9               9874                          Coffee_002-1631722736.IDE   \n",
       "3              10309                            RMI-2000-1632515143.ide   \n",
       "\n",
       "    file_size  recording_length        recording_ts  accelerationPeakFull  \\\n",
       "11    1597750         20.201752 2021-07-26 19:56:39               231.212   \n",
       "10    1596714         20.200623 2021-07-26 19:21:55               218.634   \n",
       "22     719403         23.355163 2021-07-01 16:21:01                 0.378   \n",
       "7     2218130         27.882690 2021-05-17 19:16:10                 8.783   \n",
       "17     541994          6.951172 2021-04-22 16:53:10                 5.739   \n",
       "8      537562         18.491791 2021-04-22 16:13:24                 0.202   \n",
       "2     6149229         29.396118 2021-04-21 21:44:07                15.343   \n",
       "20    8664238         63.878937 2021-03-25 04:53:27               564.966   \n",
       "19    6927958         64.486054 2021-03-25 04:22:10               585.863   \n",
       "18    2343292         28.456818 2021-03-25 04:06:19               622.040   \n",
       "21    1519172         27.057647 2021-03-25 02:54:22               995.670   \n",
       "12   36225758        634.732056 2021-03-19 19:35:57                23.805   \n",
       "5     3632799         61.755371 2021-03-19 18:35:55                 0.479   \n",
       "14    4780893         99.325134 2020-09-22 23:47:35                29.864   \n",
       "0    10492602         73.612335 2020-04-29 18:20:36                 7.513   \n",
       "15   96097059       1207.678344 2020-03-13 23:35:08                   NaN   \n",
       "4     5248836         83.092255 2019-12-08 10:16:50                 1.085   \n",
       "1    10491986        172.704559 2019-12-08 10:14:31                 1.105   \n",
       "16   10489262        151.069336 2019-07-03 17:02:52               480.737   \n",
       "6     2655894         20.331848 2018-12-04 15:22:54               619.178   \n",
       "13  402920686       3238.119202 2018-09-14 19:28:24                   NaN   \n",
       "9    60959516        769.299896 2000-03-03 20:02:24                 2.698   \n",
       "3     5909632         60.250855 1970-01-01 00:00:24                 0.332   \n",
       "\n",
       "    psuedoVelocityPeakFull  accelerationRMSFull  velocityRMSFull  \\\n",
       "11                2907.650                2.423           54.507   \n",
       "10                2961.256                2.877           53.875   \n",
       "22                 330.946                0.044           11.042   \n",
       "7                 1142.282                2.712           46.346   \n",
       "17                 387.312                1.568           24.418   \n",
       "8                   53.375                0.011            1.504   \n",
       "2                  148.276                2.398           14.101   \n",
       "20                2357.599               54.408          145.223   \n",
       "19                2153.020               46.528          148.591   \n",
       "18                8907.949               94.197          372.049   \n",
       "21                5845.241              131.087          323.287   \n",
       "12                 356.128                0.097            6.117   \n",
       "5                   40.197                0.021            1.081   \n",
       "14                1280.349                3.528           55.569   \n",
       "0                  419.944                0.372            6.969   \n",
       "15                     NaN                  NaN              NaN   \n",
       "4                  251.009                0.130            7.318   \n",
       "1                   86.595                0.082            1.535   \n",
       "16               12831.590                1.732          143.437   \n",
       "6                 6058.093               11.645          167.835   \n",
       "13                     NaN                  NaN              NaN   \n",
       "9                 1338.396                0.059            5.606   \n",
       "3                   17.287                0.079            1.247   \n",
       "\n",
       "    displacementRMSFull  pressureMeanFull  temperatureMeanFull  \n",
       "11                1.066            98.745               24.175  \n",
       "10                1.053            98.751               24.180  \n",
       "22                0.345            99.510               26.410  \n",
       "7                 0.617           102.251               24.545  \n",
       "17                0.242            99.879               21.889  \n",
       "8                 0.036            90.706               18.874  \n",
       "2                 0.154            99.652               23.172  \n",
       "20                3.088           102.875               26.031  \n",
       "19                2.615           105.750               32.202  \n",
       "18                9.580           105.682               33.452  \n",
       "21                3.144           104.473               25.616  \n",
       "12                0.135           101.988               28.832  \n",
       "5                 0.023           100.284               29.061  \n",
       "14                1.060               NaN                  NaN  \n",
       "0                 0.061           104.620               23.432  \n",
       "15                  NaN               NaN                  NaN  \n",
       "4                 0.190            98.930               17.820  \n",
       "1                 0.040            98.733               20.133  \n",
       "16                3.988           100.363               26.989  \n",
       "6                 4.055           101.126                9.538  \n",
       "13                  NaN               NaN                  NaN  \n",
       "9                 0.104           100.339               24.540  \n",
       "3                 0.005           100.467               21.806  "
      ]
     },
     "execution_count": 112,
     "metadata": {},
     "output_type": "execute_result"
    }
   ],
   "source": [
    "df = df[['serial_number_id', 'file_name', 'file_size', 'recording_length', 'recording_ts',\n",
    "         'accelerationPeakFull', 'psuedoVelocityPeakFull', 'accelerationRMSFull',\n",
    "         'velocityRMSFull', 'displacementRMSFull', 'pressureMeanFull', 'temperatureMeanFull']].copy()\n",
    "\n",
    "df['recording_ts'] = pd.to_datetime(df['recording_ts'], unit='s')\n",
    "df = df.sort_values(by=['recording_ts'], ascending=False)\n",
    "df"
   ]
  },
  {
   "cell_type": "markdown",
   "metadata": {
    "id": "5ZLSvcMZ8t6-"
   },
   "source": [
    "Filtering is made simple with boolean expressions that can be combined. There is also a method to sort_values by columns/series."
   ]
  },
  {
   "cell_type": "code",
   "execution_count": 113,
   "metadata": {
    "colab": {
     "base_uri": "https://localhost:8080/",
     "height": 702
    },
    "id": "3oe0EgX0gyfz",
    "outputId": "7008ef1a-9396-4183-c7c8-23f08a4b050f"
   },
   "outputs": [
    {
     "data": {
      "text/html": [
       "<div>\n",
       "<style scoped>\n",
       "    .dataframe tbody tr th:only-of-type {\n",
       "        vertical-align: middle;\n",
       "    }\n",
       "\n",
       "    .dataframe tbody tr th {\n",
       "        vertical-align: top;\n",
       "    }\n",
       "\n",
       "    .dataframe thead th {\n",
       "        text-align: right;\n",
       "    }\n",
       "</style>\n",
       "<table border=\"1\" class=\"dataframe\">\n",
       "  <thead>\n",
       "    <tr style=\"text-align: right;\">\n",
       "      <th></th>\n",
       "      <th>serial_number_id</th>\n",
       "      <th>file_name</th>\n",
       "      <th>file_size</th>\n",
       "      <th>recording_length</th>\n",
       "      <th>recording_ts</th>\n",
       "      <th>accelerationPeakFull</th>\n",
       "      <th>psuedoVelocityPeakFull</th>\n",
       "      <th>accelerationRMSFull</th>\n",
       "      <th>velocityRMSFull</th>\n",
       "      <th>displacementRMSFull</th>\n",
       "      <th>pressureMeanFull</th>\n",
       "      <th>temperatureMeanFull</th>\n",
       "    </tr>\n",
       "  </thead>\n",
       "  <tbody>\n",
       "    <tr>\n",
       "      <th>11</th>\n",
       "      <td>11456</td>\n",
       "      <td>50_Joules_900_lbs-1629315312.ide</td>\n",
       "      <td>1597750</td>\n",
       "      <td>20.201752</td>\n",
       "      <td>2021-07-26 19:56:39</td>\n",
       "      <td>231.212</td>\n",
       "      <td>2907.650</td>\n",
       "      <td>2.423</td>\n",
       "      <td>54.507</td>\n",
       "      <td>1.066</td>\n",
       "      <td>98.745</td>\n",
       "      <td>24.175</td>\n",
       "    </tr>\n",
       "    <tr>\n",
       "      <th>10</th>\n",
       "      <td>11456</td>\n",
       "      <td>100_Joules_900_lbs-1629315313.ide</td>\n",
       "      <td>1596714</td>\n",
       "      <td>20.200623</td>\n",
       "      <td>2021-07-26 19:21:55</td>\n",
       "      <td>218.634</td>\n",
       "      <td>2961.256</td>\n",
       "      <td>2.877</td>\n",
       "      <td>53.875</td>\n",
       "      <td>1.053</td>\n",
       "      <td>98.751</td>\n",
       "      <td>24.180</td>\n",
       "    </tr>\n",
       "    <tr>\n",
       "      <th>7</th>\n",
       "      <td>11162</td>\n",
       "      <td>Calibration-Shake-1632515140.IDE</td>\n",
       "      <td>2218130</td>\n",
       "      <td>27.882690</td>\n",
       "      <td>2021-05-17 19:16:10</td>\n",
       "      <td>8.783</td>\n",
       "      <td>1142.282</td>\n",
       "      <td>2.712</td>\n",
       "      <td>46.346</td>\n",
       "      <td>0.617</td>\n",
       "      <td>102.251</td>\n",
       "      <td>24.545</td>\n",
       "    </tr>\n",
       "    <tr>\n",
       "      <th>17</th>\n",
       "      <td>11071</td>\n",
       "      <td>surgical-instrument-1625829182.ide</td>\n",
       "      <td>541994</td>\n",
       "      <td>6.951172</td>\n",
       "      <td>2021-04-22 16:53:10</td>\n",
       "      <td>5.739</td>\n",
       "      <td>387.312</td>\n",
       "      <td>1.568</td>\n",
       "      <td>24.418</td>\n",
       "      <td>0.242</td>\n",
       "      <td>99.879</td>\n",
       "      <td>21.889</td>\n",
       "    </tr>\n",
       "    <tr>\n",
       "      <th>12</th>\n",
       "      <td>11046</td>\n",
       "      <td>Drive-Home_07-1626805222.ide</td>\n",
       "      <td>36225758</td>\n",
       "      <td>634.732056</td>\n",
       "      <td>2021-03-19 19:35:57</td>\n",
       "      <td>23.805</td>\n",
       "      <td>356.128</td>\n",
       "      <td>0.097</td>\n",
       "      <td>6.117</td>\n",
       "      <td>0.135</td>\n",
       "      <td>101.988</td>\n",
       "      <td>28.832</td>\n",
       "    </tr>\n",
       "    <tr>\n",
       "      <th>5</th>\n",
       "      <td>11046</td>\n",
       "      <td>Drive-Home_01-1632515142.ide</td>\n",
       "      <td>3632799</td>\n",
       "      <td>61.755371</td>\n",
       "      <td>2021-03-19 18:35:55</td>\n",
       "      <td>0.479</td>\n",
       "      <td>40.197</td>\n",
       "      <td>0.021</td>\n",
       "      <td>1.081</td>\n",
       "      <td>0.023</td>\n",
       "      <td>100.284</td>\n",
       "      <td>29.061</td>\n",
       "    </tr>\n",
       "    <tr>\n",
       "      <th>8</th>\n",
       "      <td>10916</td>\n",
       "      <td>FUSE_HSTAB_000005-1632515139.ide</td>\n",
       "      <td>537562</td>\n",
       "      <td>18.491791</td>\n",
       "      <td>2021-04-22 16:13:24</td>\n",
       "      <td>0.202</td>\n",
       "      <td>53.375</td>\n",
       "      <td>0.011</td>\n",
       "      <td>1.504</td>\n",
       "      <td>0.036</td>\n",
       "      <td>90.706</td>\n",
       "      <td>18.874</td>\n",
       "    </tr>\n",
       "    <tr>\n",
       "      <th>2</th>\n",
       "      <td>10118</td>\n",
       "      <td>Bolted-1632515144.ide</td>\n",
       "      <td>6149229</td>\n",
       "      <td>29.396118</td>\n",
       "      <td>2021-04-21 21:44:07</td>\n",
       "      <td>15.343</td>\n",
       "      <td>148.276</td>\n",
       "      <td>2.398</td>\n",
       "      <td>14.101</td>\n",
       "      <td>0.154</td>\n",
       "      <td>99.652</td>\n",
       "      <td>23.172</td>\n",
       "    </tr>\n",
       "    <tr>\n",
       "      <th>22</th>\n",
       "      <td>9695</td>\n",
       "      <td>Tilt_000000-1625156721.IDE</td>\n",
       "      <td>719403</td>\n",
       "      <td>23.355163</td>\n",
       "      <td>2021-07-01 16:21:01</td>\n",
       "      <td>0.378</td>\n",
       "      <td>330.946</td>\n",
       "      <td>0.044</td>\n",
       "      <td>11.042</td>\n",
       "      <td>0.345</td>\n",
       "      <td>99.510</td>\n",
       "      <td>26.410</td>\n",
       "    </tr>\n",
       "    <tr>\n",
       "      <th>19</th>\n",
       "      <td>9680</td>\n",
       "      <td>LOC__4__DAQ41551_15_05-1625170794.IDE</td>\n",
       "      <td>6927958</td>\n",
       "      <td>64.486054</td>\n",
       "      <td>2021-03-25 04:22:10</td>\n",
       "      <td>585.863</td>\n",
       "      <td>2153.020</td>\n",
       "      <td>46.528</td>\n",
       "      <td>148.591</td>\n",
       "      <td>2.615</td>\n",
       "      <td>105.750</td>\n",
       "      <td>32.202</td>\n",
       "    </tr>\n",
       "    <tr>\n",
       "      <th>20</th>\n",
       "      <td>9680</td>\n",
       "      <td>LOC__6__DAQ41551_25_01-1625170793.IDE</td>\n",
       "      <td>8664238</td>\n",
       "      <td>63.878937</td>\n",
       "      <td>2021-03-25 04:53:27</td>\n",
       "      <td>564.966</td>\n",
       "      <td>2357.599</td>\n",
       "      <td>54.408</td>\n",
       "      <td>145.223</td>\n",
       "      <td>3.088</td>\n",
       "      <td>102.875</td>\n",
       "      <td>26.031</td>\n",
       "    </tr>\n",
       "    <tr>\n",
       "      <th>21</th>\n",
       "      <td>9680</td>\n",
       "      <td>LOC__2__DAQ38060_06_03_05-1625170793.IDE</td>\n",
       "      <td>1519172</td>\n",
       "      <td>27.057647</td>\n",
       "      <td>2021-03-25 02:54:22</td>\n",
       "      <td>995.670</td>\n",
       "      <td>5845.241</td>\n",
       "      <td>131.087</td>\n",
       "      <td>323.287</td>\n",
       "      <td>3.144</td>\n",
       "      <td>104.473</td>\n",
       "      <td>25.616</td>\n",
       "    </tr>\n",
       "    <tr>\n",
       "      <th>18</th>\n",
       "      <td>9680</td>\n",
       "      <td>LOC__3__DAQ41551_11_01_02-1625170795.IDE</td>\n",
       "      <td>2343292</td>\n",
       "      <td>28.456818</td>\n",
       "      <td>2021-03-25 04:06:19</td>\n",
       "      <td>622.040</td>\n",
       "      <td>8907.949</td>\n",
       "      <td>94.197</td>\n",
       "      <td>372.049</td>\n",
       "      <td>9.580</td>\n",
       "      <td>105.682</td>\n",
       "      <td>33.452</td>\n",
       "    </tr>\n",
       "  </tbody>\n",
       "</table>\n",
       "</div>"
      ],
      "text/plain": [
       "    serial_number_id                                 file_name  file_size  \\\n",
       "11             11456          50_Joules_900_lbs-1629315312.ide    1597750   \n",
       "10             11456         100_Joules_900_lbs-1629315313.ide    1596714   \n",
       "7              11162          Calibration-Shake-1632515140.IDE    2218130   \n",
       "17             11071        surgical-instrument-1625829182.ide     541994   \n",
       "12             11046              Drive-Home_07-1626805222.ide   36225758   \n",
       "5              11046              Drive-Home_01-1632515142.ide    3632799   \n",
       "8              10916          FUSE_HSTAB_000005-1632515139.ide     537562   \n",
       "2              10118                     Bolted-1632515144.ide    6149229   \n",
       "22              9695                Tilt_000000-1625156721.IDE     719403   \n",
       "19              9680     LOC__4__DAQ41551_15_05-1625170794.IDE    6927958   \n",
       "20              9680     LOC__6__DAQ41551_25_01-1625170793.IDE    8664238   \n",
       "21              9680  LOC__2__DAQ38060_06_03_05-1625170793.IDE    1519172   \n",
       "18              9680  LOC__3__DAQ41551_11_01_02-1625170795.IDE    2343292   \n",
       "\n",
       "    recording_length        recording_ts  accelerationPeakFull  \\\n",
       "11         20.201752 2021-07-26 19:56:39               231.212   \n",
       "10         20.200623 2021-07-26 19:21:55               218.634   \n",
       "7          27.882690 2021-05-17 19:16:10                 8.783   \n",
       "17          6.951172 2021-04-22 16:53:10                 5.739   \n",
       "12        634.732056 2021-03-19 19:35:57                23.805   \n",
       "5          61.755371 2021-03-19 18:35:55                 0.479   \n",
       "8          18.491791 2021-04-22 16:13:24                 0.202   \n",
       "2          29.396118 2021-04-21 21:44:07                15.343   \n",
       "22         23.355163 2021-07-01 16:21:01                 0.378   \n",
       "19         64.486054 2021-03-25 04:22:10               585.863   \n",
       "20         63.878937 2021-03-25 04:53:27               564.966   \n",
       "21         27.057647 2021-03-25 02:54:22               995.670   \n",
       "18         28.456818 2021-03-25 04:06:19               622.040   \n",
       "\n",
       "    psuedoVelocityPeakFull  accelerationRMSFull  velocityRMSFull  \\\n",
       "11                2907.650                2.423           54.507   \n",
       "10                2961.256                2.877           53.875   \n",
       "7                 1142.282                2.712           46.346   \n",
       "17                 387.312                1.568           24.418   \n",
       "12                 356.128                0.097            6.117   \n",
       "5                   40.197                0.021            1.081   \n",
       "8                   53.375                0.011            1.504   \n",
       "2                  148.276                2.398           14.101   \n",
       "22                 330.946                0.044           11.042   \n",
       "19                2153.020               46.528          148.591   \n",
       "20                2357.599               54.408          145.223   \n",
       "21                5845.241              131.087          323.287   \n",
       "18                8907.949               94.197          372.049   \n",
       "\n",
       "    displacementRMSFull  pressureMeanFull  temperatureMeanFull  \n",
       "11                1.066            98.745               24.175  \n",
       "10                1.053            98.751               24.180  \n",
       "7                 0.617           102.251               24.545  \n",
       "17                0.242            99.879               21.889  \n",
       "12                0.135           101.988               28.832  \n",
       "5                 0.023           100.284               29.061  \n",
       "8                 0.036            90.706               18.874  \n",
       "2                 0.154            99.652               23.172  \n",
       "22                0.345            99.510               26.410  \n",
       "19                2.615           105.750               32.202  \n",
       "20                3.088           102.875               26.031  \n",
       "21                3.144           104.473               25.616  \n",
       "18                9.580           105.682               33.452  "
      ]
     },
     "execution_count": 113,
     "metadata": {},
     "output_type": "execute_result"
    }
   ],
   "source": [
    "mask = df.recording_ts > pd.to_datetime('2021-01-01')\n",
    "df[mask].sort_values(by=['serial_number_id'], ascending=False)"
   ]
  },
  {
   "cell_type": "code",
   "execution_count": 114,
   "metadata": {
    "colab": {
     "base_uri": "https://localhost:8080/",
     "height": 361
    },
    "id": "ug9gKCKQhW7K",
    "outputId": "f8b91607-0276-4304-a49c-add75954c180"
   },
   "outputs": [
    {
     "data": {
      "text/html": [
       "<div>\n",
       "<style scoped>\n",
       "    .dataframe tbody tr th:only-of-type {\n",
       "        vertical-align: middle;\n",
       "    }\n",
       "\n",
       "    .dataframe tbody tr th {\n",
       "        vertical-align: top;\n",
       "    }\n",
       "\n",
       "    .dataframe thead th {\n",
       "        text-align: right;\n",
       "    }\n",
       "</style>\n",
       "<table border=\"1\" class=\"dataframe\">\n",
       "  <thead>\n",
       "    <tr style=\"text-align: right;\">\n",
       "      <th></th>\n",
       "      <th>serial_number_id</th>\n",
       "      <th>file_name</th>\n",
       "      <th>file_size</th>\n",
       "      <th>recording_length</th>\n",
       "      <th>recording_ts</th>\n",
       "      <th>accelerationPeakFull</th>\n",
       "      <th>psuedoVelocityPeakFull</th>\n",
       "      <th>accelerationRMSFull</th>\n",
       "      <th>velocityRMSFull</th>\n",
       "      <th>displacementRMSFull</th>\n",
       "      <th>pressureMeanFull</th>\n",
       "      <th>temperatureMeanFull</th>\n",
       "    </tr>\n",
       "  </thead>\n",
       "  <tbody>\n",
       "    <tr>\n",
       "      <th>21</th>\n",
       "      <td>9680</td>\n",
       "      <td>LOC__2__DAQ38060_06_03_05-1625170793.IDE</td>\n",
       "      <td>1519172</td>\n",
       "      <td>27.057647</td>\n",
       "      <td>2021-03-25 02:54:22</td>\n",
       "      <td>995.670</td>\n",
       "      <td>5845.241</td>\n",
       "      <td>131.087</td>\n",
       "      <td>323.287</td>\n",
       "      <td>3.144</td>\n",
       "      <td>104.473</td>\n",
       "      <td>25.616</td>\n",
       "    </tr>\n",
       "    <tr>\n",
       "      <th>18</th>\n",
       "      <td>9680</td>\n",
       "      <td>LOC__3__DAQ41551_11_01_02-1625170795.IDE</td>\n",
       "      <td>2343292</td>\n",
       "      <td>28.456818</td>\n",
       "      <td>2021-03-25 04:06:19</td>\n",
       "      <td>622.040</td>\n",
       "      <td>8907.949</td>\n",
       "      <td>94.197</td>\n",
       "      <td>372.049</td>\n",
       "      <td>9.580</td>\n",
       "      <td>105.682</td>\n",
       "      <td>33.452</td>\n",
       "    </tr>\n",
       "    <tr>\n",
       "      <th>19</th>\n",
       "      <td>9680</td>\n",
       "      <td>LOC__4__DAQ41551_15_05-1625170794.IDE</td>\n",
       "      <td>6927958</td>\n",
       "      <td>64.486054</td>\n",
       "      <td>2021-03-25 04:22:10</td>\n",
       "      <td>585.863</td>\n",
       "      <td>2153.020</td>\n",
       "      <td>46.528</td>\n",
       "      <td>148.591</td>\n",
       "      <td>2.615</td>\n",
       "      <td>105.750</td>\n",
       "      <td>32.202</td>\n",
       "    </tr>\n",
       "    <tr>\n",
       "      <th>20</th>\n",
       "      <td>9680</td>\n",
       "      <td>LOC__6__DAQ41551_25_01-1625170793.IDE</td>\n",
       "      <td>8664238</td>\n",
       "      <td>63.878937</td>\n",
       "      <td>2021-03-25 04:53:27</td>\n",
       "      <td>564.966</td>\n",
       "      <td>2357.599</td>\n",
       "      <td>54.408</td>\n",
       "      <td>145.223</td>\n",
       "      <td>3.088</td>\n",
       "      <td>102.875</td>\n",
       "      <td>26.031</td>\n",
       "    </tr>\n",
       "    <tr>\n",
       "      <th>11</th>\n",
       "      <td>11456</td>\n",
       "      <td>50_Joules_900_lbs-1629315312.ide</td>\n",
       "      <td>1597750</td>\n",
       "      <td>20.201752</td>\n",
       "      <td>2021-07-26 19:56:39</td>\n",
       "      <td>231.212</td>\n",
       "      <td>2907.650</td>\n",
       "      <td>2.423</td>\n",
       "      <td>54.507</td>\n",
       "      <td>1.066</td>\n",
       "      <td>98.745</td>\n",
       "      <td>24.175</td>\n",
       "    </tr>\n",
       "    <tr>\n",
       "      <th>10</th>\n",
       "      <td>11456</td>\n",
       "      <td>100_Joules_900_lbs-1629315313.ide</td>\n",
       "      <td>1596714</td>\n",
       "      <td>20.200623</td>\n",
       "      <td>2021-07-26 19:21:55</td>\n",
       "      <td>218.634</td>\n",
       "      <td>2961.256</td>\n",
       "      <td>2.877</td>\n",
       "      <td>53.875</td>\n",
       "      <td>1.053</td>\n",
       "      <td>98.751</td>\n",
       "      <td>24.180</td>\n",
       "    </tr>\n",
       "  </tbody>\n",
       "</table>\n",
       "</div>"
      ],
      "text/plain": [
       "    serial_number_id                                 file_name  file_size  \\\n",
       "21              9680  LOC__2__DAQ38060_06_03_05-1625170793.IDE    1519172   \n",
       "18              9680  LOC__3__DAQ41551_11_01_02-1625170795.IDE    2343292   \n",
       "19              9680     LOC__4__DAQ41551_15_05-1625170794.IDE    6927958   \n",
       "20              9680     LOC__6__DAQ41551_25_01-1625170793.IDE    8664238   \n",
       "11             11456          50_Joules_900_lbs-1629315312.ide    1597750   \n",
       "10             11456         100_Joules_900_lbs-1629315313.ide    1596714   \n",
       "\n",
       "    recording_length        recording_ts  accelerationPeakFull  \\\n",
       "21         27.057647 2021-03-25 02:54:22               995.670   \n",
       "18         28.456818 2021-03-25 04:06:19               622.040   \n",
       "19         64.486054 2021-03-25 04:22:10               585.863   \n",
       "20         63.878937 2021-03-25 04:53:27               564.966   \n",
       "11         20.201752 2021-07-26 19:56:39               231.212   \n",
       "10         20.200623 2021-07-26 19:21:55               218.634   \n",
       "\n",
       "    psuedoVelocityPeakFull  accelerationRMSFull  velocityRMSFull  \\\n",
       "21                5845.241              131.087          323.287   \n",
       "18                8907.949               94.197          372.049   \n",
       "19                2153.020               46.528          148.591   \n",
       "20                2357.599               54.408          145.223   \n",
       "11                2907.650                2.423           54.507   \n",
       "10                2961.256                2.877           53.875   \n",
       "\n",
       "    displacementRMSFull  pressureMeanFull  temperatureMeanFull  \n",
       "21                3.144           104.473               25.616  \n",
       "18                9.580           105.682               33.452  \n",
       "19                2.615           105.750               32.202  \n",
       "20                3.088           102.875               26.031  \n",
       "11                1.066            98.745               24.175  \n",
       "10                1.053            98.751               24.180  "
      ]
     },
     "execution_count": 114,
     "metadata": {},
     "output_type": "execute_result"
    }
   ],
   "source": [
    "mask = (df.recording_ts > pd.to_datetime('2021-01-01')) & (df.accelerationPeakFull > 100)\n",
    "df[mask].sort_values(by=['accelerationPeakFull'], ascending=False)"
   ]
  },
  {
   "cell_type": "markdown",
   "metadata": {
    "id": "oi-4q68J9DsC"
   },
   "source": [
    "Another preview to plotly, but visualizing dataframes is made easy, even with mixed types."
   ]
  },
  {
   "cell_type": "code",
   "execution_count": null,
   "metadata": {
    "colab": {
     "base_uri": "https://localhost:8080/",
     "height": 542
    },
    "id": "thTJcMe0kDWT",
    "outputId": "4458ed52-eda1-4d5b-a27d-84d38c0b77b6"
   },
   "outputs": [
    {
     "data": {
      "image/png": "[encoded data removed]",
      "text/plain": [
       "<Figure size 640x480 with 2 Axes>"
      ]
     },
     "metadata": {},
     "output_type": "display_data"
    }
   ],
   "source": [
    "fig, ax = plt.subplots()\n",
    "scatter = ax.scatter(df['recording_ts'],\n",
    "                     df['accelerationRMSFull'],\n",
    "                     s=df['recording_length'],\n",
    "                     c=df['serial_number_id'],\n",
    "                     cmap='viridis')\n",
    "plt.colorbar(scatter)\n",
    "plt.yscale('log')\n",
    "plt.show()"
   ]
  },
  {
   "cell_type": "markdown",
   "metadata": {
    "id": "LUM38k4F9O3T"
   },
   "source": [
    "Plotly automatically made my colors a colorbar because I specified it based on a numeric value. If instead I change the type to string and replot, we'll see discrete series for each device."
   ]
  },
  {
   "cell_type": "code",
   "execution_count": null,
   "metadata": {
    "colab": {
     "base_uri": "https://localhost:8080/",
     "height": 542
    },
    "id": "HmeGuksDd8PK",
    "outputId": "b895aea4-a574-4f33-e8fd-4ddd0056b7b7"
   },
   "outputs": [
    {
     "data": {
      "image/png": "[encoded data removed]",
      "text/plain": [
       "<Figure size 640x480 with 2 Axes>"
      ]
     },
     "metadata": {},
     "output_type": "display_data"
    }
   ],
   "source": [
    "\n",
    "df['device'] = df[\"serial_number_id\"].astype(str)\n",
    "\n",
    "fig, ax = plt.subplots()\n",
    "\n",
    "scatter = ax.scatter(df['recording_ts'],\n",
    "                     df['accelerationRMSFull'],\n",
    "                     s=df['recording_length'],\n",
    "                     c=df['serial_number_id'],\n",
    "                     cmap='viridis')\n",
    "\n",
    "plt.colorbar(scatter)\n",
    "plt.yscale('log')\n",
    "plt.show()"
   ]
  }
 ],
 "metadata": {
  "colab": {
   "provenance": [],
   "toc_visible": true
  },
  "kernelspec": {
   "display_name": "trien_project",
   "language": "python",
   "name": "python3"
  },
  "language_info": {
   "codemirror_mode": {
    "name": "ipython",
    "version": 3
   },
   "file_extension": ".py",
   "mimetype": "text/x-python",
   "name": "python",
   "nbconvert_exporter": "python",
   "pygments_lexer": "ipython3",
   "version": "3.10.6"
  }
 },
 "nbformat": 4,
 "nbformat_minor": 0
}
