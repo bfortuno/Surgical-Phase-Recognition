{
 "cells": [
  {
   "cell_type": "markdown",
   "id": "3213a9fe",
   "metadata": {},
   "source": [
    "# Week 1: Introduction to Python: Basics\n",
    "\n",
    "![Status](https://img.shields.io/static/v1.svg?label=Status&message=Finished&color=green)\n",
    "\n",
    "**Filled notebook:** \n",
    "[![View filled on Github](https://img.shields.io/static/v1.svg?logo=github&label=Repo&message=View%20On%20Github&color=lightgrey)](https://github.com/bfortuno/Surgical-Phase-Recognition/blob/main/docs/tutorial_notebooks/tutorial1/python_basics.ipynb)\n",
    "[![Open filled In Collab](https://colab.research.google.com/assets/colab-badge.svg)](https://colab.research.google.com/github/bfortuno/Surgical-Phase-Recognition/blob/main/docs/tutorial_notebooks/tutorial1/python_basics.ipynb)    \n",
    "**Author:** Benjamin I. Fortuno\n",
    "\n",
    "# 🐍 Python Basics for AI\n",
    "\n",
    "**📌 Learning Objectives:**\n",
    "- Understand Python fundamentals\n",
    "- Work with lists and dictionaries\n",
    "- Read and process CSV files\n",
    "- Compute basic statistics"
   ]
  },
  {
   "cell_type": "markdown",
   "id": "2d885f5e",
   "metadata": {},
   "source": [
    "## **1️⃣ Python Basics**\n",
    "### **1.1 Variables & Data Types**\n",
    "\n",
    "In Python, variables store values. Let's look at some common data types:"
   ]
  },
  {
   "cell_type": "code",
   "execution_count": 110,
   "id": "df8880d6",
   "metadata": {},
   "outputs": [
    {
     "name": "stdout",
     "output_type": "stream",
     "text": [
      "10 3.14 Hello, AI! True\n"
     ]
    }
   ],
   "source": [
    "# Integer\n",
    "a = 10\n",
    "\n",
    "# Float\n",
    "b = 3.14\n",
    "\n",
    "# String\n",
    "c = 'Hello, AI!'\n",
    "\n",
    "# Boolean\n",
    "d = True\n",
    "\n",
    "# Print values\n",
    "print(a, b, c, d)"
   ]
  },
  {
   "cell_type": "markdown",
   "id": "9e0d95e8",
   "metadata": {},
   "source": [
    "👉 **Task**: Try defining your own variables and print them."
   ]
  },
  {
   "cell_type": "markdown",
   "id": "70481563",
   "metadata": {},
   "source": [
    "### **1.2 Conditionals and Loops**\n",
    "\n",
    "**If-else statements** allow decision-making:"
   ]
  },
  {
   "cell_type": "code",
   "execution_count": 111,
   "id": "2226bbcb",
   "metadata": {},
   "outputs": [
    {
     "name": "stdout",
     "output_type": "stream",
     "text": [
      "Positive number\n"
     ]
    }
   ],
   "source": [
    "x = 5\n",
    "if x > 0:\n",
    "    print('Positive number')\n",
    "else:\n",
    "    print('Negative number')"
   ]
  },
  {
   "cell_type": "code",
   "execution_count": 112,
   "id": "6f49372f",
   "metadata": {},
   "outputs": [
    {
     "name": "stdout",
     "output_type": "stream",
     "text": [
      "0\n",
      "1\n",
      "2\n",
      "3\n",
      "4\n",
      "Count: 0\n",
      "Count: 1\n",
      "Count: 2\n"
     ]
    }
   ],
   "source": [
    "# For loop\n",
    "for i in range(5):\n",
    "    print(i)\n",
    "\n",
    "# While loop\n",
    "count = 0\n",
    "while count < 3:\n",
    "    print('Count:', count)\n",
    "    count += 1"
   ]
  },
  {
   "cell_type": "markdown",
   "id": "76cfd4d6",
   "metadata": {},
   "source": [
    "👉 **Task**: Modify the loops to print numbers from 1 to 10."
   ]
  },
  {
   "cell_type": "markdown",
   "id": "8860a99a",
   "metadata": {},
   "source": [
    "## **2️⃣ Functions in Python**\n",
    "\n",
    "Functions help organize code into reusable blocks:"
   ]
  },
  {
   "cell_type": "code",
   "execution_count": 113,
   "id": "429a0748",
   "metadata": {},
   "outputs": [
    {
     "name": "stdout",
     "output_type": "stream",
     "text": [
      "8\n"
     ]
    }
   ],
   "source": [
    "def add_numbers(x, y):\n",
    "    return x + y\n",
    "\n",
    "print(add_numbers(3, 5))"
   ]
  },
  {
   "cell_type": "markdown",
   "id": "b18cd385",
   "metadata": {},
   "source": [
    "👉 **Task**: Write a function that multiplies two numbers."
   ]
  },
  {
   "cell_type": "markdown",
   "id": "7b931b8a",
   "metadata": {},
   "source": [
    "## **3️⃣ Lists and Dictionaries**\n",
    "\n",
    "### **3.1 Lists (Arrays in Python)**"
   ]
  },
  {
   "cell_type": "code",
   "execution_count": 114,
   "id": "7def08b5",
   "metadata": {},
   "outputs": [
    {
     "name": "stdout",
     "output_type": "stream",
     "text": [
      "1\n",
      "1\n",
      "2\n",
      "3\n",
      "4\n",
      "5\n"
     ]
    }
   ],
   "source": [
    "numbers = [1, 2, 3, 4, 5]\n",
    "\n",
    "# Access elements\n",
    "print(numbers[0])\n",
    "\n",
    "# Loop through list\n",
    "for num in numbers:\n",
    "    print(num)"
   ]
  },
  {
   "cell_type": "markdown",
   "id": "4c32749a",
   "metadata": {},
   "source": [
    "### **3.2 Dictionaries (Key-Value Pairs)**"
   ]
  },
  {
   "cell_type": "code",
   "execution_count": 115,
   "id": "be9573f4",
   "metadata": {},
   "outputs": [
    {
     "name": "stdout",
     "output_type": "stream",
     "text": [
      "Alice\n"
     ]
    }
   ],
   "source": [
    "student = {'name': 'Alice', 'age': 22, 'grade': 'A'}\n",
    "\n",
    "print(student['name'])  # Output: Alice"
   ]
  },
  {
   "cell_type": "markdown",
   "id": "68086a57",
   "metadata": {},
   "source": [
    "👉 **Task**: Create a dictionary storing information about yourself and print it."
   ]
  },
  {
   "cell_type": "markdown",
   "id": "e73c2fb3",
   "metadata": {},
   "source": [
    "## **4️⃣ File Handling & CSV Processing**\n",
    "\n",
    "Let's read a CSV file using Python!"
   ]
  },
  {
   "cell_type": "code",
   "execution_count": 122,
   "id": "7999fee6",
   "metadata": {},
   "outputs": [
    {
     "name": "stdout",
     "output_type": "stream",
     "text": [
      "['Time', 'Temperature (C)']\n",
      "['08:00', '22.5']\n",
      "['09:00', '24.1']\n",
      "['10:00', '25.3']\n",
      "['11:00', '26.7']\n",
      "['12:00', '27.8']\n"
     ]
    }
   ],
   "source": [
    "import csv\n",
    "\n",
    "# Read a CSV file\n",
    "with open('data1.csv', 'r') as file:\n",
    "    reader = csv.reader(file)\n",
    "    for row in reader:\n",
    "        print(row)"
   ]
  },
  {
   "cell_type": "markdown",
   "id": "1c847f9b",
   "metadata": {},
   "source": [
    "Now, let's compute basic statistics:"
   ]
  },
  {
   "cell_type": "code",
   "execution_count": 129,
   "id": "096da635",
   "metadata": {},
   "outputs": [
    {
     "name": "stdout",
     "output_type": "stream",
     "text": [
      "         Math  Science  English\n",
      "Student                        \n",
      "Alice      85       89       75\n",
      "Bob        90       85       80\n",
      "Charlie    78       80       85\n",
      "David      92       95       90\n",
      "Eve        88       90       78\n"
     ]
    }
   ],
   "source": [
    "import pandas as pd\n",
    "\n",
    "# Load CSV into a DataFrame, considering first row as header and first column as index\n",
    "df = pd.read_csv('data2.csv', header=0, index_col=0)\n",
    "\n",
    "# Display DataFrame head\n",
    "print(df.head())"
   ]
  },
  {
   "cell_type": "code",
   "execution_count": 130,
   "id": "e93a2c1c",
   "metadata": {},
   "outputs": [
    {
     "name": "stdout",
     "output_type": "stream",
     "text": [
      "Mean: Math       86.6\n",
      "Science    87.8\n",
      "English    81.6\n",
      "dtype: float64\n",
      "Max: Math       92\n",
      "Science    95\n",
      "English    90\n",
      "dtype: int64\n",
      "Min: Math       78\n",
      "Science    80\n",
      "English    75\n",
      "dtype: int64\n"
     ]
    }
   ],
   "source": [
    "# Compute statistics\n",
    "print('Mean:', df.mean())\n",
    "print('Max:', df.max())\n",
    "print('Min:', df.min())"
   ]
  },
  {
   "cell_type": "markdown",
   "id": "e35949a4",
   "metadata": {},
   "source": [
    "👉 **Task**: Load a CSV file and compute its mean, max, and min values."
   ]
  },
  {
   "cell_type": "markdown",
   "id": "b448b029",
   "metadata": {},
   "source": [
    "## **✅ Final Task**\n",
    "1. Read a CSV file called `Surgical-deepnet.csv`\n",
    "2. Compute the mean, max, and min of each column.\n",
    "3. Print the results.\n",
    "\n",
    "💡 **Hint**: Use Pandas (`pd.read_csv()`) for easy CSV handling."
   ]
  },
  {
   "cell_type": "markdown",
   "id": "b99dcbf0",
   "metadata": {},
   "source": []
  }
 ],
 "metadata": {
  "language_info": {
   "name": "python"
  }
 },
 "nbformat": 4,
 "nbformat_minor": 5
}
